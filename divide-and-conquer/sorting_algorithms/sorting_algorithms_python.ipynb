{
 "cells": [
  {
   "cell_type": "markdown",
   "id": "c35b94bb-1f43-4ad3-93bf-e22bfd6654b6",
   "metadata": {},
   "source": [
    "# Problema de ordenación de arrays"
   ]
  },
  {
   "cell_type": "markdown",
   "id": "e94f92ed-2a0b-40f4-83b9-8a0a5437ca46",
   "metadata": {},
   "source": [
    "Problema: dado un array de enteros, devolver el array ordenado.\n",
    "\n",
    "Ejemplo de entrada:\n",
    "\n",
    "$\n",
    "\\begin{bmatrix}\n",
    "2 & 3 & 1 & 4\n",
    "\\end{bmatrix}\n",
    "$\n",
    "\n",
    "Ejemplo de salida\n",
    "\n",
    "$\n",
    "\\begin{bmatrix}\n",
    "1 & 2 & 3 & 4\n",
    "\\end{bmatrix}\n",
    "$\n",
    "\n"
   ]
  },
  {
   "cell_type": "markdown",
   "id": "20d56181-1158-413c-a2a3-93f119bc35f5",
   "metadata": {},
   "source": [
    "## Algoritmo clásico"
   ]
  },
  {
   "cell_type": "markdown",
   "id": "eed6a994-e770-4e4d-9741-5f1000edaec5",
   "metadata": {},
   "source": [
    "Para cada $i=0$ hasta $i=n$, hacer:\n",
    "- Paso 1. Calculamos el mínimo de `arr[i:n]`\n",
    "- Paso 2. Intercambiamos el mínimo e con el número de la posición `i`"
   ]
  },
  {
   "cell_type": "code",
   "execution_count": 9,
   "id": "ca5e449e-bbf2-4102-9d53-0c103c52020e",
   "metadata": {},
   "outputs": [],
   "source": [
    "def clasico(arr):\n",
    "    n = len(arr)\n",
    "    for i in range(0, n):\n",
    "        value_i = arr[i]\n",
    "        \n",
    "        min_index = -1\n",
    "        min_value = float('inf')\n",
    "\n",
    "        # calcualmos el mínimo de lo que queda del array\n",
    "        for j in range(i, n):\n",
    "            if arr[j] < min_value:\n",
    "                min_index = j\n",
    "                min_value = arr[j]\n",
    "\n",
    "        # intercambiamos\n",
    "        arr[i] = min_value\n",
    "        arr[min_index] = value_i"
   ]
  },
  {
   "cell_type": "code",
   "execution_count": 10,
   "id": "a6987c75-e1a5-4b18-be7f-5ab22846fd8d",
   "metadata": {},
   "outputs": [
    {
     "data": {
      "text/plain": [
       "[1, 2, 3, 4]"
      ]
     },
     "execution_count": 10,
     "metadata": {},
     "output_type": "execute_result"
    }
   ],
   "source": [
    "example = [2, 3, 1, 4]\n",
    "clasico(example)\n",
    "example"
   ]
  },
  {
   "cell_type": "markdown",
   "id": "6800db47-a64a-4c9a-a2bd-9813ee85f0f9",
   "metadata": {},
   "source": [
    "**Proposición.** El algoritmo clásico es $\\Theta(n^2)$."
   ]
  },
  {
   "cell_type": "markdown",
   "id": "0ffd882e-bf76-4575-b526-9466807ff961",
   "metadata": {},
   "source": [
    "*Demonstración.*\n",
    "\n",
    "```python\n",
    "def clasico(arr):\n",
    "    n = len(arr) #a_1\n",
    "    for i in range(0, n):\n",
    "        value_i = arr[i] # a_2\n",
    "        \n",
    "        min_index = -1 # a_2\n",
    "        min_value = float('inf') # a_2\n",
    "\n",
    "        # calcualmos el mínimo de lo que queda del array\n",
    "        for j in range(i, n):\n",
    "            if arr[j] < min_value: # a_3\n",
    "                min_index = j # a_3\n",
    "                min_value = arr[j] # a_3\n",
    " \n",
    "        # intercambiamos\n",
    "        arr[i] = min_value # a_2\n",
    "        arr[min_index] = value_i # a_2\n",
    "```\n",
    "\n",
    "$t(n)$ tiene una expresión así:\n",
    "\n",
    "$$a_1 + \\sum_{i=0}^{n-1}\\left(a_2\\sum_{j=i}^{n-1}a_3\\right) = a_4n^2 + a_5n + a_6$$\n",
    "\n",
    "Por tanto, $t(n)\\in\\Theta(n^2)$."
   ]
  },
  {
   "cell_type": "markdown",
   "id": "7cce68c5-097f-442c-9a33-f301a1268392",
   "metadata": {},
   "source": [
    "## MergeSort"
   ]
  },
  {
   "cell_type": "markdown",
   "id": "e41ad7a2-0791-40cc-9f75-7bf891ec4793",
   "metadata": {},
   "source": [
    "Idea principal, dados dos arrays ordenados, ¿cómo combinaríais ambos en un solo array?\n",
    "\n",
    "Ejemplo `[3, 8]` y `[1, 5]` en la pizarra :)"
   ]
  },
  {
   "cell_type": "code",
   "execution_count": 11,
   "id": "c9b16909-f560-48c8-8059-d9219cb7abf0",
   "metadata": {},
   "outputs": [],
   "source": [
    "def merge_sort(arr):\n",
    "    if len(arr) <= 1:\n",
    "        return arr  # Caso base: array ya está ordenado\n",
    "\n",
    "    # Partimos el array en 2 partes\n",
    "    mid = len(arr) // 2\n",
    "    left_half = merge_sort(arr[:mid])\n",
    "    right_half = merge_sort(arr[mid:])\n",
    "\n",
    "    # Combinamos los arrays\n",
    "    return merge(left_half, right_half)\n",
    "\n",
    "def merge(left, right):\n",
    "    sorted_array = []\n",
    "    i = j = 0\n",
    "\n",
    "    # Un puntero a cada array y vamos comparando poco a poco añadiendo uno de cada sitio\n",
    "    while i < len(left) and j < len(right):\n",
    "        if left[i] < right[j]:\n",
    "            sorted_array.append(left[i])\n",
    "            i += 1\n",
    "        else:\n",
    "            sorted_array.append(right[j])\n",
    "            j += 1\n",
    "\n",
    "    # Añadimos los elementos que queden\n",
    "    sorted_array.extend(left[i:])\n",
    "    sorted_array.extend(right[j:])\n",
    "\n",
    "    return sorted_array"
   ]
  },
  {
   "cell_type": "code",
   "execution_count": 12,
   "id": "2cf2c7c6-f89a-4afa-9587-c33ecc1c553f",
   "metadata": {},
   "outputs": [
    {
     "data": {
      "text/plain": [
       "[1, 2, 3, 4]"
      ]
     },
     "execution_count": 12,
     "metadata": {},
     "output_type": "execute_result"
    }
   ],
   "source": [
    "example = [2, 3, 1, 4]\n",
    "merge_sort(example)"
   ]
  },
  {
   "cell_type": "markdown",
   "id": "cecb0217-2ec1-4e04-b298-0b90a9145dc7",
   "metadata": {},
   "source": [
    "**Proposición.** MergeSort es $\\Theta(n\\log n)$."
   ]
  },
  {
   "cell_type": "markdown",
   "id": "96148a99-5598-4874-ba01-d8640ba59e16",
   "metadata": {},
   "source": [
    "*Demonstración.*\n",
    "\n",
    "Primero observamos que el merge es de la forma $t_{\\text{merge}}(n) = a_1n+a_2$ ya que, al fin y al cabo, se recorren dos arrays de longitud $n/2$. Por otro lado:\n",
    "\n",
    "```python\n",
    "def merge_sort(arr):\n",
    "    if len(arr) <= 1:\n",
    "        return arr  # Caso base: array ya está ordenado, constante\n",
    "\n",
    "    # Partimos el array en 2 partes\n",
    "    mid = len(arr) // 2\n",
    "    left_half = merge_sort(arr[:mid]) # t(n/2)\n",
    "    right_half = merge_sort(arr[mid:]) # t(n/2)\n",
    "\n",
    "    # Combinamos los arrays\n",
    "    return merge(left_half, right_half) # a_1 n+a_2\n",
    "```\n",
    "\n",
    "\n",
    "De modo que el tiempo del algoritmo $t(n)$ se puede expresar de la siguiente manera:\n",
    "\n",
    "1. Si caso base: constante $a$.\n",
    "2. En otro caso: $2t(n/2) + bn + c$\n",
    "\n",
    "Así pues, usando la fórmula maestra, se puede concluir que $t(n) \\in \\Theta(n\\log n)$."
   ]
  },
  {
   "cell_type": "markdown",
   "id": "0b71b0d6-7fb9-4778-a846-7e315e5fe007",
   "metadata": {},
   "source": [
    "## QuickSort"
   ]
  },
  {
   "cell_type": "markdown",
   "id": "c64c889c-92b6-4c50-883f-4af478db24db",
   "metadata": {},
   "source": [
    "Idea principal: ordenar un elemento (pivote) cada vez.\n",
    "\n",
    "Ejemplo `[3, 8, 1, 5]` en la pizarra :)"
   ]
  },
  {
   "cell_type": "code",
   "execution_count": 24,
   "id": "697d3d03-afad-44b7-99bc-97e833870493",
   "metadata": {},
   "outputs": [
    {
     "data": {
      "text/plain": [
       "[1, 2, 3, 4]"
      ]
     },
     "execution_count": 24,
     "metadata": {},
     "output_type": "execute_result"
    }
   ],
   "source": [
    "import random\n",
    "\n",
    "def partition_first(arr, low, high):\n",
    "    pivot_index = random.randint(low, high) # seleccionamos el pivote de manera aleatoria\n",
    "    arr[low], arr[pivot_index] = arr[pivot_index], arr[low] # intercambiamos el pivote con el primer elemento\n",
    "    pivot = arr[low]  # Escogemos el primer elemento como pivot\n",
    "    left = low + 1    # Puntero al segundo elemento\n",
    "    right = high      # Puntero al último\n",
    "\n",
    "    while True:\n",
    "        # Movemos el puntero izq\n",
    "        while left <= high and arr[left] <= pivot:\n",
    "            left += 1\n",
    "        \n",
    "        # Movemos el puntero derecho\n",
    "        while arr[right] > pivot:\n",
    "            right -= 1\n",
    "        \n",
    "        # Intercambiamos\n",
    "        if left < right:\n",
    "            arr[left], arr[right] = arr[right], arr[left]\n",
    "        else:\n",
    "            break\n",
    "    \n",
    "    # Ponemos el pivote donde está el puntero derecho\n",
    "    arr[low], arr[right] = arr[right], arr[low]\n",
    "    return right  # Return the partition index\n",
    "\n",
    "\n",
    "def quick_sort(arr, low, high):\n",
    "    if low < high:\n",
    "        # Partition the array\n",
    "        pi = partition_first(arr, low, high)\n",
    "        \n",
    "        # Recursively sort elements before and after partition\n",
    "        quick_sort(arr, low, pi - 1)\n",
    "        quick_sort(arr, pi + 1, high)\n",
    "\n",
    "\n",
    "# Example usage\n",
    "example = [2, 3, 1, 4]\n",
    "quick_sort(example, 0, len(example)-1)\n",
    "example"
   ]
  },
  {
   "cell_type": "markdown",
   "id": "abfcd335-4f28-4809-8186-e250c8ef56b5",
   "metadata": {},
   "source": [
    "**Proposición.** QuickSort es $\\Theta(n\\log n)$ en el mejor caso, $\\Theta(n\\log n)$ en el caso promedio y $\\Theta(n^2)$ en el peor caso."
   ]
  },
  {
   "cell_type": "markdown",
   "id": "28e68aa3-8d06-4c13-854c-49cd1907b1b2",
   "metadata": {},
   "source": [
    "*Demonstración.*\n",
    "\n",
    "Primero observamos que `partition_first` es de la forma $a_1n + a_2$ ya que simplemente se recorre un array y se intercambian elementos. \n",
    "\n",
    "De modo que el tiempo del algoritmo $t(n)$ se puede expresar de la siguiente manera:\n",
    "\n",
    "1. Si caso base: constante $a$.\n",
    "2. En otro caso: $t(p_1(n)) + t(p_2(n)) + bn + c$, donde $p_1(n), p_2(n)$ representa el corte del la función pivote.\n",
    "\n",
    "Así pues:\n",
    "\n",
    "- **Peor caso**: en cada paso el pivote escoge el mínimo. Si esto pasa (que en la práctica no pasa), una particicón tiene tamaño $0$ y la otra $n-1$. Así pues $t(n) = t(n-1) + bn + c'$. Desarrollando la recurrencia, $t(n)\\in\\Theta(n^2)$.\n",
    "- **Mejor caso**: las particiones son de tamaño similar $n/2$. Así pues $t(n) = 2t(n/2) + bn + c$. Usando la fórmula mágica, $t(n)\\in\\Theta(n\\log n)$.\n",
    "- **Caso promedio**: Supongamos un array de $n$ elementos aleatorios disntitos. Sea $X$ una variable aleatoria que indica la posición del pivote seleccionado en el array ordenado. Como el pivote se ha seleccionado aleatoriamente siguiendo una distribución uniforme, se tiene que:\n",
    "\n",
    "$$P(X=i) = \\frac{1}{n}$$\n",
    "\n",
    "De esta manera, el valor esperado es el siguiente:\n",
    "\n",
    "$$E[X]=\\sum_{i=0}^{n-1}i\\frac{1}{n}=\\frac{n-1}{2}$$\n",
    "\n",
    "Es decir, que la posición esperada del pivote es aproximadamente en el centro. Así pues, en promedio, se tiende a partir el problema a la mitad (lo cual coincide con el mejor caso) y $t(n)\\in\\Theta(n\\log n)$."
   ]
  },
  {
   "cell_type": "markdown",
   "id": "774e36e0-6eef-4638-9d8f-fe131b672599",
   "metadata": {},
   "source": [
    "# Estimando tiempos empíricamente"
   ]
  },
  {
   "cell_type": "code",
   "execution_count": 41,
   "id": "2bd3bea8-233d-47ec-8ad2-ed06be12afb3",
   "metadata": {},
   "outputs": [],
   "source": [
    "import time\n",
    "import numpy as np\n",
    "\n",
    "def measure_time_complexity(sort_func):\n",
    "    sizes = [2**i for i in range(10, 15)]  # Array sizes from 64 to 8192\n",
    "    times = []\n",
    "    \n",
    "    for size in sizes:\n",
    "        arr = np.random.randint(0, 10_000, size).tolist()  # Random integers for sorting\n",
    "        \n",
    "        start_time = time.time()\n",
    "        sort_func(arr)  \n",
    "        end_time = time.time()\n",
    "        \n",
    "        times.append(end_time - start_time)\n",
    "        \n",
    "    return sizes, times\n",
    "\n",
    "size_class, times_class = measure_time_complexity(clasico)\n",
    "size_merge, times_merge = measure_time_complexity(merge_sort)"
   ]
  },
  {
   "cell_type": "code",
   "execution_count": 43,
   "id": "843b1a8e-1aed-40a6-bf37-b08d96686e1b",
   "metadata": {},
   "outputs": [],
   "source": [
    "def measure_time_complexity_quick():\n",
    "    sizes = [2**i for i in range(10, 15)]  # Array sizes from 64 to 8192\n",
    "    times = []\n",
    "    \n",
    "    for size in sizes:\n",
    "        arr = np.random.randint(0, 10_000, size).tolist()  # Random integers for sorting\n",
    "        \n",
    "        start_time = time.time()\n",
    "        quick_sort(arr, 0, len(arr) - 1)  \n",
    "        end_time = time.time()\n",
    "        \n",
    "        times.append(end_time - start_time)\n",
    "        \n",
    "    return sizes, times\n",
    "    \n",
    "size_q, times_q = measure_time_complexity_quick()"
   ]
  },
  {
   "cell_type": "code",
   "execution_count": 44,
   "id": "431743f1-c99c-4c15-8882-733114b68c7d",
   "metadata": {},
   "outputs": [
    {
     "data": {
      "image/png": "[encoded data removed]",
      "text/plain": [
       "<Figure size 800x500 with 1 Axes>"
      ]
     },
     "metadata": {},
     "output_type": "display_data"
    }
   ],
   "source": [
    "import matplotlib.pyplot as plt\n",
    "\n",
    "plt.figure(figsize=(8,5))\n",
    "plt.plot(size_q, times_q, marker='o', linestyle='-', color='b', label='quicksort')\n",
    "plt.plot(size_class, times_class, marker='o', linestyle='-', color='r', label='clásico')\n",
    "plt.plot(size_merge, times_merge, marker='o', linestyle='-', color='g', label='merge')\n",
    "\n",
    "\n",
    "plt.xscale('log')\n",
    "plt.yscale('log')\n",
    "\n",
    "plt.xlabel(\"Input Size (n)\")\n",
    "plt.ylabel(\"Execution Time\")\n",
    "plt.title(\"\")\n",
    "plt.legend()\n",
    "plt.grid(True, which=\"both\", linestyle=\"--\", linewidth=0.5)\n",
    "\n",
    "plt.show()"
   ]
  },
  {
   "cell_type": "code",
   "execution_count": 45,
   "id": "eca21d6a-8b40-464c-8501-81f5053260e8",
   "metadata": {},
   "outputs": [
    {
     "name": "stdout",
     "output_type": "stream",
     "text": [
      "Potencia quick: 1.08\n",
      "Potencia merge: 1.09\n",
      "Potencia clásico: 1.99\n"
     ]
    }
   ],
   "source": [
    "# compute slope\n",
    "from scipy.stats import linregress\n",
    "\n",
    "\n",
    "print(f'Potencia quick: {linregress(np.log(size_q), np.log(times_q)).slope:.2f}')\n",
    "print(f'Potencia merge: {linregress(np.log(size_merge), np.log(times_merge)).slope:.2f}')\n",
    "print(f'Potencia clásico: {linregress(np.log(size_class), np.log(times_class)).slope:.2f}')"
   ]
  },
  {
   "cell_type": "markdown",
   "id": "aba548d9-47a6-4b0a-999a-3dbb6d05d092",
   "metadata": {},
   "source": [
    "# Comparación entre Quicksort y Mergesort\n",
    "\n",
    "| Característica      | Quicksort                 | Mergesort                  |\n",
    "|---------------------|--------------------------|-----------------------------|\n",
    "| **Paradigma**      | Divide y vencerás        | Divide y vencerás           |\n",
    "| **Complejidad (Mejor Caso)** | O(n log n)    | O(n log n)                 |\n",
    "| **Complejidad (Peor Caso)**  | O(n²) (si el pivote es malo) | O(n log n) |\n",
    "| **Complejidad (Caso Promedio)** | O(n log n) | O(n log n)                 |\n",
    "| **Uso de memoria** | En memoria (in-place) en algunas implementaciones | Requiere espacio extra O(n) |\n",
    "| **Eficiencia en arrays grandes** | Muy eficiente en arrays grandes | Eficiente, pero puede ser más lento debido al uso de memoria extra |\n",
    "\n"
   ]
  }
 ],
 "metadata": {
  "kernelspec": {
   "display_name": "Python 3 (ipykernel)",
   "language": "python",
   "name": "python3"
  },
  "language_info": {
   "codemirror_mode": {
    "name": "ipython",
    "version": 3
   },
   "file_extension": ".py",
   "mimetype": "text/x-python",
   "name": "python",
   "nbconvert_exporter": "python",
   "pygments_lexer": "ipython3",
   "version": "3.9.21"
  }
 },
 "nbformat": 4,
 "nbformat_minor": 5
}
