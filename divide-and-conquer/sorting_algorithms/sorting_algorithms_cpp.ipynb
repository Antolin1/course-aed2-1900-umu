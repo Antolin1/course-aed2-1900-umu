{
 "cells": [
  {
   "cell_type": "markdown",
   "id": "2e8ebd18-193a-4cfd-8f4d-c37fe57fe964",
   "metadata": {},
   "source": [
    "# MergeSort"
   ]
  },
  {
   "cell_type": "code",
   "execution_count": 1,
   "id": "e71afba1-0233-4a73-9184-4c1206dae3f6",
   "metadata": {},
   "outputs": [],
   "source": [
    "#include <iostream>\n",
    "using namespace std;"
   ]
  },
  {
   "cell_type": "code",
   "execution_count": 2,
   "id": "ac1bfb7b-4e0a-43f4-a3fe-037f65aad150",
   "metadata": {},
   "outputs": [],
   "source": [
    "// Function to merge two sorted subarrays\n",
    "void merge(int arr[], int left, int mid, int right) {\n",
    "    int n1 = mid - left + 1;\n",
    "    int n2 = right - mid;\n",
    "\n",
    "    int leftArr[n1], rightArr[n2];\n",
    "\n",
    "    // Copy data to temp arrays\n",
    "    for (int i = 0; i < n1; i++)\n",
    "        leftArr[i] = arr[left + i];\n",
    "    for (int i = 0; i < n2; i++)\n",
    "        rightArr[i] = arr[mid + 1 + i];\n",
    "\n",
    "    // Merge the temp arrays back into the main array\n",
    "    int i = 0, j = 0, k = left;\n",
    "    while (i < n1 && j < n2) {\n",
    "        if (leftArr[i] <= rightArr[j]) {\n",
    "            arr[k] = leftArr[i];\n",
    "            i++;\n",
    "        } else {\n",
    "            arr[k] = rightArr[j];\n",
    "            j++;\n",
    "        }\n",
    "        k++;\n",
    "    }\n",
    "\n",
    "    // Copy any remaining elements\n",
    "    while (i < n1) {\n",
    "        arr[k] = leftArr[i];\n",
    "        i++;\n",
    "        k++;\n",
    "    }\n",
    "    while (j < n2) {\n",
    "        arr[k] = rightArr[j];\n",
    "        j++;\n",
    "        k++;\n",
    "    }\n",
    "}\n"
   ]
  },
  {
   "cell_type": "code",
   "execution_count": 3,
   "id": "232561bf-3d03-44f0-871c-b809e170c9f9",
   "metadata": {},
   "outputs": [],
   "source": [
    "// Merge Sort function\n",
    "void mergeSort(int arr[], int left, int right) {\n",
    "    if (left < right) {\n",
    "        int mid = left + (right - left) / 2;\n",
    "\n",
    "        mergeSort(arr, left, mid);\n",
    "        mergeSort(arr, mid + 1, right);\n",
    "        merge(arr, left, mid, right);\n",
    "    }\n",
    "}"
   ]
  },
  {
   "cell_type": "code",
   "execution_count": 4,
   "id": "4fa8820a-607b-48fc-a845-6dd49adc571b",
   "metadata": {},
   "outputs": [],
   "source": [
    "// Utility function to print an array\n",
    "void printArray(int arr[], int size) {\n",
    "    for (int i = 0; i < size; i++)\n",
    "        cout << arr[i] << \" \";\n",
    "    cout << endl;\n",
    "}"
   ]
  },
  {
   "cell_type": "code",
   "execution_count": 5,
   "id": "29ba71e8-b3f4-404b-be5a-bba08bf99f31",
   "metadata": {},
   "outputs": [
    {
     "name": "stdout",
     "output_type": "stream",
     "text": [
      "Original array: 12 11 13 5 6 7 \n",
      "Sorted array: 5 6 7 11 12 13 \n"
     ]
    }
   ],
   "source": [
    "int arr[] = {12, 11, 13, 5, 6, 7};\n",
    "int size = sizeof(arr) / sizeof(arr[0]);\n",
    "\n",
    "cout << \"Original array: \";\n",
    "printArray(arr, size);\n",
    "\n",
    "mergeSort(arr, 0, size - 1);\n",
    "\n",
    "cout << \"Sorted array: \";\n",
    "printArray(arr, size);"
   ]
  },
  {
   "cell_type": "code",
   "execution_count": 6,
   "id": "0acf2b11-f769-4180-bb87-6c5a9cfe88a5",
   "metadata": {
    "scrolled": true
   },
   "outputs": [
    {
     "name": "stdout",
     "output_type": "stream",
     "text": [
      "n = 1000, time = 75 microseconds\n",
      "n = 2000, time = 160 microseconds\n",
      "n = 4000, time = 357 microseconds\n",
      "n = 8000, time = 754 microseconds\n",
      "n = 16000, time = 1635 microseconds\n",
      "n = 32000, time = 3448 microseconds\n",
      "n = 64000, time = 7266 microseconds\n",
      "n = 128000, time = 15464 microseconds\n"
     ]
    }
   ],
   "source": [
    "#include <iostream>\n",
    "#include <fstream> \n",
    "#include <chrono>\n",
    "#include <cstdlib>  // For rand()\n",
    "\n",
    "using namespace std;\n",
    "using namespace std::chrono;\n",
    "\n",
    "\n",
    "int sizes[] = {1000, 2000, 4000, 8000, 16000, 32000, 64000, 128000};\n",
    "int numSizes = sizeof(sizes) / sizeof(sizes[0]);\n",
    "ofstream dataFile(\"dataMergeSort.txt\");\n",
    "\n",
    "for (int i = 0; i < numSizes; i++) {\n",
    "        int n = sizes[i];\n",
    "        int* arr = new int[n];\n",
    "        \n",
    "        // Randomly filling the array\n",
    "        for (int j = 0; j < n; j++) {\n",
    "            arr[j] = rand();\n",
    "        }\n",
    "\n",
    "        // Measure the time taken for sorting the array\n",
    "        auto start = high_resolution_clock::now();\n",
    "        mergeSort(arr, 0, n - 1);\n",
    "        auto stop = high_resolution_clock::now();\n",
    "\n",
    "        auto duration = duration_cast<microseconds>(stop - start);\n",
    "        cout << \"n = \" << n << \", time = \" << duration.count() << \" microseconds\" << endl;\n",
    "\n",
    "        dataFile << n << \" \" << duration.count() << endl;\n",
    "    \n",
    "        // Don't forget to free the dynamically allocated memory\n",
    "        delete[] arr;\n",
    "}\n",
    "\n",
    "dataFile.close();\n",
    "\n",
    "\n",
    "\n"
   ]
  },
  {
   "cell_type": "code",
   "execution_count": 7,
   "id": "d649999d-634f-409c-8d24-670ce4a21159",
   "metadata": {},
   "outputs": [
    {
     "name": "stdout",
     "output_type": "stream",
     "text": [
      "n = 1000, time = 37 microseconds\n",
      "n = 2000, time = 80 microseconds\n",
      "n = 4000, time = 159 microseconds\n",
      "n = 8000, time = 543 microseconds\n",
      "n = 16000, time = 658 microseconds\n",
      "n = 32000, time = 1433 microseconds\n",
      "n = 64000, time = 3140 microseconds\n",
      "n = 128000, time = 6341 microseconds\n"
     ]
    }
   ],
   "source": [
    "// sorted\n",
    "#include <iostream>\n",
    "#include <fstream> \n",
    "#include <chrono>\n",
    "#include <cstdlib>  // For rand()\n",
    "\n",
    "using namespace std;\n",
    "using namespace std::chrono;\n",
    "\n",
    "int sizes[] = {1000, 2000, 4000, 8000, 16000, 32000, 64000, 128000};\n",
    "int numSizes = sizeof(sizes) / sizeof(sizes[0]);\n",
    "ofstream dataFile(\"dataMergeSortSorted.txt\");\n",
    "\n",
    "for (int i = 0; i < numSizes; i++) {\n",
    "        int n = sizes[i];\n",
    "        int* arr = new int[n];\n",
    "        \n",
    "        // Randomly filling the array\n",
    "        for (int j = 0; j < n; j++) {\n",
    "            arr[j] = j;\n",
    "        }\n",
    "\n",
    "        // Measure the time taken for sorting the array\n",
    "        auto start = high_resolution_clock::now();\n",
    "        mergeSort(arr, 0, n - 1);\n",
    "        auto stop = high_resolution_clock::now();\n",
    "\n",
    "        auto duration = duration_cast<microseconds>(stop - start);\n",
    "        cout << \"n = \" << n << \", time = \" << duration.count() << \" microseconds\" << endl;\n",
    "\n",
    "        dataFile << n << \" \" << duration.count() << endl;\n",
    "    \n",
    "        // Don't forget to free the dynamically allocated memory\n",
    "        delete[] arr;\n",
    "}\n",
    "\n",
    "dataFile.close();"
   ]
  },
  {
   "cell_type": "markdown",
   "id": "be1fbfb2-3201-4cbb-b555-1e6c9bcafa71",
   "metadata": {},
   "source": [
    "# Quicksort"
   ]
  },
  {
   "cell_type": "code",
   "execution_count": 8,
   "id": "9f683e2a-b7a5-4538-bd89-ae00417d1f53",
   "metadata": {},
   "outputs": [],
   "source": [
    "// Function to partition the array\n",
    "int partition(int arr[], int low, int high) {\n",
    "    int pivot = arr[low];  // Choosing the first element as the pivot\n",
    "    int left = low + 1;     // Pointer starting from the second element\n",
    "    int right = high;       // Pointer starting from the last element\n",
    "\n",
    "    while (true) {\n",
    "        // Move the left pointer to the right as long as the element is less than or equal to pivot\n",
    "        while (left <= high && arr[left] <= pivot) {\n",
    "            left++;\n",
    "        }\n",
    "\n",
    "        // Move the right pointer to the left as long as the element is greater than or equal to pivot\n",
    "        while (arr[right] > pivot) {\n",
    "            right--;\n",
    "        }\n",
    "\n",
    "        // If the left pointer is still to the left of the right pointer, swap the elements\n",
    "        if (left < right) {\n",
    "            swap(arr[left], arr[right]);\n",
    "        } else {\n",
    "            break;\n",
    "        }\n",
    "    }\n",
    "\n",
    "    // Place the pivot in its correct position by swapping it with the element at the right pointer\n",
    "    swap(arr[low], arr[right]);\n",
    "    return right;  // Return the partition index\n",
    "}"
   ]
  },
  {
   "cell_type": "code",
   "execution_count": 9,
   "id": "3b596fbe-63d9-42a7-b4e2-bfb3d079f16b",
   "metadata": {},
   "outputs": [],
   "source": [
    "// QuickSort function\n",
    "void quickSort(int arr[], int low, int high) {\n",
    "    if (low < high) {\n",
    "        // Partition the array\n",
    "        int pi = partition(arr, low, high);\n",
    "\n",
    "        // Recursively sort elements before and after partition\n",
    "        quickSort(arr, low, pi - 1);\n",
    "        quickSort(arr, pi + 1, high);\n",
    "    }\n",
    "}"
   ]
  },
  {
   "cell_type": "code",
   "execution_count": 10,
   "id": "9bb8918c-bd95-4056-8119-8486a0730fad",
   "metadata": {},
   "outputs": [
    {
     "name": "stdout",
     "output_type": "stream",
     "text": [
      "n = 1000, time = 80 microseconds\n",
      "n = 2000, time = 161 microseconds\n",
      "n = 4000, time = 342 microseconds\n",
      "n = 8000, time = 717 microseconds\n",
      "n = 16000, time = 1510 microseconds\n",
      "n = 32000, time = 3216 microseconds\n",
      "n = 64000, time = 6683 microseconds\n",
      "n = 128000, time = 13804 microseconds\n"
     ]
    }
   ],
   "source": [
    "#include <iostream>\n",
    "#include <fstream> \n",
    "#include <chrono>\n",
    "#include <cstdlib>  // For rand()\n",
    "\n",
    "using namespace std;\n",
    "using namespace std::chrono;\n",
    "\n",
    "\n",
    "int sizes[] = {1000, 2000, 4000, 8000, 16000, 32000, 64000, 128000};\n",
    "int numSizes = sizeof(sizes) / sizeof(sizes[0]);\n",
    "ofstream dataFile(\"dataQuickSort.txt\");\n",
    "\n",
    "for (int i = 0; i < numSizes; i++) {\n",
    "        int n = sizes[i];\n",
    "        int* arr = new int[n];\n",
    "        \n",
    "        // Randomly filling the array\n",
    "        for (int j = 0; j < n; j++) {\n",
    "            arr[j] = rand();\n",
    "        }\n",
    "\n",
    "        // Measure the time taken for sorting the array\n",
    "        auto start = high_resolution_clock::now();\n",
    "        quickSort(arr, 0, n - 1);\n",
    "        auto stop = high_resolution_clock::now();\n",
    "\n",
    "        auto duration = duration_cast<microseconds>(stop - start);\n",
    "        cout << \"n = \" << n << \", time = \" << duration.count() << \" microseconds\" << endl;\n",
    "\n",
    "        dataFile << n << \" \" << duration.count() << endl;\n",
    "    \n",
    "        // Don't forget to free the dynamically allocated memory\n",
    "        delete[] arr;\n",
    "}\n",
    "\n",
    "dataFile.close();"
   ]
  },
  {
   "cell_type": "code",
   "execution_count": 11,
   "id": "2c442aec-d4b1-49c3-ba29-a8ed3c9936a7",
   "metadata": {},
   "outputs": [
    {
     "name": "stdout",
     "output_type": "stream",
     "text": [
      "n = 1000, time = 215 microseconds\n",
      "n = 2000, time = 843 microseconds\n",
      "n = 4000, time = 3401 microseconds\n",
      "n = 8000, time = 13032 microseconds\n",
      "n = 16000, time = 49734 microseconds\n",
      "n = 32000, time = 194417 microseconds\n",
      "n = 64000, time = 811216 microseconds\n",
      "n = 128000, time = 3076704 microseconds\n"
     ]
    }
   ],
   "source": [
    "// sorted\n",
    "#include <iostream>\n",
    "#include <fstream> \n",
    "#include <chrono>\n",
    "#include <cstdlib>  // For rand()\n",
    "\n",
    "using namespace std;\n",
    "using namespace std::chrono;\n",
    "\n",
    "int sizes[] = {1000, 2000, 4000, 8000, 16000, 32000, 64000, 128000};\n",
    "int numSizes = sizeof(sizes) / sizeof(sizes[0]);\n",
    "ofstream dataFile(\"dataQuickSortSorted.txt\");\n",
    "\n",
    "for (int i = 0; i < numSizes; i++) {\n",
    "        int n = sizes[i];\n",
    "        int* arr = new int[n];\n",
    "        \n",
    "        // Randomly filling the array\n",
    "        for (int j = 0; j < n; j++) {\n",
    "            arr[j] = j;\n",
    "        }\n",
    "\n",
    "        // Measure the time taken for sorting the array\n",
    "        auto start = high_resolution_clock::now();\n",
    "        quickSort(arr, 0, n - 1);\n",
    "        auto stop = high_resolution_clock::now();\n",
    "\n",
    "        auto duration = duration_cast<microseconds>(stop - start);\n",
    "        cout << \"n = \" << n << \", time = \" << duration.count() << \" microseconds\" << endl;\n",
    "\n",
    "        dataFile << n << \" \" << duration.count() << endl;\n",
    "    \n",
    "        // Don't forget to free the dynamically allocated memory\n",
    "        delete[] arr;\n",
    "}\n",
    "\n",
    "dataFile.close();"
   ]
  }
 ],
 "metadata": {
  "kernelspec": {
   "display_name": "C++17",
   "language": "C++17",
   "name": "xcpp17"
  },
  "language_info": {
   "codemirror_mode": "text/x-c++src",
   "file_extension": ".cpp",
   "mimetype": "text/x-c++src",
   "name": "c++",
   "version": "17"
  }
 },
 "nbformat": 4,
 "nbformat_minor": 5
}
