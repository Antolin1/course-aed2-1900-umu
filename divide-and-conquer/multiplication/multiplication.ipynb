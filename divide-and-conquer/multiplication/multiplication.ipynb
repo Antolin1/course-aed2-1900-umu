{
 "cells": [
  {
   "cell_type": "markdown",
   "id": "5565682c-1bbf-4061-845f-d8fc976c26d1",
   "metadata": {},
   "source": [
    "# El teorema maestro"
   ]
  },
  {
   "cell_type": "markdown",
   "id": "5a5050fe-d724-4503-b63e-dec98df38098",
   "metadata": {},
   "source": [
    "En este tema vamos a usar mucho el siguiente teorema maestro (extraído de [estos apuntes](https://www.math.umd.edu/~immortal/CMSC351/notes/mastertheorem.pdf)):\n",
    "![title](master_theorem.png)"
   ]
  },
  {
   "cell_type": "markdown",
   "id": "843a0df2-94e9-4c29-a3f5-b8c325d0bd07",
   "metadata": {},
   "source": [
    "Intiutivamente los puntos quieren decir lo siguiente:\n",
    "\n",
    "1. Si $\\log_b a > c$ (la recursión gana al orden de $f(n)$), entonces el algoritmo recursivo tiene el orden de la recursión.\n",
    "2. Si $\\log_b a = c$ (la recursión es similar al orden de $f(n)$), entonces las complejidades se combinan.\n",
    "3. Si $\\log_b a < c$ (la recursión pierde contra orden de $f(n)$),  entonces el algoritmo recursivo tiene el orden de $f(n)$."
   ]
  },
  {
   "cell_type": "markdown",
   "id": "304c1343-5851-4d03-9573-97bfd88fddbf",
   "metadata": {},
   "source": [
    "# Problema de la multiplicación de enteros"
   ]
  },
  {
   "cell_type": "markdown",
   "id": "71a42d61-ad19-4bff-86c0-a3cebe350ee4",
   "metadata": {},
   "source": [
    "## Definición"
   ]
  },
  {
   "cell_type": "markdown",
   "id": "112128a5-6cac-49d0-860c-860ba1dccd77",
   "metadata": {},
   "source": [
    "Problema: dados dos números representados como tablas de $n$ cifras, generar un nuevo array de cifras que contenga su multiplicación.\n",
    "\n",
    "Ejemplo de entrada:\n",
    "\n",
    "$123$ se representa como:\n",
    "$\n",
    "u=\\begin{bmatrix}\n",
    "3 & 2 & 1 \n",
    "\\end{bmatrix}\n",
    "$\n",
    "\n",
    "$345$ se representa como:\n",
    "$\n",
    "v=\\begin{bmatrix}\n",
    "5 & 4 & 3 \n",
    "\\end{bmatrix}\n",
    "$\n",
    "\n",
    "Ejemplo de salida\n",
    "\n",
    "42435 se representa como: $\n",
    "r=\\begin{bmatrix}\n",
    "5 & 3 & 4 & 2 & 4\n",
    "\\end{bmatrix}\n",
    "$\n",
    "\n"
   ]
  },
  {
   "cell_type": "markdown",
   "id": "7e4c08d8-adf3-4765-988f-d2a5d570bd4f",
   "metadata": {},
   "source": [
    "## Algoritmo clásico"
   ]
  },
  {
   "cell_type": "markdown",
   "id": "bea32dab-0fc1-4402-be61-7a95298a88ab",
   "metadata": {},
   "source": [
    "Vamos a definir un par de funciones que nos van a ser útiles (suma y desplazamiento)."
   ]
  },
  {
   "cell_type": "code",
   "execution_count": 1,
   "id": "7382777a-76c8-4b94-98e9-d595ae16072d",
   "metadata": {},
   "outputs": [],
   "source": [
    "def add_arrays(arr1, arr2):\n",
    "    \"\"\"Suma dos arrays. Los arrays no tienen necesariamente la misma longitud.\n",
    "    Esto es Thetha(max(n,m)), si n = m, entonces Thetha(n)\n",
    "    \"\"\"\n",
    "    carry = 0\n",
    "    result = []\n",
    "    \n",
    "    for i in range(0, max(len(arr1), len(arr2)), 1):\n",
    "        if i < len(arr1):\n",
    "            digit1 = arr1[i]\n",
    "        else:\n",
    "            digit1 = 0\n",
    "\n",
    "        if i < len(arr2):\n",
    "            digit2 = arr2[i]\n",
    "        else:\n",
    "            digit2 = 0\n",
    "        \n",
    "        total = digit1 + digit2 + carry\n",
    "        result.append(total % 10)\n",
    "        carry = total // 10\n",
    "    \n",
    "    if carry:\n",
    "        result.append(carry)\n",
    "    \n",
    "    return result"
   ]
  },
  {
   "cell_type": "code",
   "execution_count": 2,
   "id": "8453af0c-95fd-4037-817f-af275efcf21e",
   "metadata": {},
   "outputs": [],
   "source": [
    "def shift_array(arr, s):\n",
    "    \"\"\"Multiplica por 10^s. Thetha(s).\"\"\"\n",
    "    return [0] * s + arr"
   ]
  },
  {
   "cell_type": "code",
   "execution_count": 3,
   "id": "fd6f1402-8167-4e11-a157-31921d4351b3",
   "metadata": {},
   "outputs": [],
   "source": [
    "def print_integer(arr):\n",
    "    r = ''\n",
    "    for a in reversed(arr):\n",
    "        r += str(a)\n",
    "    print(r)\n",
    "    \n",
    "def multiplicacion_directa(arr1, arr2):\n",
    "    \n",
    "    # inicialización\n",
    "    result = [0] * (len(arr1) + len(arr2))\n",
    "    \n",
    "    # multiplicación\n",
    "    for i in range(0, len(arr1), 1):\n",
    "        aux = [0] * (len(arr1) + len(arr2))\n",
    "        # multiplico arr1[i] por arr2\n",
    "        for j in range(0, len(arr2), 1):\n",
    "            s = aux[j] + arr1[i] * arr2[j]\n",
    "            aux[j] = s % 10\n",
    "            carry = s // 10\n",
    "            aux[j + 1] += carry\n",
    "        # desplazo y sumo\n",
    "        result = add_arrays(result, shift_array(aux, i))\n",
    "    \n",
    "    # eliminar 0s innecesarios\n",
    "    while len(result) > 1 and result[-1] == 0:\n",
    "        result.pop()\n",
    "    \n",
    "    return result\n"
   ]
  },
  {
   "cell_type": "code",
   "execution_count": 4,
   "id": "fcd844fd-6d45-46eb-a2be-01744b84c50b",
   "metadata": {},
   "outputs": [
    {
     "name": "stdout",
     "output_type": "stream",
     "text": [
      "Resultado:\n",
      "42435\n"
     ]
    }
   ],
   "source": [
    "# Ejemplo\n",
    "arr1 = [3, 2, 1]  # 123\n",
    "arr2 = [5, 4, 3]  # 345\n",
    "\n",
    "result = multiplicacion_directa(arr1, arr2)\n",
    "print(\"Resultado:\")\n",
    "print_integer(result)"
   ]
  },
  {
   "cell_type": "markdown",
   "id": "3caccc18-3639-44a3-aa21-7a40974ef1c4",
   "metadata": {},
   "source": [
    "**Proposición.** El algoritmo clásico es $\\Theta(n^2)$."
   ]
  },
  {
   "cell_type": "markdown",
   "id": "121f66dd-a703-4a01-aa7a-8d88f4128fc3",
   "metadata": {},
   "source": [
    "*Demonstración.*\n",
    "\n",
    "```python\n",
    "def multiplicacion_directa(arr1, arr2):\n",
    "    \n",
    "    # f_1(n) inicialización -> O(n)\n",
    "    result = [0] * (len(arr1) + len(arr2))\n",
    "    \n",
    "    # multiplicación -> dos bucles anidados:\n",
    "    for i in range(0, len(arr1), 1):\n",
    "        aux = [0] * (len(arr1) + len(arr2)) # f_2(n), O(n)\n",
    "        for j in range(0, len(arr2), 1):\n",
    "            # lo de dentro constante, c_1\n",
    "            s = aux[j] + arr1[i] * arr2[j]\n",
    "            aux[j] = s % 10\n",
    "            carry = s // 10\n",
    "            aux[j + 1] += carry\n",
    "        # shift_array(aux, i) -> f_3(i), Theta(i)\n",
    "        # add_arrays -> f_4(n), O(n)\n",
    "        # asignación constante c_2\n",
    "        result = add_arrays(result, shift_array(aux, i))\n",
    "    \n",
    "    # f_5(n), como mucho se ejecuta 2n veces -> O(n)\n",
    "    while len(result) > 1 and result[-1] == 0:\n",
    "        result.pop()\n",
    "    \n",
    "    return result\n",
    "```\n",
    "\n",
    "De modo que el tiempo se puede expresar:\n",
    "\n",
    "$$t(n) = f_1(n) + \\sum_{i=0}^{n-1}\\left( f_2(n) + \\sum_{j=0}^{n-1} c_1 + f_4(n) + f_3(i)+ c_2\\right) + f_5(n) = f_1(n) + f_5(n) + nf_2(n) + nc_1^2 + nc_2 + nf_4(n) + \\sum_{i=0}^{n-1}f_3(i)$$\n",
    "\n",
    "De aquí se tiene que:\n",
    "- $nc_1^2 + nc_2 \\in \\Theta(n^2)$\n",
    "- $f_1(n) + f_5(n)\\in O(n)$ ya que $f_1(n)$ y $f_5(n)$ pertenecen a $O(n)$\n",
    "- $nf_2(n)\\in O(n^2)$ y $nf_4(n)\\in O(n^2)$ ya que $f_2(n),f_4(n)\\in O(n)$\n",
    "- $\\sum_{i=0}^{n-1}f_3(i) \\in O(n^2)$ ya que $f_3(i)\\in\\Theta(i)$. Esto no es tan trivial de demostrar, vamos a asumir que es cierto. Intuitivamente esto es muy parecido a dos bucles anidados $i=0\\dots n-1$, $j=i \\dots n-1$.\n",
    "\n",
    "Al final, se puede expresar $t(n) = \\Theta(n^2) + O(n) + O(n) + O(n^2) \\in \\Theta(n^2).$"
   ]
  },
  {
   "cell_type": "markdown",
   "id": "99024310-e813-48da-8ec3-d6dd092a7126",
   "metadata": {},
   "source": [
    "## Solución DyV ingénua"
   ]
  },
  {
   "cell_type": "markdown",
   "id": "f668df7f-f418-4110-9e00-3bdc7cade2f9",
   "metadata": {},
   "source": [
    "Vamos a definir un par de funciones que nos van a ser útiles."
   ]
  },
  {
   "cell_type": "code",
   "execution_count": 5,
   "id": "51fe5ddf-eb35-4a55-990a-cc978511367e",
   "metadata": {},
   "outputs": [],
   "source": [
    "def normalize_length(arr1, arr2):\n",
    "    \"\"\"Normaliza los arrays para que tengan la misma longitud. O(|m-n|). Lo he añadido por temas de implementación.\"\"\"\n",
    "    diff = len(arr1) - len(arr2)\n",
    "    if diff > 0:\n",
    "        arr2.extend([0] * diff)\n",
    "    elif diff < 0:\n",
    "        arr1.extend([0] * (-diff))\n",
    "    return arr1, arr2"
   ]
  },
  {
   "cell_type": "code",
   "execution_count": 6,
   "id": "fcf95b85-025d-4210-8d03-224081ece90c",
   "metadata": {},
   "outputs": [],
   "source": [
    "def sub_arrays(arr1, arr2):\n",
    "    \"\"\"Resta dos arrays de la misma longitud. Se asume que arr1 >= arr2.\n",
    "    Es O(n).\n",
    "    \"\"\"\n",
    "    carry = 0\n",
    "    result = []\n",
    "    \n",
    "    for i in range(len(arr1)):\n",
    "        digit1 = arr1[i]\n",
    "        digit2 = arr2[i] if i < len(arr2) else 0\n",
    "        diff = digit1 - digit2 - carry\n",
    "        if diff < 0:\n",
    "            diff += 10\n",
    "            carry = 1\n",
    "        else:\n",
    "            carry = 0\n",
    "        result.append(diff)\n",
    "    \n",
    "    while len(result) > 1 and result[-1] == 0:\n",
    "        result.pop()\n",
    "    \n",
    "    return result"
   ]
  },
  {
   "cell_type": "markdown",
   "id": "7f7f915b-6220-4a0a-8c37-2c44aa70b901",
   "metadata": {},
   "source": [
    "La idea del algoritmo de DyV ingénuo es tal que así:\n",
    "\n",
    "$1234$ se representa como:\n",
    "$\n",
    "u=\\begin{bmatrix}\n",
    "4 & 3 & 2 & 1 \n",
    "\\end{bmatrix}\n",
    "= [u_1, u_2]$\n",
    "\n",
    "$u_1=[4,3]$, $u_2=[2,1]$. Así pues $u=10^2u_2 + u_1$.\n",
    "\n",
    "$3456$ se representa como:\n",
    "$\n",
    "v=\\begin{bmatrix}\n",
    "6 & 5 & 4 & 3 \n",
    "\\end{bmatrix}\n",
    "= [v_1,v_2]$\n",
    "\n",
    "$v_1=[6,5]$, $v_2=[4,3]$. Así pues $v=10^2v_2 + v_1$.\n",
    "\n",
    "De modo que $r= u v = (10^2u_2 + u_1)(10^2v_2 + v_1) = 10^4u_2v_2 + 10^2(u_2v_1 + v_2u_1) + u_1v_1$. En general, para dos números cualquiera de la misma longitud y diviendo a la mitad los números, se tiene esto:\n",
    "\n",
    "![title](m.png)\n"
   ]
  },
  {
   "cell_type": "code",
   "execution_count": 7,
   "id": "509895d4-a724-4761-96ba-1f43f3d4c54b",
   "metadata": {},
   "outputs": [],
   "source": [
    "def dyv_ingenuo(arr1, arr2):\n",
    "    # esto lo he puesto por temas de implementación, para que el caso base sea sencillo\n",
    "    # como asumimos que las entradas son de la misma longitud esto va a tener orden constante\n",
    "    arr1, arr2 = normalize_length(arr1, arr2)\n",
    "    \n",
    "    # Caso base\n",
    "    if len(arr1) == 1 and len(arr2) == 1:\n",
    "        return [arr1[0] * arr2[0] % 10] + ([arr1[0] * arr2[0] // 10] if arr1[0] * arr2[0] >= 10 else [])\n",
    "    # fin caso base\n",
    "\n",
    "    # divimos los arrays\n",
    "    n = len(arr1)\n",
    "    m = n // 2\n",
    "    low1, high1 = arr1[:m], arr1[m:]\n",
    "    low2, high2 = arr2[:m], arr2[m:]\n",
    "    \n",
    "    # 10^2s wy\n",
    "    h_h = dyv_ingenuo(high1, high2)\n",
    "    first_term = shift_array(h_h, 2 * m)\n",
    "\n",
    "    # 10^s (wz + xy)\n",
    "    h1_l2 = dyv_ingenuo(high1, low2)\n",
    "    h2_l1 = dyv_ingenuo(high2, low1)\n",
    "    s1 = add_arrays(h1_l2, h2_l1)\n",
    "    second_term = shift_array(s1, m)\n",
    "\n",
    "    # xz\n",
    "    thrid_term = dyv_ingenuo(low1, low2)\n",
    "\n",
    "    #sumamos todo\n",
    "    result = add_arrays(add_arrays(thrid_term,second_term), first_term)\n",
    "\n",
    "    # eliminamos 0s para que quede bonito\n",
    "    while len(result) > 1 and result[-1] == 0:\n",
    "        result.pop()\n",
    "        \n",
    "    return result"
   ]
  },
  {
   "cell_type": "code",
   "execution_count": 8,
   "id": "4551b225-4102-4c81-b17b-bdd0bde9a8e5",
   "metadata": {},
   "outputs": [
    {
     "name": "stdout",
     "output_type": "stream",
     "text": [
      "Resultado:\n",
      "42435\n"
     ]
    }
   ],
   "source": [
    "# Ejemplo\n",
    "arr1 = [3, 2, 1]  # 123\n",
    "arr2 = [5, 4, 3]  # 345\n",
    "\n",
    "result = dyv_ingenuo(arr1, arr2)\n",
    "print(\"Resultado:\")\n",
    "print_integer(result)"
   ]
  },
  {
   "cell_type": "markdown",
   "id": "3b941a10-e4ce-4383-8e4b-5dba41edb1c2",
   "metadata": {},
   "source": [
    "**Proposición.** El algoritmo DyV ingénuo es $\\Theta(n^2)$. En consecuencia, este algoritmo es 💩 y, habiendo un método iterativo directo, nadie lo usa."
   ]
  },
  {
   "cell_type": "markdown",
   "id": "61c5ef55-061b-40e7-b842-46cb5e9a3b50",
   "metadata": {},
   "source": [
    "*Demonstración.*\n",
    "\n",
    "```python\n",
    "def dyv_ingenuo(arr1, arr2):\n",
    "    # Caso base -> constante\n",
    "    # esto lo he puesto por temas de implementación, para que el caso base sea sencillo\n",
    "    # como asumimos que las entradas son de la misma longitud esto va a tener orden constante\n",
    "    arr1, arr2 = normalize_length(arr1, arr2) \n",
    "    \n",
    "    if len(arr1) == 1 and len(arr2) == 1:\n",
    "        return [arr1[0] * arr2[0] % 10] + ([arr1[0] * arr2[0] // 10] if arr1[0] * arr2[0] >= 10 else [])\n",
    "    # fin caso base\n",
    "\n",
    "    # divimos los arrays, O(n) o constante\n",
    "    n = len(arr1)\n",
    "    m = n // 2\n",
    "    low1, high1 = arr1[:m], arr1[m:]\n",
    "    low2, high2 = arr2[:m], arr2[m:]\n",
    "    \n",
    "    # 10^2s wy\n",
    "    h_h = dyv_ingenuo(high1, high2) # t(n/2)\n",
    "    first_term = shift_array(h_h, 2 * m) # esto es O(n)\n",
    "\n",
    "    # 10^s (wz + xy)\n",
    "    h1_l2 = dyv_ingenuo(high1, low2) # t(n/2)\n",
    "    h2_l1 = dyv_ingenuo(high2, low1) # t(n/2)\n",
    "    s1 = add_arrays(h1_l2, h2_l1) # esto es O(n)\n",
    "    second_term = shift_array(s1, m) # esto es O(n)\n",
    "\n",
    "    # xz\n",
    "    thrid_term = dyv_ingenuo(low1, low2) # t(n/2)\n",
    "\n",
    "    #sumamos todo\n",
    "    result = add_arrays(add_arrays(thrid_term,second_term), first_term) # esto es O(n) ya que son dos sumas, una después de otra\n",
    "\n",
    "    # eliminamos 0s para que quede bonito, acotado por en el peor de los casos n\n",
    "    while len(result) > 1 and result[-1] == 0:\n",
    "        result.pop()\n",
    "        \n",
    "    return result\n",
    "```\n",
    "\n",
    "De modo que el tiempo $t(n)$ se puede expresar de la siguiente manera:\n",
    "\n",
    "1. Si caso base: constante $a$.\n",
    "2. En otro caso: $4t(n/2) + O(n)$\n",
    "\n",
    "Así pues, usando el teorema maestro, se puede concluir que $t(n) \\in \\Theta(n^2)$."
   ]
  },
  {
   "cell_type": "markdown",
   "id": "a2b7c91e-7296-4a94-84ed-ae1cc28f7d62",
   "metadata": {},
   "source": [
    "## Solución DyV inteligente: Karatsuba"
   ]
  },
  {
   "cell_type": "markdown",
   "id": "843097a8-530e-4ca6-91cb-a6c67ca326f2",
   "metadata": {},
   "source": [
    "Idea de Karatsuba: evitar hacer $4t(n/2)$ y hacer solo $3$ operaciones. Y esto es posible ya que:\n",
    "\n",
    "$r= u v = (10^2u_2 + u_1)(10^2v_2 + v_1) = 10^4u_2v_2 + 10^2(u_2v_1 + v_2u_1) + u_1v_1 = 10^4u_2v_2 + 10^2[(u_1+u_2)(v_2+v_1) - (u_2v_2 + u_1v_1)] + u_1v_1$\n",
    "\n",
    "Así pues solo tenemos que hacer $3$ multiplicaciones:\n",
    "- $u_1v_1$\n",
    "- $u_2v_2$\n",
    "- $(u_1+u_2)(v_1+v_2)$"
   ]
  },
  {
   "cell_type": "code",
   "execution_count": 9,
   "id": "8fcba1c8-1be3-475d-b4ea-f041a4350072",
   "metadata": {},
   "outputs": [],
   "source": [
    "def karatsuba_arrays(arr1, arr2):\n",
    "    # Caso base\n",
    "    arr1, arr2 = normalize_length(arr1, arr2)\n",
    "    if len(arr1) == 1 and len(arr2) == 1:\n",
    "        return [arr1[0] * arr2[0] % 10] + ([arr1[0] * arr2[0] // 10] if arr1[0] * arr2[0] >= 10 else [])\n",
    "    # fin caso base\n",
    "\n",
    "    # dividimos array\n",
    "    n = len(arr1)\n",
    "    m = n // 2\n",
    "    low1, high1 = arr1[:m], arr1[m:]\n",
    "    low2, high2 = arr2[:m], arr2[m:]\n",
    "\n",
    "    # u_1v_1\n",
    "    z0 = karatsuba_arrays(low1, low2)\n",
    "    # (u_1 + u_2)(v_1 + v_2)\n",
    "    z1 = karatsuba_arrays(add_arrays(low1, high1), add_arrays(low2, high2))\n",
    "    # u_2v_2\n",
    "    z2 = karatsuba_arrays(high1, high2)\n",
    "\n",
    "    # calcular el resultado con el chorizo de arriba\n",
    "    result = add_arrays(add_arrays(shift_array(z2, 2*m), shift_array(sub_arrays(z1, add_arrays(z2, z0)), m)), z0)\n",
    "\n",
    "    # eliminamos 0s para que quede bonito\n",
    "    while len(result) > 1 and result[-1] == 0:\n",
    "        result.pop()\n",
    "    \n",
    "    return result\n"
   ]
  },
  {
   "cell_type": "code",
   "execution_count": 10,
   "id": "0c0b9085-bbe1-45d4-a28d-d2b5a4c466ff",
   "metadata": {},
   "outputs": [
    {
     "name": "stdout",
     "output_type": "stream",
     "text": [
      "Resultado:\n",
      "42435\n"
     ]
    }
   ],
   "source": [
    "# Ejemplo\n",
    "arr1 = [3, 2, 1]  # 123\n",
    "arr2 = [5, 4, 3]  # 345\n",
    "\n",
    "result = karatsuba_arrays(arr1, arr2)\n",
    "print(\"Resultado:\")\n",
    "print_integer(result)"
   ]
  },
  {
   "cell_type": "markdown",
   "id": "e96ea6ee-2c26-4367-ba54-75aae8c5db42",
   "metadata": {},
   "source": [
    "**Proposición.** El algoritmo DyV Karatsuba es $\\Theta(n^{\\log_23})\\sim \\Theta(n^{1.59})$.\n",
    "\n",
    "*Demonstración.*\n",
    "\n",
    "```python\n",
    "def karatsuba_arrays(arr1, arr2):\n",
    "    # Caso base, constante\n",
    "    arr1, arr2 = normalize_length(arr1, arr2)\n",
    "    if len(arr1) == 1 and len(arr2) == 1:\n",
    "        return [arr1[0] * arr2[0] % 10] + ([arr1[0] * arr2[0] // 10] if arr1[0] * arr2[0] >= 10 else [])\n",
    "    # fin caso base\n",
    "\n",
    "    # dividimos array, O(n) o constante\n",
    "    n = len(arr1)\n",
    "    m = n // 2\n",
    "    low1, high1 = arr1[:m], arr1[m:]\n",
    "    low2, high2 = arr2[:m], arr2[m:]\n",
    "\n",
    "    # u_1v_1\n",
    "    z0 = karatsuba_arrays(low1, low2) # t(n/2)\n",
    "    # (u_1 + u_2)(v_1 + v_2)\n",
    "    z1 = karatsuba_arrays(add_arrays(low1, high1), add_arrays(low2, high2)) # t(n/2) + O(n)\n",
    "    # u_2v_2\n",
    "    z2 = karatsuba_arrays(high1, high2)# t(n/2)\n",
    "\n",
    "    # calcular el resultado con el chorizo de arriba\n",
    "    result = add_arrays(add_arrays(shift_array(z2, 2*m), shift_array(sub_arrays(z1, add_arrays(z2, z0)), m)), z0) # O(n)\n",
    "\n",
    "    # eliminamos 0s para que quede bonito, acotado por n\n",
    "    while len(result) > 1 and result[-1] == 0:\n",
    "        result.pop()\n",
    "    \n",
    "    return result\n",
    "```\n",
    "\n",
    "De modo que el tiempo $t(n)$ se puede expresar de la siguiente manera:\n",
    "\n",
    "1. Si caso base: constante $a$.\n",
    "2. En otro caso: $3t(n/2) + O(n)$\n",
    "\n",
    "Así pues, usando la fórmula maestra, se puede concluir que $t(n) \\in \\Theta(n^{\\log_23})$."
   ]
  },
  {
   "cell_type": "markdown",
   "id": "1c8cea6f-3f68-490d-ad8e-c9fed39b09d2",
   "metadata": {},
   "source": [
    "## Karatsuba no es 🔝 cuando la longitud de la entrada es pequeña"
   ]
  },
  {
   "cell_type": "code",
   "execution_count": 11,
   "id": "8376f8a5-ce57-4a4f-b2a1-d50c8680e342",
   "metadata": {},
   "outputs": [],
   "source": [
    "import numpy as np\n",
    "import time\n",
    "\n",
    "def measure_time_complexity(func=karatsuba_arrays):\n",
    "    sizes = [2**i for i in range(6, 14)]\n",
    "    times = []\n",
    "    \n",
    "    for size in sizes:\n",
    "        arr1 = np.random.randint(0, 10, size).tolist()\n",
    "        arr2 = np.random.randint(0, 10, size).tolist()\n",
    "        \n",
    "        start_time = time.time()\n",
    "        func(arr1, arr2)\n",
    "        end_time = time.time()\n",
    "        \n",
    "        times.append(end_time - start_time)\n",
    "        \n",
    "    return sizes, times\n",
    "\n",
    "sizes_k, times_k = measure_time_complexity(func=karatsuba_arrays)\n",
    "sizes_dv, times_dv = measure_time_complexity(func=dyv_ingenuo)\n",
    "sizes_d, times_d = measure_time_complexity(func=multiplicacion_directa)"
   ]
  },
  {
   "cell_type": "code",
   "execution_count": 12,
   "id": "e71be96b-2fd0-402c-b95b-a87f0891d2ad",
   "metadata": {},
   "outputs": [
    {
     "data": {
      "image/png": "[encoded data removed]",
      "text/plain": [
       "<Figure size 800x500 with 1 Axes>"
      ]
     },
     "metadata": {},
     "output_type": "display_data"
    }
   ],
   "source": [
    "import matplotlib.pyplot as plt\n",
    "\n",
    "plt.figure(figsize=(8,5))\n",
    "plt.plot(sizes_k, times_k, marker='o', linestyle='-', color='b', label='karatsuba')\n",
    "plt.plot(sizes_d, times_d, marker='o', linestyle='-', color='r', label='directo')\n",
    "plt.plot(sizes_dv, times_dv, marker='o', linestyle='-', color='g', label='DyV ingenuo')\n",
    "\n",
    "\n",
    "plt.xscale('log')\n",
    "plt.yscale('log')\n",
    "\n",
    "plt.xlabel(\"Input Size (n)\")\n",
    "plt.ylabel(\"Execution Time\")\n",
    "plt.title(\"\")\n",
    "plt.legend()\n",
    "plt.grid(True, which=\"both\", linestyle=\"--\", linewidth=0.5)\n",
    "\n",
    "plt.show()"
   ]
  },
  {
   "cell_type": "code",
   "execution_count": 13,
   "id": "cdf0d09d-6f68-4de5-810e-aa9b4b85fa60",
   "metadata": {},
   "outputs": [
    {
     "name": "stdout",
     "output_type": "stream",
     "text": [
      "Potencia karatsuba: 1.37\n",
      "Potencia directo: 2.00\n",
      "Potencia DyV ingénuo: 2.00\n"
     ]
    }
   ],
   "source": [
    "# compute slope\n",
    "from scipy.stats import linregress\n",
    "\n",
    "\n",
    "print(f'Potencia karatsuba: {linregress(np.log(sizes_k), np.log(times_k)).slope:.2f}')\n",
    "print(f'Potencia directo: {linregress(np.log(sizes_d), np.log(times_d)).slope:.2f}')\n",
    "print(f'Potencia DyV ingénuo: {linregress(np.log(sizes_dv), np.log(times_dv)).slope:.2f}')"
   ]
  }
 ],
 "metadata": {
  "kernelspec": {
   "display_name": "Python 3 (ipykernel)",
   "language": "python",
   "name": "python3"
  },
  "language_info": {
   "codemirror_mode": {
    "name": "ipython",
    "version": 3
   },
   "file_extension": ".py",
   "mimetype": "text/x-python",
   "name": "python",
   "nbconvert_exporter": "python",
   "pygments_lexer": "ipython3",
   "version": "3.9.21"
  }
 },
 "nbformat": 4,
 "nbformat_minor": 5
}
