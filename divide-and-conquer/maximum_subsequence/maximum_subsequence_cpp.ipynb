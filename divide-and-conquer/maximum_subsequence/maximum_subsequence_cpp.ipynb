{
 "cells": [
  {
   "cell_type": "markdown",
   "id": "03329e8b-49cd-473c-8f6a-b1ce29ae1b3e",
   "metadata": {},
   "source": [
    "# Problema"
   ]
  },
  {
   "cell_type": "markdown",
   "id": "3ad208a8-cded-48e4-ad65-539ea7f59523",
   "metadata": {},
   "source": [
    "Dado un array de números (también podrían ser caracteres), encontrar la subsecuencia ascendente más larga."
   ]
  },
  {
   "cell_type": "markdown",
   "id": "be2bded8-0ace-4d6d-a9e6-1939da85c8e7",
   "metadata": {},
   "source": [
    "## Algoritmo DyV"
   ]
  },
  {
   "cell_type": "code",
   "execution_count": 1,
   "id": "f8f10671-1c21-4a82-a602-de679f556778",
   "metadata": {},
   "outputs": [],
   "source": [
    "#include <iostream>\n",
    "\n",
    "using namespace std;\n",
    "\n",
    "typedef pair<int, int> pii;"
   ]
  },
  {
   "cell_type": "code",
   "execution_count": 2,
   "id": "7a6a8de2-663d-435d-ad80-9a18391c9339",
   "metadata": {},
   "outputs": [],
   "source": [
    "pii compute_max(int s1, int s2, int t1, int t2) {\n",
    "    if (s2 - s1 > t2 - t1)\n",
    "        return {s1, s2};\n",
    "    else\n",
    "        return {t1, t2};\n",
    "}"
   ]
  },
  {
   "cell_type": "code",
   "execution_count": 3,
   "id": "94814036-bb21-43e5-98e4-904b6ce7728b",
   "metadata": {},
   "outputs": [],
   "source": [
    "pii compute_middle(const int arr[], int a, int b, int c, int d) {\n",
    "    int aux1 = b, aux2 = c;\n",
    "    while (aux1 - 1 >= a && arr[aux1] >= arr[aux1 - 1]) {\n",
    "        aux1--;\n",
    "    }\n",
    "    while (aux2 + 1 <= d && arr[aux2] <= arr[aux2 + 1]) {\n",
    "        aux2++;\n",
    "    }\n",
    "    return {aux1, aux2};\n",
    "}"
   ]
  },
  {
   "cell_type": "code",
   "execution_count": 4,
   "id": "ae8d4035-019f-4c22-a622-70442dba806c",
   "metadata": {},
   "outputs": [],
   "source": [
    "pii longest_increasing_subsequence(const int arr[], int i, int j) {\n",
    "    if (j == i) {\n",
    "        return {i, j};\n",
    "    }\n",
    "    int mid = (j - i) / 2;\n",
    "    pii left = longest_increasing_subsequence(arr, i, i + mid);\n",
    "    pii right = longest_increasing_subsequence(arr, i + mid + 1, j);\n",
    "    pii middle = compute_middle(arr, i, i + mid, i + mid + 1, j);\n",
    "\n",
    "    pii m1 = compute_max(left.first, left.second, right.first, left.second);\n",
    "    pii m2 = compute_max(m1.first, m1.second, middle.first, middle.second);\n",
    "    return m2;\n",
    "}\n"
   ]
  },
  {
   "cell_type": "code",
   "execution_count": 5,
   "id": "d0bcb3c4-8e96-45c4-b37c-58be49949b2e",
   "metadata": {},
   "outputs": [
    {
     "name": "stdout",
     "output_type": "stream",
     "text": [
      "Subsecuencia ascendente más larga: (9, 19)\n"
     ]
    }
   ],
   "source": [
    "int arr[] = {1, 2, 1, 2, 3, 4, 9, 8, 7, 1, 2, 3, 4, 5, 6, 7, 8, 9, 10, 11, 1};\n",
    "int size = sizeof(arr) / sizeof(arr[0]);\n",
    "pii result = longest_increasing_subsequence(arr, 0, size - 1);\n",
    "cout << \"Subsecuencia ascendente más larga: (\" << result.first << \", \" << result.second << \")\\n\";"
   ]
  },
  {
   "cell_type": "markdown",
   "id": "cbdd5fe0-2829-46dc-b404-db667f8e2b06",
   "metadata": {},
   "source": [
    "## Casos de prueba"
   ]
  },
  {
   "cell_type": "code",
   "execution_count": 6,
   "id": "e9227bcc-1644-4b3d-9d5c-53789855c148",
   "metadata": {},
   "outputs": [],
   "source": [
    "void test_longest_increasing_subsequence() {\n",
    "    int arr1[] = {10, 20, 30, 5, 6, 7, 8, 9};\n",
    "    int size1 = sizeof(arr1) / sizeof(arr1[0]);\n",
    "    assert(longest_increasing_subsequence(arr1, 0, size1 - 1) == make_pair(3, 7));\n",
    "\n",
    "    int arr2[] = {1, 2, 3, 4, 5};\n",
    "    int size2 = sizeof(arr2) / sizeof(arr2[0]);\n",
    "    assert(longest_increasing_subsequence(arr2, 0, size2 - 1) == make_pair(0, 4));\n",
    "\n",
    "    int arr3[] = {42};\n",
    "    int size3 = sizeof(arr3) / sizeof(arr3[0]);\n",
    "    assert(longest_increasing_subsequence(arr3, 0, size3 - 1) == make_pair(0, 0));\n",
    "\n",
    "    int arr4[] = {5, 4, 3, 2, 1};\n",
    "    int size4 = sizeof(arr4) / sizeof(arr4[0]);\n",
    "    pii res4 = longest_increasing_subsequence(arr4, 0, size4 - 1);\n",
    "    assert(res4.second - res4.first == 0);\n",
    "\n",
    "    int arr5[] = {1, 2, 1, 2, 3, 1, 2, 3, 4};\n",
    "    int size5 = sizeof(arr5) / sizeof(arr5[0]);\n",
    "    assert(longest_increasing_subsequence(arr5, 0, size5 - 1) == make_pair(5, 8));\n",
    "\n",
    "    int arr6[] = {1, 2, 1, 2, 3, 7, 8, 9, 1, 2, 3, 4};\n",
    "    int size6 = sizeof(arr5) / sizeof(arr5[0]);\n",
    "    assert(longest_increasing_subsequence(arr6, 0, size6 - 1) == make_pair(2, 7));\n",
    "\n",
    "    cout << \"Todos los tests han pasado!\\n\";\n",
    "}\n"
   ]
  },
  {
   "cell_type": "code",
   "execution_count": 7,
   "id": "edc20c65-a8ba-4645-95c6-b30884a35ba3",
   "metadata": {},
   "outputs": [
    {
     "name": "stdout",
     "output_type": "stream",
     "text": [
      "Todos los tests han pasado!\n"
     ]
    }
   ],
   "source": [
    "test_longest_increasing_subsequence()"
   ]
  },
  {
   "cell_type": "markdown",
   "id": "e081537d-0465-4446-964c-3ad1a262fda0",
   "metadata": {},
   "source": [
    "## Tiempo mejor caso"
   ]
  },
  {
   "cell_type": "markdown",
   "id": "4af20459-4b8a-49b4-8585-624527e12d99",
   "metadata": {},
   "source": [
    "El tiempo en el mejor caso es cuando el array está ordenado de manera descendente. De este modo la función `compute_middle` nunca llega a entrar en los bucles. Así pues, el tiempo del algoritmo en el mejor caso se puede expresar de la siguiente manera:\n",
    "\n",
    "1. Si caso base: constante $a$.\n",
    "2. En otro caso: $2t(n/2) + c$.\n",
    "\n",
    "Usando el teorema maestro: $t(n)\\in\\Theta(n)$.\n"
   ]
  },
  {
   "cell_type": "code",
   "execution_count": 8,
   "id": "0ddff2d8-49ee-4d50-8759-24fe4d33b6a9",
   "metadata": {},
   "outputs": [
    {
     "name": "stdout",
     "output_type": "stream",
     "text": [
      "n = 1024, time = 0.033 miliseconds\n",
      "n = 2048, time = 0.065 miliseconds\n",
      "n = 4096, time = 0.137 miliseconds\n",
      "n = 8192, time = 0.252 miliseconds\n",
      "n = 16384, time = 0.517 miliseconds\n",
      "n = 32768, time = 1.039 miliseconds\n",
      "n = 65536, time = 2.057 miliseconds\n",
      "n = 131072, time = 3.954 miliseconds\n",
      "n = 262144, time = 8.171 miliseconds\n",
      "n = 524288, time = 16.372 miliseconds\n",
      "n = 1048576, time = 31.954 miliseconds\n",
      "n = 2097152, time = 64.767 miliseconds\n",
      "n = 4194304, time = 129.181 miliseconds\n",
      "n = 8388608, time = 257.708 miliseconds\n",
      "n = 16777216, time = 520.593 miliseconds\n",
      "n = 33554432, time = 1036.44 miliseconds\n",
      "n = 67108864, time = 2066.98 miliseconds\n",
      "n = 134217728, time = 4142.97 miliseconds\n",
      "n = 268435456, time = 8306.32 miliseconds\n",
      "n = 536870912, time = 16624.3 miliseconds\n"
     ]
    }
   ],
   "source": [
    "#include <iostream>\n",
    "#include <fstream> \n",
    "#include <sys/time.h>\n",
    "\n",
    "\n",
    "using namespace std;\n",
    "\n",
    "\n",
    "const int numSizes = 20;  \n",
    "int sizes[numSizes];\n",
    "for (int i = 0; i < numSizes; ++i) {\n",
    "    sizes[i] = static_cast<int>(pow(2, 10 + i));  // 10 + i gives us 2^10 to 2^16\n",
    "}\n",
    "ofstream dataFile(\"mejorcaso.txt\");\n",
    "\n",
    "for (int i = 0; i < numSizes; i++) {\n",
    "        int n = sizes[i];\n",
    "        int* arr = new int[n];\n",
    "        \n",
    "        for (int j = 0; j < n; j++) {\n",
    "            arr[j] = -j;\n",
    "        }\n",
    "\n",
    "        struct timeval ti, tf;\n",
    "        double time;\n",
    "        gettimeofday(&ti, NULL);\n",
    "        longest_increasing_subsequence(arr, 0, n - 1);\n",
    "        gettimeofday(&tf, NULL);\n",
    "    \n",
    "        time = (tf.tv_sec - ti.tv_sec)*1000 + (tf.tv_usec - ti.tv_usec)/1000.0;\n",
    "\n",
    "        cout << \"n = \" << n << \", time = \" << time << \" miliseconds\" << endl;\n",
    "        dataFile << n << \" \" << time << endl;\n",
    "\n",
    "        delete[] arr;\n",
    "}\n",
    "\n",
    "dataFile.close();"
   ]
  },
  {
   "cell_type": "markdown",
   "id": "527bca34-4c41-4a3c-ad06-a6fbcc8a9ab2",
   "metadata": {},
   "source": [
    "## Tiempo en el peor caso"
   ]
  },
  {
   "cell_type": "markdown",
   "id": "b12f2192-5323-45db-aba1-d54701972120",
   "metadata": {},
   "source": [
    "El tiempo en el mejor caso es cuando el array ya está ordenado de manera ascendente. De este modo la función `compute_middle` ejecuta los dos bucles que resulta en recorrer dos arrays de tamaño $n/2$. Así pues, el tiempo del algoritmo en el peor caso se puede expresar de la siguiente manera:\n",
    "\n",
    "1. Si caso base: constante $a$.\n",
    "2. En otro caso: $2t(n/2) + \\Theta(n)$.\n",
    "\n",
    "Usando el teorema maestro: $t(n)\\in\\Theta(n\\log n)$."
   ]
  },
  {
   "cell_type": "code",
   "execution_count": 9,
   "id": "61883a7d-bf20-4447-987a-d5598dc44b62",
   "metadata": {},
   "outputs": [
    {
     "name": "stdout",
     "output_type": "stream",
     "text": [
      "n = 1024, time = 0.038 miliseconds\n",
      "n = 2048, time = 0.094 miliseconds\n",
      "n = 4096, time = 0.175 miliseconds\n",
      "n = 8192, time = 0.311 miliseconds\n",
      "n = 16384, time = 0.643 miliseconds\n",
      "n = 32768, time = 1.348 miliseconds\n",
      "n = 65536, time = 2.781 miliseconds\n",
      "n = 131072, time = 5.737 miliseconds\n",
      "n = 262144, time = 13.212 miliseconds\n",
      "n = 524288, time = 26.137 miliseconds\n",
      "n = 1048576, time = 49.699 miliseconds\n",
      "n = 2097152, time = 101.329 miliseconds\n",
      "n = 4194304, time = 205.488 miliseconds\n",
      "n = 8388608, time = 416.615 miliseconds\n",
      "n = 16777216, time = 872.284 miliseconds\n",
      "n = 33554432, time = 1763.65 miliseconds\n",
      "n = 67108864, time = 3603.35 miliseconds\n",
      "n = 134217728, time = 7331.86 miliseconds\n",
      "n = 268435456, time = 14833 miliseconds\n",
      "n = 536870912, time = 29864.7 miliseconds\n"
     ]
    }
   ],
   "source": [
    "#include <iostream>\n",
    "#include <fstream> \n",
    "#include <sys/time.h>\n",
    "\n",
    "\n",
    "using namespace std;\n",
    "\n",
    "\n",
    "const int numSizes = 20;  \n",
    "int sizes[numSizes];\n",
    "for (int i = 0; i < numSizes; ++i) {\n",
    "    sizes[i] = static_cast<int>(pow(2, 10 + i));  // 10 + i gives us 2^10 to 2^16\n",
    "}\n",
    "ofstream dataFile(\"peorcaso.txt\");\n",
    "\n",
    "for (int i = 0; i < numSizes; i++) {\n",
    "        int n = sizes[i];\n",
    "        int* arr = new int[n];\n",
    "        \n",
    "        for (int j = 0; j < n; j++) {\n",
    "            arr[j] = j;\n",
    "        }\n",
    "\n",
    "        struct timeval ti, tf;\n",
    "        double time;\n",
    "        gettimeofday(&ti, NULL);\n",
    "        longest_increasing_subsequence(arr, 0, n - 1);\n",
    "        gettimeofday(&tf, NULL);\n",
    "    \n",
    "        time = (tf.tv_sec - ti.tv_sec)*1000 + (tf.tv_usec - ti.tv_usec)/1000.0;\n",
    "\n",
    "        cout << \"n = \" << n << \", time = \" << time << \" miliseconds\" << endl;\n",
    "        dataFile << n << \" \" << time << endl;\n",
    "\n",
    "        delete[] arr;\n",
    "}\n",
    "\n",
    "dataFile.close();"
   ]
  }
 ],
 "metadata": {
  "kernelspec": {
   "display_name": "C++17",
   "language": "C++17",
   "name": "xcpp17"
  },
  "language_info": {
   "codemirror_mode": "text/x-c++src",
   "file_extension": ".cpp",
   "mimetype": "text/x-c++src",
   "name": "c++",
   "version": "17"
  }
 },
 "nbformat": 4,
 "nbformat_minor": 5
}
