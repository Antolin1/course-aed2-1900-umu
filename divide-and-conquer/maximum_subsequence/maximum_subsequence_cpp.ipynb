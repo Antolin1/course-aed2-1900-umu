{
 "cells": [
  {
   "cell_type": "code",
   "execution_count": 1,
   "id": "f8f10671-1c21-4a82-a602-de679f556778",
   "metadata": {},
   "outputs": [],
   "source": [
    "#include <iostream>\n",
    "\n",
    "using namespace std;\n",
    "\n",
    "typedef pair<int, int> pii;"
   ]
  },
  {
   "cell_type": "code",
   "execution_count": 2,
   "id": "7a6a8de2-663d-435d-ad80-9a18391c9339",
   "metadata": {},
   "outputs": [],
   "source": [
    "pii compute_max(int s1, int s2, int t1, int t2) {\n",
    "    if (s2 - s1 > t2 - t1)\n",
    "        return {s1, s2};\n",
    "    else\n",
    "        return {t1, t2};\n",
    "}"
   ]
  },
  {
   "cell_type": "code",
   "execution_count": 3,
   "id": "ef668bf0-86e6-4609-903a-c14572bf847a",
   "metadata": {},
   "outputs": [],
   "source": [
    "pii merge_lis(const int arr[], int s1, int s2, int t1, int t2, int a, int b, int c, int d) {\n",
    "    if (arr[b] > arr[c]) {\n",
    "        return compute_max(s1, s2, t1, t2);\n",
    "    } else {\n",
    "        if (s2 == b && t1 == c) {\n",
    "            return {s1, t2};\n",
    "        }\n",
    "        if (s2 == b) {\n",
    "            int aux = b;\n",
    "            while (aux + 1 <= d && arr[aux] <= arr[aux + 1]) {\n",
    "                aux++;\n",
    "            }\n",
    "            return compute_max(s1, aux, t1, t2);\n",
    "        }\n",
    "        if (t1 == c) {\n",
    "            int aux = c;\n",
    "            while (aux - 1 >= a && arr[aux] >= arr[aux - 1]) {\n",
    "                aux--;\n",
    "            }\n",
    "            return compute_max(s1, s2, aux, t2);\n",
    "        } else {\n",
    "            int aux1 = b, aux2 = c;\n",
    "            while (aux1 - 1 >= a && arr[aux1] >= arr[aux1 - 1]) {\n",
    "                aux1--;\n",
    "            }\n",
    "            while (aux2 + 1 <= d && arr[aux2] <= arr[aux2 + 1]) {\n",
    "                aux2++;\n",
    "            }\n",
    "            pii m = compute_max(s1, s2, t1, t2);\n",
    "            return compute_max(aux1, aux2, m.first, m.second);\n",
    "        }\n",
    "    }\n",
    "}"
   ]
  },
  {
   "cell_type": "code",
   "execution_count": 4,
   "id": "ae8d4035-019f-4c22-a622-70442dba806c",
   "metadata": {},
   "outputs": [],
   "source": [
    "pii longest_increasing_subsequence(const int arr[], int i, int j) {\n",
    "    if (j == i) {\n",
    "        return {i, j};\n",
    "    }\n",
    "    int mid = (j - i) / 2;\n",
    "    pii left = longest_increasing_subsequence(arr, i, i + mid);\n",
    "    pii right = longest_increasing_subsequence(arr, i + mid + 1, j);\n",
    "    return merge_lis(arr, left.first, left.second, right.first, right.second, i, i + mid, i + mid + 1, j);\n",
    "}\n"
   ]
  },
  {
   "cell_type": "code",
   "execution_count": 5,
   "id": "d0bcb3c4-8e96-45c4-b37c-58be49949b2e",
   "metadata": {},
   "outputs": [
    {
     "name": "stdout",
     "output_type": "stream",
     "text": [
      "Longest Ascending Subsequence: (9, 18)\n"
     ]
    }
   ],
   "source": [
    "int arr[] = {1, 2, 1, 2, 3, 4, 9, 8, 7, 1, 2, 3, 4, 5, 6, 7, 8, 9, 10};\n",
    "int size = sizeof(arr) / sizeof(arr[0]);\n",
    "pii result = longest_increasing_subsequence(arr, 0, size - 1);\n",
    "cout << \"Longest Ascending Subsequence: (\" << result.first << \", \" << result.second << \")\\n\";"
   ]
  },
  {
   "cell_type": "code",
   "execution_count": 6,
   "id": "e9227bcc-1644-4b3d-9d5c-53789855c148",
   "metadata": {},
   "outputs": [],
   "source": [
    "void test_longest_increasing_subsequence() {\n",
    "    int arr1[] = {10, 20, 30, 5, 6, 7, 8, 9};\n",
    "    int size1 = sizeof(arr1) / sizeof(arr1[0]);\n",
    "    assert(longest_increasing_subsequence(arr1, 0, size1 - 1) == make_pair(3, 7));\n",
    "\n",
    "    int arr2[] = {1, 2, 3, 4, 5};\n",
    "    int size2 = sizeof(arr2) / sizeof(arr2[0]);\n",
    "    assert(longest_increasing_subsequence(arr2, 0, size2 - 1) == make_pair(0, 4));\n",
    "\n",
    "    int arr3[] = {42};\n",
    "    int size3 = sizeof(arr3) / sizeof(arr3[0]);\n",
    "    assert(longest_increasing_subsequence(arr3, 0, size3 - 1) == make_pair(0, 0));\n",
    "\n",
    "    int arr4[] = {5, 4, 3, 2, 1};\n",
    "    int size4 = sizeof(arr4) / sizeof(arr4[0]);\n",
    "    pii res4 = longest_increasing_subsequence(arr4, 0, size4 - 1);\n",
    "    assert(res4.second - res4.first == 0);\n",
    "\n",
    "    int arr5[] = {1, 2, 1, 2, 3, 1, 2, 3, 4};\n",
    "    int size5 = sizeof(arr5) / sizeof(arr5[0]);\n",
    "    assert(longest_increasing_subsequence(arr5, 0, size5 - 1) == make_pair(5, 8));\n",
    "\n",
    "    cout << \"All test cases passed!\\n\";\n",
    "}\n"
   ]
  },
  {
   "cell_type": "code",
   "execution_count": 7,
   "id": "edc20c65-a8ba-4645-95c6-b30884a35ba3",
   "metadata": {},
   "outputs": [
    {
     "name": "stdout",
     "output_type": "stream",
     "text": [
      "All test cases passed!\n"
     ]
    }
   ],
   "source": [
    "test_longest_increasing_subsequence()"
   ]
  },
  {
   "cell_type": "code",
   "execution_count": 12,
   "id": "0ddff2d8-49ee-4d50-8759-24fe4d33b6a9",
   "metadata": {},
   "outputs": [
    {
     "name": "stdout",
     "output_type": "stream",
     "text": [
      "n = 1000, time = 23 microseconds\n",
      "n = 2000, time = 38 microseconds\n",
      "n = 4000, time = 76 microseconds\n",
      "n = 8000, time = 146 microseconds\n",
      "n = 16000, time = 314 microseconds\n",
      "n = 32000, time = 605 microseconds\n",
      "n = 64000, time = 1246 microseconds\n",
      "n = 128000, time = 2411 microseconds\n"
     ]
    }
   ],
   "source": [
    "#include <iostream>\n",
    "#include <fstream> \n",
    "#include <chrono>\n",
    "#include <cstdlib>  // For rand()\n",
    "\n",
    "using namespace std;\n",
    "using namespace std::chrono;\n",
    "\n",
    "\n",
    "int sizes[] = {1000, 2000, 4000, 8000, 16000, 32000, 64000, 128000};\n",
    "int numSizes = sizeof(sizes) / sizeof(sizes[0]);\n",
    "ofstream dataFile(\"maximumSubsequence.txt\");\n",
    "\n",
    "for (int i = 0; i < numSizes; i++) {\n",
    "        int n = sizes[i];\n",
    "        int* arr = new int[n];\n",
    "        \n",
    "        // Randomly filling the array\n",
    "        for (int j = 0; j < n; j++) {\n",
    "            arr[j] = j;\n",
    "        }\n",
    "\n",
    "        // Measure the time taken for sorting the array\n",
    "        auto start = high_resolution_clock::now();\n",
    "        longest_increasing_subsequence(arr, 0, n - 1);\n",
    "        auto stop = high_resolution_clock::now();\n",
    "\n",
    "        auto duration = duration_cast<microseconds>(stop - start);\n",
    "        cout << \"n = \" << n << \", time = \" << duration.count() << \" microseconds\" << endl;\n",
    "\n",
    "        dataFile << n << \" \" << duration.count() << endl;\n",
    "    \n",
    "        // Don't forget to free the dynamically allocated memory\n",
    "        delete[] arr;\n",
    "}\n",
    "\n",
    "dataFile.close();"
   ]
  }
 ],
 "metadata": {
  "kernelspec": {
   "display_name": "C++17",
   "language": "C++17",
   "name": "xcpp17"
  },
  "language_info": {
   "codemirror_mode": "text/x-c++src",
   "file_extension": ".cpp",
   "mimetype": "text/x-c++src",
   "name": "c++",
   "version": "17"
  }
 },
 "nbformat": 4,
 "nbformat_minor": 5
}
