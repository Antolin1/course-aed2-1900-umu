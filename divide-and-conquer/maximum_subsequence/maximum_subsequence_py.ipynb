{
 "cells": [
  {
   "cell_type": "code",
   "execution_count": 1,
   "id": "58798d2e-bdc8-4a2a-901d-def77e9d924b",
   "metadata": {},
   "outputs": [
    {
     "name": "stdout",
     "output_type": "stream",
     "text": [
      "Longest Ascending Subsequence: (9, 18)\n"
     ]
    }
   ],
   "source": [
    "def longest_increasing_subsequence(arr, i, j):\n",
    "    # This helper function finds the longest increasing subsequence for an array\n",
    "    \n",
    "    if j == i:\n",
    "        return i, j\n",
    "        \n",
    "    \n",
    "    # Split the array into two halves\n",
    "    mid = (j - i) // 2\n",
    "\n",
    "    s1, s2 = longest_increasing_subsequence(arr, i, i + mid)\n",
    "    \n",
    "    t1, t2 = longest_increasing_subsequence(arr, i + mid + 1, j)\n",
    "    \n",
    "    \n",
    "    # Merge the two halves into the longest increasing subsequence\n",
    "    return merge_lis(arr, s1, s2, t1, t2, i, i + mid, i + mid + 1, j)\n",
    "\n",
    "def merge_lis(arr, s1, s2, t1, t2, a, b, c, d):\n",
    "    if arr[b] > arr[c]:\n",
    "        return compute_max(s1, s2, t1, t2)\n",
    "    else:\n",
    "        # both in the frontier\n",
    "        if s2 == b and t1 == c:\n",
    "            return (s1, t2)\n",
    "        # only the first in the frontier:\n",
    "        if s2 == b:\n",
    "            # extend s2 \n",
    "            aux = b\n",
    "            while (arr[aux] <= arr[aux + 1]):\n",
    "                aux += 1\n",
    "            return compute_max(s1, aux, t1, t2)\n",
    "        if t1 == c:\n",
    "            # extend t1\n",
    "            aux = c\n",
    "            while (arr[aux] >= arr[aux - 1]):\n",
    "                aux -= 1\n",
    "            return compute_max(s1, s2, aux, t2)\n",
    "        else:\n",
    "            # none in the frontier\n",
    "            aux1 = b\n",
    "            aux2 = c\n",
    "\n",
    "            while (arr[aux1] >= arr[aux1 - 1]):\n",
    "                aux1 -= 1\n",
    "            while (arr[aux2] <= arr[aux2 + 1]):\n",
    "                aux2 += 1\n",
    "\n",
    "            m1, m2 = compute_max(s1, s2, t1, t2)\n",
    "            return compute_max(aux1, aux2, m1, m2)\n",
    "\n",
    "def compute_max(s1, s2, t1, t2):\n",
    "    if s2 - s1 > t2 - t1:\n",
    "        return (s1, s2)\n",
    "    else:\n",
    "        return (t1, t2)\n",
    "\n",
    "# Example:\n",
    "arr = [1, 2, 1, 2, 3, 4, 9, 8, 7, 1, 2, 3, 4, 5, 6, 7, 8, 9, 10]\n",
    "result = longest_increasing_subsequence(arr, 0, len(arr) - 1)\n",
    "print(\"Longest Ascending Subsequence:\", result)"
   ]
  },
  {
   "cell_type": "code",
   "execution_count": 2,
   "id": "3fab3147-6914-4dca-9380-fd56faa3ee69",
   "metadata": {},
   "outputs": [
    {
     "name": "stdout",
     "output_type": "stream",
     "text": [
      "All test cases passed!\n"
     ]
    }
   ],
   "source": [
    "def test_longest_increasing_subsequence():\n",
    "    arr = [10, 20, 30, 5, 6, 7, 8, 9]\n",
    "    \n",
    "    # Test with the entire array\n",
    "    assert longest_increasing_subsequence(arr, 0, len(arr) - 1) == (3, 7)\n",
    "\n",
    "    # Test with an already increasing sequence\n",
    "    arr2 = [1, 2, 3, 4, 5]\n",
    "    assert longest_increasing_subsequence(arr2, 0, len(arr2) - 1) == (0, 4)\n",
    "\n",
    "    # Test with a single element array\n",
    "    arr3 = [42]\n",
    "    assert longest_increasing_subsequence(arr3, 0, len(arr3) - 1) == (0, 0)\n",
    "\n",
    "    # Test with a decreasing sequence\n",
    "    arr4 = [5, 4, 3, 2, 1]\n",
    "    a, b = longest_increasing_subsequence(arr4, 0, len(arr4) - 1)\n",
    "    assert b - a == 0\n",
    "\n",
    "    # Test with multiple increasing sequences\n",
    "    arr5 = [1, 2, 1, 2, 3, 1, 2, 3, 4]\n",
    "    assert longest_increasing_subsequence(arr5, 0, len(arr5) - 1) == (5, 8)\n",
    "\n",
    "    print(\"All test cases passed!\")\n",
    "\n",
    "# Uncomment the line below to run the test cases\n",
    "test_longest_increasing_subsequence()\n"
   ]
  }
 ],
 "metadata": {
  "kernelspec": {
   "display_name": "Python 3 (ipykernel)",
   "language": "python",
   "name": "python3"
  },
  "language_info": {
   "codemirror_mode": {
    "name": "ipython",
    "version": 3
   },
   "file_extension": ".py",
   "mimetype": "text/x-python",
   "name": "python",
   "nbconvert_exporter": "python",
   "pygments_lexer": "ipython3",
   "version": "3.9.21"
  }
 },
 "nbformat": 4,
 "nbformat_minor": 5
}
