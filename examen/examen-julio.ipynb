{
 "cells": [
  {
   "cell_type": "markdown",
   "id": "a144a106-af48-41e9-8049-b0056815ec9a",
   "metadata": {},
   "source": [
    "# Análisis de algoritmos"
   ]
  },
  {
   "cell_type": "markdown",
   "id": "eaff7ada-03ef-4a2f-a35c-88c7194ca5bd",
   "metadata": {},
   "source": [
    "## Apartado a"
   ]
  },
  {
   "cell_type": "markdown",
   "id": "c88152e7-2a63-47b9-976d-ea4a054353be",
   "metadata": {},
   "source": [
    "Mejor caso y $\\Omega$: Si `par(C[i,1])` es `true` para `i=1`, y luego `par(C[i,j])` es true (para `i=1` y `j=2`), `encontrado` es verdadero y el algoritmo termina tras unas pocas instrucciones, porque ambos bucles terminan cuando `encontrado==true`. Eso sería el mejor caso, que daría que $t(n)\\in \\Omega(1)$.\n",
    "\n",
    "\n",
    "Peor caso y $O$: Se da cuando nunca se ejecuta `encontrado` = verdadero, lo que ocurre por ejemplo cuando el array `C` está formado por números impares. En ese caso $t(n)$ pertenece a $O(n\\log(n))$, el log corresponde al bucle externo (se actualiza con `i=i*2`) y la `n` al bucle interno (`j=j+1`, `j=2…n`)."
   ]
  },
  {
   "cell_type": "markdown",
   "id": "67df1a1a-f928-4bc6-8c3b-8425e2654a49",
   "metadata": {},
   "source": [
    "## Apartado b"
   ]
  },
  {
   "cell_type": "markdown",
   "id": "f18f9eb9-4a33-487e-9d1c-8122c247a847",
   "metadata": {},
   "source": [
    "Suponiendo $n$ potencia de $2$: $n=2^k$, $k=\\log_2(n)$"
   ]
  },
  {
   "cell_type": "markdown",
   "id": "1bf8e345-8312-417c-8aff-32a2933f842e",
   "metadata": {},
   "source": [
    "$t’(k) – 5t’(k-1) – 6t’(k-2) = 2^k$"
   ]
  },
  {
   "cell_type": "markdown",
   "id": "f5b2c1d9-c91b-480a-80d0-b07639f2a623",
   "metadata": {},
   "source": [
    "$(x^2 – 5x – 6)(x-2) = 0$ con raíces $x=-1,6,2$"
   ]
  },
  {
   "cell_type": "markdown",
   "id": "4a30548a-6a56-4044-a361-45b196e8be78",
   "metadata": {},
   "source": [
    "$t(n) = c_1(-1)^{\\log_2(n)} + c_2n^{2,6} + c_3n$\n",
    "\n",
    "$n=2,4,8$"
   ]
  },
  {
   "cell_type": "markdown",
   "id": "1197dc63-bcb0-4ec6-80f7-fe825be2760b",
   "metadata": {},
   "source": [
    "# DyV"
   ]
  },
  {
   "cell_type": "markdown",
   "id": "7ccdbe9f-bf45-49d3-bc1b-ebeeb89ab9f7",
   "metadata": {},
   "source": [
    "La idea princial es darse cuenta de que en el centro existen dos cadenas que cruzan."
   ]
  },
  {
   "cell_type": "code",
   "execution_count": 5,
   "id": "4b93ecf5-e91c-434c-afc9-ffe80979a81c",
   "metadata": {},
   "outputs": [
    {
     "name": "stdout",
     "output_type": "stream",
     "text": [
      "(5, 6, 7, 7)\n"
     ]
    }
   ],
   "source": [
    "# función principal\n",
    "def mayor_bache(S, l, r):\n",
    "    if r - l + 1 < 3:\n",
    "        return None  # No hay tripleta posible\n",
    "\n",
    "    m = (l + r) // 2\n",
    "\n",
    "    # Mejor tripleta en la izquierda\n",
    "    izquierda = mayor_bache(S, l, m)\n",
    "    # Mejor tripleta en la derecha\n",
    "    derecha = mayor_bache(S, m + 1, r)\n",
    "    # Mejor tripleta cruzando\n",
    "    cruzada = mejor_tripleta_cruzada(S, l, m, r)\n",
    "\n",
    "    # Elegir la mejor de las tres\n",
    "    candidatos = [t for t in [izquierda, derecha, cruzada] if t is not None]\n",
    "    if not candidatos:\n",
    "        return None\n",
    "    return max(candidatos, key=lambda t: S[t[0]] + S[t[2]] - S[t[1]])\n",
    "\n",
    "def mejor_tripleta_cruzada(S, l, m, r):\n",
    "    i = m - 1\n",
    "    t1 = None\n",
    "    if i >= l and i + 2 <= r:\n",
    "        if S[i+1] < S[i] and S[i+1] < S[i+2]:\n",
    "            t1 = (i, i+1, i+2)\n",
    "\n",
    "    i = m\n",
    "    t2 = None\n",
    "    if i >= l and i + 2 <= r:\n",
    "        if S[i+1] < S[i] and S[i+1] < S[i+2]:\n",
    "            t2 = (i, i+1, i+2)\n",
    "\n",
    "    # Escoger la mejor\n",
    "    tuplas = [t for t in [t1, t2] if t is not None]\n",
    "    if not tuplas:\n",
    "        return None\n",
    "    else:\n",
    "        return max(tuplas, key=lambda t: S[t[0]] + S[t[2]] - S[t[1]])\n",
    "\n",
    "def resolver_mayor_bache(S):\n",
    "    resultado = mayor_bache(S, 0, len(S) - 1)\n",
    "    if resultado:\n",
    "        i, j, k = resultado\n",
    "        valor = S[i] + S[k] - S[j]\n",
    "        return (i, j, k, valor)\n",
    "    else:\n",
    "        return None\n",
    "\n",
    "# Ejemplo de uso:\n",
    "S=[1,3,2,2,1,4,1,4,3,5,8,5,5,4]\n",
    "print(resolver_mayor_bache(S))"
   ]
  },
  {
   "cell_type": "markdown",
   "id": "a44742ef-bdea-49eb-a81c-1df2a9176c69",
   "metadata": {},
   "source": [
    "# Voraces"
   ]
  },
  {
   "cell_type": "markdown",
   "id": "f56a4c41-a0d8-4743-b25e-06289b80f12f",
   "metadata": {},
   "source": [
    "La decisión voraz: escoger la casilla de menor peso adyacente. No devuelve la solución óptima, bastaba usar el ejemplo del examen."
   ]
  },
  {
   "cell_type": "code",
   "execution_count": 8,
   "id": "bad960f1-e408-4709-85f0-1dbcde045336",
   "metadata": {},
   "outputs": [],
   "source": [
    "def greedy_path(grid):\n",
    "    n = len(grid)\n",
    "    i, j = 0, 0\n",
    "    path = [(i, j)]\n",
    "    total_cost = grid[i][j]\n",
    "    \n",
    "    while i < n - 1 or j < n - 1:\n",
    "        moves = []\n",
    "        # Mover hacia abajo\n",
    "        if i < n - 1:\n",
    "            moves.append((grid[i + 1][j], (i + 1, j)))\n",
    "        # Mover a la derecha\n",
    "        if j < n - 1:\n",
    "            moves.append((grid[i][j + 1], (i, j + 1)))\n",
    "        # Mover en diagonal (abajo y derecha)\n",
    "        if i < n - 1 and j < n - 1:\n",
    "            moves.append((grid[i + 1][j + 1], (i + 1, j + 1)))\n",
    "        \n",
    "        # Elegir el movimiento con el costo mínimo\n",
    "        cost, (next_i, next_j) = min(moves, key=lambda x: x[0])\n",
    "        path.append((next_i, next_j))\n",
    "        total_cost += cost\n",
    "        i, j = next_i, next_j\n",
    "        \n",
    "    return path, total_cost\n"
   ]
  },
  {
   "cell_type": "code",
   "execution_count": 11,
   "id": "dece8d2a-72bc-4a41-a3d1-51457956d4c8",
   "metadata": {},
   "outputs": [
    {
     "name": "stdout",
     "output_type": "stream",
     "text": [
      "Ruta encontrada: [(0, 0), (1, 0), (2, 0), (2, 1), (3, 2), (3, 3)]\n",
      "Costo total: 11\n"
     ]
    }
   ],
   "source": [
    "grid = [\n",
    "    [3, 3, 0, 0],\n",
    "    [1, 7, 6, 0],\n",
    "    [1, 2, 24, 1],\n",
    "    [3, 3, 1, 3]\n",
    "]\n",
    "    \n",
    "path, cost = greedy_path(grid)\n",
    "print(\"Ruta encontrada:\", path)\n",
    "print(\"Costo total:\", cost)"
   ]
  },
  {
   "cell_type": "markdown",
   "id": "11b2d010-4e98-4472-aa71-364bd9b11e7e",
   "metadata": {},
   "source": [
    "# PD"
   ]
  },
  {
   "cell_type": "markdown",
   "id": "771739dc-0c2c-49d9-928a-ccceb65c873d",
   "metadata": {},
   "source": [
    "La ecuación de recurrencia es:\n",
    "$$\n",
    "dp[i][j] = \\texttt{grid[i][j]} + \\min\n",
    "\\begin{cases}\n",
    "dp[i-1][j] & \\text{si } i > 0 \\\\\n",
    "dp[i][j-1] & \\text{si } j > 0 \\\\\n",
    "dp[i-1][j-1] & \\text{si } i > 0 \\text{ y } j > 0\n",
    "\\end{cases}\n",
    "$$\n",
    "\n",
    "Con el caso base:\n",
    "\n",
    "$$\n",
    "dp[0][0] = \\texttt{grid[0][0]}\n",
    "$$"
   ]
  },
  {
   "cell_type": "code",
   "execution_count": 19,
   "id": "8a38ed71-0427-4dfe-b556-ad24eb2505a0",
   "metadata": {},
   "outputs": [],
   "source": [
    "def min_cost_dp(grid):\n",
    "    n = len(grid)\n",
    "    dp = [[float('inf')] * n for _ in range(n)]\n",
    "    dp[0][0] = grid[0][0]\n",
    "    \n",
    "    for i in range(n):\n",
    "        for j in range(n):\n",
    "            if i > 0:\n",
    "                dp[i][j] = min(dp[i][j], dp[i-1][j] + grid[i][j])\n",
    "            if j > 0:\n",
    "                dp[i][j] = min(dp[i][j], dp[i][j-1] + grid[i][j])\n",
    "            if i > 0 and j > 0:\n",
    "                dp[i][j] = min(dp[i][j], dp[i-1][j-1] + grid[i][j])\n",
    "\n",
    "    return dp, dp[n-1][n-1]\n",
    "    "
   ]
  },
  {
   "cell_type": "code",
   "execution_count": 20,
   "id": "f6fe20b3-a516-4bc3-bff0-82e6b64ea837",
   "metadata": {},
   "outputs": [
    {
     "name": "stdout",
     "output_type": "stream",
     "text": [
      "Costo total: 10\n"
     ]
    }
   ],
   "source": [
    "grid = [\n",
    "    [3, 3, 0, 0],\n",
    "    [1, 7, 6, 0],\n",
    "    [1, 2, 24, 1],\n",
    "    [3, 3, 1, 3]\n",
    "]\n",
    "    \n",
    "dp, cost = min_cost_dp(grid)\n",
    "print(\"Costo total:\", cost)"
   ]
  },
  {
   "cell_type": "code",
   "execution_count": 21,
   "id": "dd495625-9f4a-4733-8d4c-a6f39fb5338b",
   "metadata": {},
   "outputs": [],
   "source": [
    "def reconstruir_ruta(dp):\n",
    "    n = len(dp)\n",
    "    i, j = n - 1, n - 1\n",
    "    path = [(i, j)]\n",
    "\n",
    "    while (i, j) != (0, 0):\n",
    "        opciones = []\n",
    "        if i > 0:\n",
    "            opciones.append(((i - 1, j), dp[i - 1][j]))\n",
    "        if j > 0:\n",
    "            opciones.append(((i, j - 1), dp[i][j - 1]))\n",
    "        if i > 0 and j > 0:\n",
    "            opciones.append(((i - 1, j - 1), dp[i - 1][j - 1]))\n",
    "\n",
    "        # Elegimos la celda anterior con menor coste acumulado\n",
    "        (i, j), _ = min(opciones, key=lambda x: x[1])\n",
    "        path.append((i, j))\n",
    "\n",
    "    path.reverse()\n",
    "    return path"
   ]
  },
  {
   "cell_type": "code",
   "execution_count": 22,
   "id": "abbada71-cc30-4b10-8052-d776f4d3bcb9",
   "metadata": {},
   "outputs": [
    {
     "data": {
      "text/plain": [
       "[(0, 0), (0, 1), (0, 2), (0, 3), (1, 3), (2, 3), (3, 3)]"
      ]
     },
     "execution_count": 22,
     "metadata": {},
     "output_type": "execute_result"
    }
   ],
   "source": [
    "reconstruir_ruta(dp)"
   ]
  },
  {
   "cell_type": "markdown",
   "id": "3543222f-8815-4379-a41b-41b2861d994f",
   "metadata": {},
   "source": [
    "# Backtracking"
   ]
  },
  {
   "cell_type": "markdown",
   "id": "5720aedd-0001-4dcd-ad2a-b53fb9255cc7",
   "metadata": {},
   "source": [
    "La idea más limpia que hace uso del esquema visto en clase consiste en llevar la posición actual y que valor se encargue de calcular el peso del camino."
   ]
  },
  {
   "cell_type": "code",
   "execution_count": 12,
   "id": "21a72a4e-0c76-4e34-afcc-cbe66b524544",
   "metadata": {},
   "outputs": [],
   "source": [
    "def solucion(i, j, n):\n",
    "    return i == n-1 and j == n-1\n",
    "\n",
    "def criterio(i, j, n):\n",
    "    if i >= n or j >= n:\n",
    "        return False\n",
    "    return i != n-1 or j != n-1\n",
    "\n",
    "def valor(s, grid):\n",
    "    i_actual = 0\n",
    "    j_actual = 0\n",
    "    b_actual = grid[0][0]\n",
    "    for d in s:\n",
    "        if d == -1:\n",
    "            break\n",
    "        if d == 0:\n",
    "            i_actual += 1\n",
    "        elif d == 1:\n",
    "            j_actual += 1\n",
    "        else:\n",
    "            i_actual += 1\n",
    "            j_actual += 1\n",
    "        b_actual += grid[i_actual][j_actual]\n",
    "    return b_actual\n",
    "\n",
    "def backtracking(grid):\n",
    "    s = [-1]*(2*len(grid)) #0 abajo, 1 derecha, 2 diagonal\n",
    "    i_actual = 0\n",
    "    j_actual = 0\n",
    "    n = len(grid)\n",
    "\n",
    "    voa = float(\"inf\")\n",
    "    soa = None\n",
    "    nivel = 1\n",
    "\n",
    "    while nivel != 0:\n",
    "        # genero un hermano\n",
    "        s[nivel-1] += 1\n",
    "        if s[nivel-1] == 0:\n",
    "            i_actual += 1\n",
    "        elif s[nivel-1] == 1:\n",
    "            i_actual -= 1\n",
    "            j_actual += 1\n",
    "        else:\n",
    "            j_actual -= 1\n",
    "            i_actual += 1\n",
    "            j_actual += 1\n",
    "\n",
    "\n",
    "        if solucion(i_actual, j_actual, n) and valor(s, grid) < voa:\n",
    "            voa = valor(s, grid)\n",
    "            soa = s.copy()\n",
    "\n",
    "        if criterio(i_actual, j_actual, n):\n",
    "            nivel += 1\n",
    "        else:\n",
    "            while nivel > 0 and (not s[nivel-1] < 2):\n",
    "                if s[nivel-1] == 0:\n",
    "                    i_actual -= 1\n",
    "                elif s[nivel-1] == 1:\n",
    "                    j_actual -= 1\n",
    "                else:\n",
    "                    i_actual -= 1\n",
    "                    j_actual -= 1\n",
    "                s[nivel-1] = -1\n",
    "                nivel -= 1\n",
    "    return soa, voa"
   ]
  },
  {
   "cell_type": "code",
   "execution_count": 13,
   "id": "d884f702-349e-4aec-a171-9aa7498dcb01",
   "metadata": {},
   "outputs": [],
   "source": [
    "grid = [\n",
    "    [3, 3, 0, 0],\n",
    "    [1, 7, 6, 0],\n",
    "    [1, 2, 24, 1],\n",
    "    [3, 3, 1, 3]\n",
    "]"
   ]
  },
  {
   "cell_type": "code",
   "execution_count": 14,
   "id": "5978e026-b737-4f07-9d71-8d1e395ab68f",
   "metadata": {},
   "outputs": [
    {
     "data": {
      "text/plain": [
       "([0, 2, 2, 1, -1, -1, -1, -1], 10)"
      ]
     },
     "execution_count": 14,
     "metadata": {},
     "output_type": "execute_result"
    }
   ],
   "source": [
    "backtracking(grid)"
   ]
  }
 ],
 "metadata": {
  "kernelspec": {
   "display_name": "Python 3 (ipykernel)",
   "language": "python",
   "name": "python3"
  },
  "language_info": {
   "codemirror_mode": {
    "name": "ipython",
    "version": 3
   },
   "file_extension": ".py",
   "mimetype": "text/x-python",
   "name": "python",
   "nbconvert_exporter": "python",
   "pygments_lexer": "ipython3",
   "version": "3.9.21"
  }
 },
 "nbformat": 4,
 "nbformat_minor": 5
}
