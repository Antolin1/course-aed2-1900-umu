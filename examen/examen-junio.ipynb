{
 "cells": [
  {
   "cell_type": "markdown",
   "id": "a144a106-af48-41e9-8049-b0056815ec9a",
   "metadata": {},
   "source": [
    "# Análisis de algoritmos"
   ]
  },
  {
   "cell_type": "code",
   "execution_count": 35,
   "id": "1f91990c-5f5a-4e2f-a51d-ac5416f96519",
   "metadata": {},
   "outputs": [],
   "source": [
    "def sub_array_sum_aux(arr, m):\n",
    "    if m == 0:\n",
    "        return arr[0]\n",
    "    else:\n",
    "        return max(arr[m], arr[m] + sub_array_sum_aux(arr, m-1))\n",
    "\n",
    "def sub_array_sum(arr, n):\n",
    "    max_sum = -float(\"inf\")\n",
    "    for i in range(0, n):\n",
    "        max_sum = max(max_sum, sub_array_sum_aux(arr, i))\n",
    "    return max_sum"
   ]
  },
  {
   "cell_type": "markdown",
   "id": "c88152e7-2a63-47b9-976d-ea4a054353be",
   "metadata": {},
   "source": [
    "La función auxiliar es una función recursiva cuyo tiempo es de la forma $t(m)=t(m-1) + C\\in \\Theta(m).$ La función principal consta de un simple bucle que llama a la función auxiliar: $t(n) = C + \\sum_i \\Theta(i)\\in \\Theta(n^2).$"
   ]
  },
  {
   "cell_type": "markdown",
   "id": "5cbee703-6d61-4f9f-bfbe-5c39cbecdf9e",
   "metadata": {},
   "source": [
    "## Incidencias"
   ]
  },
  {
   "cell_type": "code",
   "execution_count": 1,
   "id": "8d1e8656-2845-47be-bc2a-e19b5746aff5",
   "metadata": {},
   "outputs": [],
   "source": [
    "def busqueda_recursiva(arr, x, left, right):\n",
    "    if right == left:\n",
    "        return arr[right] == x\n",
    "    else:\n",
    "        mid = (left + right) // 2\n",
    "        encontrado_l = busqueda_recursiva(arr, x, left, mid)\n",
    "        if encontrado_l:\n",
    "            return True\n",
    "        encontrado_d = busqueda_recursiva(arr, x, mid + 1, right)\n",
    "        return encontrado_d"
   ]
  },
  {
   "cell_type": "markdown",
   "id": "ed70510a-169b-4a4e-9cfc-a066266619ff",
   "metadata": {},
   "source": [
    "En el mejor caso, nunca va a explorar el lado derecho: $t(n)=t(n/2)+C$. Usando el teorema maestro, $t(n)\\in\\Theta(\\log n)$."
   ]
  },
  {
   "cell_type": "markdown",
   "id": "ce41329e-d4d6-4196-ab12-79b992a1b51c",
   "metadata": {},
   "source": [
    "En el peor caso, explora las dos mitades en toda llamada: $t(n)=2t(n/2)+C$. Usando el teorema maestro, $t(n)\\in\\Theta( n)$."
   ]
  },
  {
   "cell_type": "markdown",
   "id": "38760a78-9c33-4365-95be-7190bb102038",
   "metadata": {},
   "source": [
    "No hay un orden exacto porque los órdendes del peor y mejor caso no coinciden."
   ]
  },
  {
   "cell_type": "markdown",
   "id": "06c4d940-98ee-4a2e-928f-b256262e0204",
   "metadata": {},
   "source": [
    "La búsqueda tradicional es $\\Theta(n)$ y $\\Theta(1)$ en el peor y mejor caso respectivamente. Por tanto, esta versión recursiva es peor ya que, el tiempo en el mejor caso es peor ($\\Theta(1)$ vs $\\Theta(\\log n)$)."
   ]
  },
  {
   "cell_type": "markdown",
   "id": "1197dc63-bcb0-4ec6-80f7-fe825be2760b",
   "metadata": {},
   "source": [
    "# DyV"
   ]
  },
  {
   "cell_type": "code",
   "execution_count": 1,
   "id": "4b93ecf5-e91c-434c-afc9-ffe80979a81c",
   "metadata": {},
   "outputs": [],
   "source": [
    "def f(arr, i, m):\n",
    "    \"\"\"\n",
    "    Ejemplo de f para que compile\n",
    "    \"\"\"\n",
    "    s = arr[i:i+m]\n",
    "    return len(s) == m and s == ''.join(sorted(s))\n",
    "\n",
    "def frontera(arr, left, mid, right, m):\n",
    "    cont = 0\n",
    "    # Check all substrings of length m that might cross the midpoint\n",
    "    for i in range(mid - m + 2, mid + 1):\n",
    "        if i >= left and i + m <= right + 1:\n",
    "            if f(arr, i, m):\n",
    "                cont += 1\n",
    "    return cont\n",
    "\n",
    "def dyv(arr, left, right, m):\n",
    "    if right - left + 1 < m:\n",
    "        return 0\n",
    "    else:\n",
    "        mid = (left + right) // 2\n",
    "        cont_l = dyv(arr, left, mid, m)\n",
    "        cont_r = dyv(arr, mid + 1, right, m)\n",
    "        cont_m = frontera(arr, left, mid, right, m)\n",
    "        return cont_l + cont_r + cont_m\n",
    "\n"
   ]
  },
  {
   "cell_type": "code",
   "execution_count": 6,
   "id": "efac0aca-1330-4e18-b5ab-677c5ef93de4",
   "metadata": {},
   "outputs": [],
   "source": [
    "# Test Case 1: All increasing substrings\n",
    "assert dyv(\"abcdef\", 0, 5, 3) == 4\n",
    "\n",
    "# Test Case 2: Some sorted substrings\n",
    "assert dyv(\"acbd\", 0, 3, 2) == 2\n",
    "\n",
    "# Test Case 3: No sorted substrings\n",
    "assert dyv(\"dcba\", 0, 3, 2) == 0\n",
    "\n",
    "# Test Case 4: String shorter than m\n",
    "assert dyv(\"abc\", 0, 2, 5) == 0\n",
    "\n",
    "# Test Case 5: Duplicates in sorted substring\n",
    "assert dyv(\"aabbcc\", 0, 5, 2) == 5\n",
    "\n",
    "# Test Case 6: Entire string is sorted and matches m\n",
    "assert dyv(\"abc\", 0, 2, 3) == 1\n",
    "\n",
    "# Test Case 7: Only one valid sorted substring\n",
    "assert dyv(\"zxyab\", 0, 4, 2) == 2  # only \"ab\" is sorted\n"
   ]
  },
  {
   "cell_type": "markdown",
   "id": "32f335ea-2a7b-4f8b-b1f1-d4aa3b4d4c14",
   "metadata": {},
   "source": [
    "El tiempo es $t(n,m)=2t(n/2,m) + f(m).$ Como se supone $m$ constante, entonces $t(n)=2t(n/2)+\\Theta(1) \\in \\Theta(n)$ según el teorema maestro."
   ]
  },
  {
   "cell_type": "markdown",
   "id": "253e4a57-3b1d-4f98-8256-5431f65efe09",
   "metadata": {},
   "source": [
    "## DyV incidencias:"
   ]
  },
  {
   "cell_type": "code",
   "execution_count": 15,
   "id": "357e5635-967f-4609-96fd-99e373cbbeda",
   "metadata": {},
   "outputs": [],
   "source": [
    "def f(arr, i, m):\n",
    "    s = arr[i:i+m]\n",
    "    return len(s) == m and s == ''.join(sorted(s))\n",
    "\n",
    "def frontera(arr, left, mid, right, m):\n",
    "    # Check all substrings of length m that might cross the midpoint\n",
    "    for i in range(mid - m + 2, mid + 1):\n",
    "        if i >= left and i + m <= right + 1:\n",
    "            if f(arr, i, m):\n",
    "                return True\n",
    "    return False\n",
    "\n",
    "def dyv(arr, left, right, m):\n",
    "    if right - left + 1 < m:\n",
    "        return False\n",
    "    else:\n",
    "        mid = (left + right) // 2\n",
    "        cont_l = dyv(arr, left, mid, m)\n",
    "        cont_r = dyv(arr, mid + 1, right, m)\n",
    "        cont_m = frontera(arr, left, mid, right, m)\n",
    "        return cont_l or cont_r or cont_m"
   ]
  },
  {
   "cell_type": "code",
   "execution_count": 16,
   "id": "48492143-7f22-4012-8bf8-99206ffca907",
   "metadata": {},
   "outputs": [],
   "source": [
    "assert dyv(\"abcdef\", 0, 5, 3) == True  # \"abc\" es una subcadena ordenada de longitud 3\n",
    "assert dyv(\"abdecf\", 0, 5, 2) == True  # \"ab\", \"cf\", etc.\n",
    "assert dyv(\"bacdef\", 0, 5, 4) == True  # \"cdef\" es válida\n",
    "assert dyv(\"azbycxdwev\", 0, 9, 2) == True  # longitud 1 siempre es válida (1 letra está ordenada)\n"
   ]
  },
  {
   "cell_type": "code",
   "execution_count": 17,
   "id": "b141d8fd-b3e5-4639-bd87-68aa8fdd92ca",
   "metadata": {},
   "outputs": [],
   "source": [
    "assert dyv(\"zyxwv\", 0, 4, 2) == False  # Todo va en orden inverso\n",
    "assert dyv(\"abc\", 0, 2, 4) == False  # Subcadena de longitud 4 no cabe\n",
    "assert dyv(\"a\", 0, 0, 2) == False  # Longitud insuficiente\n",
    "assert dyv(\"edcba\", 0, 4, 3) == False  # Ninguna subcadena ordenada de 3\n"
   ]
  },
  {
   "cell_type": "markdown",
   "id": "33176c78-7430-48fb-9cd7-894d83c4982b",
   "metadata": {},
   "source": [
    "El tiempo es $t(n,m)=2t(n/2,m) + f(m)$ y se hacen todas las recursiones porque no existe ninguna subcadena que cumpla la condición. Como se supone $m$ constante, entonces $t(n)=2t(n/2)+\\Theta(1) \\in \\Theta(n)$ según el teorema maestro."
   ]
  },
  {
   "cell_type": "markdown",
   "id": "a44742ef-bdea-49eb-a81c-1df2a9176c69",
   "metadata": {},
   "source": [
    "# Voraces"
   ]
  },
  {
   "cell_type": "markdown",
   "id": "f56a4c41-a0d8-4743-b25e-06289b80f12f",
   "metadata": {},
   "source": [
    "La decisión voraz: escoger la estación alcanzable más alejada."
   ]
  },
  {
   "cell_type": "code",
   "execution_count": 29,
   "id": "bad960f1-e408-4709-85f0-1dbcde045336",
   "metadata": {},
   "outputs": [],
   "source": [
    "def voraz(D, C, E):\n",
    "    E.append(D)\n",
    "    num_stops = 0\n",
    "    current_pos = 0\n",
    "    i = 0\n",
    "    n = len(E)\n",
    "    S = []\n",
    "\n",
    "    while current_pos + C < D:\n",
    "\n",
    "        next_stop = i\n",
    "        while next_stop < n and E[next_stop] <= current_pos + C:\n",
    "            next_stop += 1\n",
    "\n",
    "        if i == next_stop:\n",
    "            return \"No sol\" \n",
    "\n",
    "        num_stops += 1\n",
    "        current_pos = E[next_stop - 1]\n",
    "        S.append(current_pos)\n",
    "        i = next_stop\n",
    "\n",
    "    return S\n"
   ]
  },
  {
   "cell_type": "code",
   "execution_count": 31,
   "id": "dece8d2a-72bc-4a41-a3d1-51457956d4c8",
   "metadata": {},
   "outputs": [
    {
     "data": {
      "text/plain": [
       "[200, 400, 500, 700]"
      ]
     },
     "execution_count": 31,
     "metadata": {},
     "output_type": "execute_result"
    }
   ],
   "source": [
    "E = [100, 200, 300, 400, 500, 700]\n",
    "D = 800\n",
    "C = 200\n",
    "voraz(D, C, E)"
   ]
  },
  {
   "cell_type": "markdown",
   "id": "11b2d010-4e98-4472-aa71-364bd9b11e7e",
   "metadata": {},
   "source": [
    "# PD"
   ]
  },
  {
   "cell_type": "markdown",
   "id": "771739dc-0c2c-49d9-928a-ccceb65c873d",
   "metadata": {},
   "source": [
    "Este problema es una versión de fibonacci pero desplazada. La ecuación de recurrencia es $dp(i) = dp(i-1) + dp(i-2)$. Los casos base son: $dp(1) = 1$ y $dp(2) = 2$."
   ]
  },
  {
   "cell_type": "code",
   "execution_count": 30,
   "id": "8a38ed71-0427-4dfe-b556-ad24eb2505a0",
   "metadata": {},
   "outputs": [],
   "source": [
    "def programacion_dinamica(n):\n",
    "    dp = [0]*(n+1)\n",
    "    for i in range(1, n + 1):\n",
    "        if i == 1:\n",
    "            dp[i] = 1\n",
    "        elif i == 2:\n",
    "            dp[i] = 2\n",
    "        else:\n",
    "            dp[i] = dp[i-1] + dp[i-2]\n",
    "    return dp[n]"
   ]
  },
  {
   "cell_type": "code",
   "execution_count": 31,
   "id": "f6fe20b3-a516-4bc3-bff0-82e6b64ea837",
   "metadata": {},
   "outputs": [
    {
     "data": {
      "text/plain": [
       "317811"
      ]
     },
     "execution_count": 31,
     "metadata": {},
     "output_type": "execute_result"
    }
   ],
   "source": [
    "programacion_dinamica(27)"
   ]
  },
  {
   "cell_type": "markdown",
   "id": "99229504-2580-460a-8e96-b931e5101030",
   "metadata": {},
   "source": [
    "## Incidencias"
   ]
  },
  {
   "cell_type": "markdown",
   "id": "2432baea-2109-4e53-bce3-f141bcf92666",
   "metadata": {},
   "source": [
    "La ecuación de recurrencia es $dp(i) = dp(i-1) + dp(i-2) + dp(i-3)$. Los casos base son: $dp(1) = 1$, $dp(2) = 2$, $dp(3)=4$."
   ]
  },
  {
   "cell_type": "code",
   "execution_count": 32,
   "id": "ce582475-29b0-4a95-bcd9-356215346f77",
   "metadata": {},
   "outputs": [],
   "source": [
    "def programacion_dinamica(n):\n",
    "    dp = [-1]*(n+1)\n",
    "    for i in range(1, n + 1):\n",
    "        if i == 1:\n",
    "            dp[i] = 1\n",
    "        elif i == 2:\n",
    "            dp[i] = 2\n",
    "        elif i == 3:\n",
    "            dp[i] = 4\n",
    "        else:\n",
    "            dp[i] = dp[i-1] + dp[i-2] + dp[i-3]\n",
    "    return dp[n]"
   ]
  },
  {
   "cell_type": "code",
   "execution_count": 34,
   "id": "2f2b5af6-d456-404e-90c9-1719c2e4ea54",
   "metadata": {},
   "outputs": [
    {
     "data": {
      "text/plain": [
       "7"
      ]
     },
     "execution_count": 34,
     "metadata": {},
     "output_type": "execute_result"
    }
   ],
   "source": [
    "programacion_dinamica(4)"
   ]
  },
  {
   "cell_type": "markdown",
   "id": "3543222f-8815-4379-a41b-41b2861d994f",
   "metadata": {},
   "source": [
    "# Backtracking"
   ]
  },
  {
   "cell_type": "markdown",
   "id": "5c65ad58-dd9c-4c30-9549-db03abd2bac1",
   "metadata": {},
   "source": [
    "En este caso $s=(x_1,\\dots,x_n)$ donde cada $x_i\\in\\{1,\\dots,n\\}$ va a ser un nodo del grafo. Estamos ante un árbol permutacional. La principal dificultad del algoritmo recae en el *generar*, *valor* y *retroceder*. En *generar*, hay que tener en cuenta 3 casos: si es el primer nivel, si no es el primer nivel pero es el primer hermano y si no es el primer nivel y tampoco el primer hermano. En el *valor* hay que sumar la arista del último nodo con el primero. En *retroceder* hay que tener en cuenta que `coste_actual` solo se modifica cuando `nivel > 1`."
   ]
  },
  {
   "cell_type": "code",
   "execution_count": 75,
   "id": "21a72a4e-0c76-4e34-afcc-cbe66b524544",
   "metadata": {},
   "outputs": [],
   "source": [
    "def solucion(G, nivel, s, visitados):\n",
    "    return visitados[s[nivel]] == 1 and len(G) == nivel\n",
    "\n",
    "def criterio(G, nivel, s, visitados):\n",
    "    return nivel < len(G) and visitados[s[nivel]] == 1\n",
    "\n",
    "def valor(G, s, coste_actual, nivel):\n",
    "    return coste_actual + G[s[nivel]][s[1]]['weight']\n",
    "\n",
    "def backtracking(G):\n",
    "    s = [0]*(len(G) + 1)\n",
    "    visitados = [0]*(len(G) + 1)\n",
    "    coste_actual = 0\n",
    "    voa = float(\"inf\")\n",
    "    soa = None\n",
    "    nivel = 1\n",
    "\n",
    "    while nivel != 0:\n",
    "        # genero un hermano\n",
    "        s[nivel] += 1\n",
    "        if nivel == 1:\n",
    "            visitados[s[nivel]] += 1\n",
    "        else:\n",
    "            if s[nivel] == 1:\n",
    "                coste_actual += G[s[nivel - 1]][s[nivel]]['weight']\n",
    "            else:\n",
    "                visitados[s[nivel]-1] -= 1\n",
    "                coste_actual += G[s[nivel - 1]][s[nivel]]['weight']\n",
    "                coste_actual -= G[s[nivel - 1]][s[nivel]-1]['weight']\n",
    "            visitados[s[nivel]] += 1\n",
    "\n",
    "        if solucion(G, nivel, s, visitados) and valor(G, s, coste_actual, nivel) < voa:\n",
    "            voa = valor(G, s, coste_actual, nivel)\n",
    "            soa = s.copy()\n",
    "\n",
    "        if criterio(G, nivel, s, visitados) and coste_actual < voa:\n",
    "            nivel += 1\n",
    "        else:\n",
    "        # en caso contario, retrocedo hasta que encuentre un nodo con más hermanos\n",
    "        # por explorar\n",
    "            while nivel > 0 and (not s[nivel] < len(G)):\n",
    "                if nivel > 1:\n",
    "                    coste_actual -= G[s[nivel - 1]][s[nivel]]['weight']\n",
    "                visitados[s[nivel] ] -= 1\n",
    "                s[nivel] = 0\n",
    "                nivel -= 1\n",
    "    return soa, voa"
   ]
  },
  {
   "cell_type": "code",
   "execution_count": 76,
   "id": "d884f702-349e-4aec-a171-9aa7498dcb01",
   "metadata": {},
   "outputs": [],
   "source": [
    "import networkx as nx\n",
    "\n",
    "G = nx.Graph()\n",
    "\n",
    "# Add 4 nodes with some random distances (edges with weights)\n",
    "G.add_edge(1, 2, weight=10)\n",
    "G.add_edge(2, 3, weight=20)\n",
    "G.add_edge(3, 4, weight=30)\n",
    "G.add_edge(4, 1, weight=40)\n",
    "G.add_edge(1, 3, weight=50)\n",
    "G.add_edge(2, 4, weight=60)\n",
    "G.add_edge(1, 1, weight=0)\n",
    "G.add_edge(2, 2, weight=0)\n",
    "G.add_edge(3, 3, weight=0)\n",
    "G.add_edge(4, 4, weight=0)"
   ]
  },
  {
   "cell_type": "code",
   "execution_count": 77,
   "id": "5978e026-b737-4f07-9d71-8d1e395ab68f",
   "metadata": {},
   "outputs": [
    {
     "data": {
      "text/plain": [
       "([0, 1, 2, 3, 4], 100)"
      ]
     },
     "execution_count": 77,
     "metadata": {},
     "output_type": "execute_result"
    }
   ],
   "source": [
    "backtracking(G)"
   ]
  },
  {
   "cell_type": "markdown",
   "id": "01c40ab2-5ed5-4284-af50-01f1561ea9a1",
   "metadata": {},
   "source": [
    "El orden del algoritmo es $O(n!)$ ya que el tiempo por nodo es constante y el número de nodos es, en el peor de los casos, $O(n!)$ ya que estamos ante un arbol permutacional."
   ]
  },
  {
   "cell_type": "markdown",
   "id": "7db06cf3-5c16-4288-9585-b23180da756f",
   "metadata": {},
   "source": [
    "## Incidencias"
   ]
  },
  {
   "cell_type": "markdown",
   "id": "d068d4dc-5811-4502-9ce2-e119baf7d414",
   "metadata": {},
   "source": [
    "\n",
    "Lo único que cambia es `valor`:\n",
    "\n",
    "```python\n",
    "def valor(G, s, coste_actual, nivel):\n",
    "    return coste_actual #se elimina esto ->+ G[s[nivel]][s[1]]['weight']\n",
    "```"
   ]
  }
 ],
 "metadata": {
  "kernelspec": {
   "display_name": "Python 3 (ipykernel)",
   "language": "python",
   "name": "python3"
  },
  "language_info": {
   "codemirror_mode": {
    "name": "ipython",
    "version": 3
   },
   "file_extension": ".py",
   "mimetype": "text/x-python",
   "name": "python",
   "nbconvert_exporter": "python",
   "pygments_lexer": "ipython3",
   "version": "3.9.21"
  }
 },
 "nbformat": 4,
 "nbformat_minor": 5
}
