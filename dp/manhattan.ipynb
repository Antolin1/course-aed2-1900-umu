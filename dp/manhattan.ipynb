{
 "cells": [
  {
   "cell_type": "code",
   "execution_count": 1,
   "id": "503ea652-15cc-4d38-8f6f-51ddcca746f5",
   "metadata": {},
   "outputs": [],
   "source": [
    "# moverse a la derecha de i,j\n",
    "# ejemplo down[0][0] es moverse hacia abajo de 0,0 vale 1\n",
    "down = [\n",
    "    [1, 0, 2, 4, 3],\n",
    "    [4, 6, 5, 2, 1],\n",
    "    [4, 4, 5, 2, 1],\n",
    "    [5, 6, 8, 5, 3]\n",
    "]\n",
    "\n",
    "# moverse derecha desde i,j\n",
    "right = [\n",
    "    [3, 2, 4, 0],\n",
    "    [3, 2, 4, 2],\n",
    "    [0, 7, 3, 4],\n",
    "    [3, 3, 0, 2],\n",
    "    [1, 3, 2, 2]\n",
    "]\n",
    "\n",
    "#n, m = 5, 5"
   ]
  },
  {
   "cell_type": "code",
   "execution_count": 2,
   "id": "1bbe77af-7ff2-46e8-80f5-9bdde26a25c3",
   "metadata": {},
   "outputs": [],
   "source": [
    "def manhattan_recursivo(i, j):\n",
    "    if i == j == 0:\n",
    "        m = 0\n",
    "    else:\n",
    "        if i > 0:\n",
    "            e_arriba = down[i - 1][j]\n",
    "            m1 = manhattan_recursivo(i - 1, j) + e_arriba\n",
    "        else:\n",
    "            m1 = float(\"-inf\")\n",
    "        \n",
    "        if j > 0:\n",
    "            e_izquierda = right[i][j - 1]\n",
    "            m2 = manhattan_recursivo(i, j - 1) + e_izquierda\n",
    "        else:\n",
    "            m2 = float(\"-inf\")\n",
    "        \n",
    "        m = max(m1, m2)\n",
    "    return m"
   ]
  },
  {
   "cell_type": "code",
   "execution_count": 3,
   "id": "3ceb4c12-b72e-445e-857a-a3d9583f49a5",
   "metadata": {},
   "outputs": [
    {
     "data": {
      "text/plain": [
       "34"
      ]
     },
     "execution_count": 3,
     "metadata": {},
     "output_type": "execute_result"
    }
   ],
   "source": [
    "def manhattan_memo(i, j, memo):\n",
    "    if (i, j) in memo:\n",
    "        return memo[(i,j)]\n",
    "    if i == j == 0:\n",
    "        m = 0\n",
    "    else:\n",
    "        \n",
    "        if i > 0:\n",
    "            e_arriba = down[i - 1][j]\n",
    "            m1 = manhattan_memo(i - 1, j, memo) + e_arriba\n",
    "        else:\n",
    "            m1 = float(\"-inf\")\n",
    "        \n",
    "        if j > 0:\n",
    "            e_izquierda = right[i][j - 1]\n",
    "            m2 = manhattan_memo(i, j - 1, memo) + e_izquierda\n",
    "        else:\n",
    "            m2 = float(\"-inf\")\n",
    "        \n",
    "        m = max(m1, m2)\n",
    "    memo[(i,j)] = m\n",
    "    return m\n",
    "\n",
    "memo = {}\n",
    "manhattan_memo(4, 4, memo)"
   ]
  },
  {
   "cell_type": "code",
   "execution_count": 4,
   "id": "f90a3212-4421-4259-ba6e-43215cc3c576",
   "metadata": {},
   "outputs": [],
   "source": [
    "def reconstruir_memo(memo, n, m):\n",
    "    pos_actual = (n, m)\n",
    "    S = []\n",
    "    while pos_actual != (0,0):\n",
    "        S.append(pos_actual)\n",
    "        i, j = pos_actual\n",
    "        valor = memo[(i,j)]\n",
    "\n",
    "        if i > 0:\n",
    "            e_arriba = down[i - 1][j]\n",
    "            m1 = memo[(i-1,j)] + e_arriba\n",
    "        else:\n",
    "            m1 = float(\"-inf\")\n",
    "                \n",
    "        if j > 0:\n",
    "            e_izquierda = right[i][j - 1]\n",
    "            m2 = memo[(i,j-1)] + e_izquierda\n",
    "        else:\n",
    "            m2 = float(\"-inf\")\n",
    "\n",
    "        if valor == m1:\n",
    "            pos_actual = (i- 1, j)\n",
    "        else:\n",
    "            pos_actual = (i , j - 1)\n",
    "    return S"
   ]
  },
  {
   "cell_type": "code",
   "execution_count": 5,
   "id": "ff8c848d-8c6c-468e-bf69-90f2373f7cb2",
   "metadata": {},
   "outputs": [
    {
     "data": {
      "text/plain": [
       "[(4, 4), (4, 3), (4, 2), (3, 2), (2, 2), (2, 1), (1, 1), (1, 0)]"
      ]
     },
     "execution_count": 5,
     "metadata": {},
     "output_type": "execute_result"
    }
   ],
   "source": [
    "reconstruir_memo(memo, 4, 4)"
   ]
  },
  {
   "cell_type": "code",
   "execution_count": 6,
   "id": "8c3e9c5a-8e0c-490f-b4e6-368d59c4df20",
   "metadata": {},
   "outputs": [],
   "source": [
    "def manhattan_ascendente(n, m):\n",
    "    array = [[0]*(n+1) for i in range(m+1)]\n",
    "    for i in range(0, n + 1):\n",
    "        for j in range(0, m + 1):\n",
    "            if i == 0 == j:\n",
    "                array[i][j] = 0\n",
    "            else:\n",
    "                if i > 0:\n",
    "                    e_arriba = down[i - 1][j]\n",
    "                    m1 = array[i-1][j] + e_arriba\n",
    "                else:\n",
    "                    m1 = float(\"-inf\")\n",
    "                \n",
    "                if j > 0:\n",
    "                    e_izquierda = right[i][j - 1]\n",
    "                    m2 = array[i][j-1] + e_izquierda\n",
    "                else:\n",
    "                    m2 = float(\"-inf\")\n",
    "                array[i][j] = max(m1, m2)\n",
    "    return array[n][m]\n",
    "                "
   ]
  },
  {
   "cell_type": "code",
   "execution_count": 7,
   "id": "3a8e341f-a3d7-45a3-836f-30a99d61dfdd",
   "metadata": {},
   "outputs": [
    {
     "data": {
      "text/plain": [
       "34"
      ]
     },
     "execution_count": 7,
     "metadata": {},
     "output_type": "execute_result"
    }
   ],
   "source": [
    "manhattan_ascendente(4, 4)"
   ]
  },
  {
   "cell_type": "code",
   "execution_count": 8,
   "id": "06765d3f-b149-40ea-9968-500e7148a0c7",
   "metadata": {},
   "outputs": [],
   "source": [
    "def manhattan_ascendente_solución(n, m):\n",
    "    array = [[0]*(n+1) for i in range(m+1)]\n",
    "    for i in range(0, n + 1):\n",
    "        for j in range(0, m + 1):\n",
    "            if i == 0 == j:\n",
    "                array[i][j] = 0\n",
    "            else:\n",
    "                if i > 0:\n",
    "                    e_arriba = down[i - 1][j]\n",
    "                    m1 = array[i-1][j] + e_arriba\n",
    "                else:\n",
    "                    m1 = float(\"-inf\")\n",
    "                \n",
    "                if j > 0:\n",
    "                    e_izquierda = right[i][j - 1]\n",
    "                    m2 = array[i][j-1] + e_izquierda\n",
    "                else:\n",
    "                    m2 = float(\"-inf\")\n",
    "                array[i][j] = max(m1, m2)\n",
    "\n",
    "    pos_actual = (n, m)\n",
    "    S = []\n",
    "    while pos_actual != (0,0):\n",
    "        S.append(pos_actual)\n",
    "        i, j = pos_actual\n",
    "        valor = array[i][j]\n",
    "\n",
    "        if i > 0:\n",
    "            e_arriba = down[i - 1][j]\n",
    "            m1 = array[i-1][j] + e_arriba\n",
    "        else:\n",
    "            m1 = float(\"-inf\")\n",
    "                \n",
    "        if j > 0:\n",
    "            e_izquierda = right[i][j - 1]\n",
    "            m2 = array[i][j-1] + e_izquierda\n",
    "        else:\n",
    "            m2 = float(\"-inf\")\n",
    "\n",
    "        if valor == m1:\n",
    "            pos_actual = (i- 1, j)\n",
    "        else:\n",
    "            pos_actual = (i , j - 1)\n",
    "    \n",
    "    return array[n][m], S"
   ]
  },
  {
   "cell_type": "code",
   "execution_count": 9,
   "id": "4c610953-606c-4088-9d44-40abb575a723",
   "metadata": {},
   "outputs": [
    {
     "data": {
      "text/plain": [
       "(34, [(4, 4), (4, 3), (4, 2), (3, 2), (2, 2), (2, 1), (1, 1), (1, 0)])"
      ]
     },
     "execution_count": 9,
     "metadata": {},
     "output_type": "execute_result"
    }
   ],
   "source": [
    "manhattan_ascendente_solución(4, 4)"
   ]
  }
 ],
 "metadata": {
  "kernelspec": {
   "display_name": "Python 3 (ipykernel)",
   "language": "python",
   "name": "python3"
  },
  "language_info": {
   "codemirror_mode": {
    "name": "ipython",
    "version": 3
   },
   "file_extension": ".py",
   "mimetype": "text/x-python",
   "name": "python",
   "nbconvert_exporter": "python",
   "pygments_lexer": "ipython3",
   "version": "3.9.21"
  }
 },
 "nbformat": 4,
 "nbformat_minor": 5
}
