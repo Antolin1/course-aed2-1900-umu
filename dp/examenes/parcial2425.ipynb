{
 "cells": [
  {
   "cell_type": "markdown",
   "id": "98283a14-47a7-473f-8494-123945fac439",
   "metadata": {},
   "source": [
    "# Motzkin"
   ]
  },
  {
   "cell_type": "markdown",
   "id": "adb71ff7-b2cc-42db-ac29-2e67843dc81e",
   "metadata": {},
   "source": [
    "Tabla de 1 dimensión y tamaño $n+1$ ya que tenemos que resolver $M(0),\\dots,M(n)$ subproblemas."
   ]
  },
  {
   "cell_type": "markdown",
   "id": "6efeaa65-a431-46d9-b52e-ed5124070518",
   "metadata": {},
   "source": [
    "Sustituyendo para $M(4),\\dots,M(0)$ en la ecuación de recurrencia:\n",
    "- $M(4)$ depende de todos los anteriores.\n",
    "- $M(3)$ depende de todos los anteriores.\n",
    "- $M(2)$ depende de todos los anteriores.\n",
    "- $M(0)$ y $M(1)$ son los casos base."
   ]
  },
  {
   "cell_type": "code",
   "execution_count": 1,
   "id": "8154edf1-968e-4b1a-a85f-316c389d943d",
   "metadata": {},
   "outputs": [],
   "source": [
    "def motzkin(n, memo):\n",
    "    if n in memo:\n",
    "        return memo[n]\n",
    "    if n == 0 or n == 1:\n",
    "        r = 1\n",
    "    else:\n",
    "        r = motzkin(n - 1, memo)\n",
    "        for i in range(0, n - 1):\n",
    "            r += motzkin(i, memo)*motzkin(n - 2 - i, memo)\n",
    "    memo[n] = r\n",
    "    return r"
   ]
  },
  {
   "cell_type": "code",
   "execution_count": 2,
   "id": "f3ccae81-f195-4dcd-8585-d94461d511f4",
   "metadata": {},
   "outputs": [
    {
     "data": {
      "text/plain": [
       "2188"
      ]
     },
     "execution_count": 2,
     "metadata": {},
     "output_type": "execute_result"
    }
   ],
   "source": [
    "memo = {}\n",
    "motzkin(10, memo)"
   ]
  },
  {
   "cell_type": "markdown",
   "id": "df1e1df4-8656-48b1-b0f4-7a2e4900ea86",
   "metadata": {},
   "source": [
    "El orden de este algoritmo es $\\Theta(n^2)$. Ya que resolvemos $M(0),\\dots,M(n)$, donde\n",
    "- $M(0)$ y $M(1)$ son casos base y por tanto el tiempo es constante.\n",
    "- $M(i)$ con $i\\geq2$, tenemos un bucle de tamaño $i-1$. Así pues $\\Theta(i)$.\n",
    "\n",
    "$$\\Theta(1) + \\Theta(1) + \\sum_{i=2}^n\\Theta(i) = \\Theta(n^2)$$"
   ]
  },
  {
   "cell_type": "markdown",
   "id": "8a37a13f-561f-45ca-a1de-7bd16f9e89f5",
   "metadata": {},
   "source": [
    "# ¿Existe un camino en un tablero?"
   ]
  },
  {
   "cell_type": "markdown",
   "id": "f5350d4a-0a94-465e-9e08-111b0f71601e",
   "metadata": {},
   "source": [
    "$C(i,j)=$\n",
    "- ($\\texttt{down}[i-1][j]=\\texttt{True}$ and $C(i-1,j)$) ó ($\\texttt{right}[i][j-1]=\\texttt{True}$ and $C(i,j-1)$); si $i>0$ y $j >0$.\n",
    "- $\\texttt{right}[i][j-1]=\\texttt{True}$ and $C(i,j-1)$ si $i=0$\n",
    "- $\\texttt{down}[i-1][j]=\\texttt{True}$ and $C(i-1,j)$ si $j=0$\n",
    "- $\\texttt{True}$ cuando $(i,j)=(0,0)$."
   ]
  },
  {
   "cell_type": "code",
   "execution_count": 1,
   "id": "be75f28a-5747-4f70-a6f0-1caa27978628",
   "metadata": {},
   "outputs": [],
   "source": [
    "def existe_camino(down, right, i, j, memo):\n",
    "    if (i,j) in memo:\n",
    "        return memo[(i,j)]\n",
    "\n",
    "    if i == 0 and j==0:\n",
    "        r = True\n",
    "    else:\n",
    "        r = False\n",
    "        if j > 0:\n",
    "            r = r or right[i][j-1] and existe_camino(down, right, i, j-1, memo)\n",
    "        if i > 0:\n",
    "            r = r or down[i-1][j] and existe_camino(down, right, i-1, j, memo)\n",
    "    memo[(i,j)] = r\n",
    "    return r"
   ]
  },
  {
   "cell_type": "code",
   "execution_count": 2,
   "id": "3d2826a6-a024-4c3e-8898-4ea22857db4d",
   "metadata": {},
   "outputs": [],
   "source": [
    "R_existe = [\n",
    "    [True, True, True],  \n",
    "    [False, False, True],  \n",
    "    [True, True, False], \n",
    "    [False, False, True],  \n",
    "]\n",
    "\n",
    "D_existe = [\n",
    "    [True,  True, True, False],  \n",
    "    [True, False,  False, True],\n",
    "    [True, True,  True, False]\n",
    "]\n"
   ]
  },
  {
   "cell_type": "code",
   "execution_count": 3,
   "id": "f1ab406b-c255-4bbb-9439-13e91edc804e",
   "metadata": {},
   "outputs": [
    {
     "data": {
      "text/plain": [
       "True"
      ]
     },
     "execution_count": 3,
     "metadata": {},
     "output_type": "execute_result"
    }
   ],
   "source": [
    "memo = {}\n",
    "existe_camino(D_existe, R_existe, 3, 3, memo)"
   ]
  },
  {
   "cell_type": "code",
   "execution_count": 4,
   "id": "3e4bdbe9-6cb9-4d60-87b9-943482d72202",
   "metadata": {},
   "outputs": [],
   "source": [
    "R_no_existe = [\n",
    "    [True, True, True],  \n",
    "    [False, False, True], \n",
    "    [False, True, False], \n",
    "    [True, False, True],  \n",
    "]\n",
    "\n",
    "D_no_existe = [\n",
    "    [True,  True, True, False], \n",
    "    [True, False,  False, True],\n",
    "    [True, True,  True, False]\n",
    "]"
   ]
  },
  {
   "cell_type": "code",
   "execution_count": 5,
   "id": "d57c73a7-ff50-48f3-8d07-1a644054c9bc",
   "metadata": {},
   "outputs": [
    {
     "data": {
      "text/plain": [
       "False"
      ]
     },
     "execution_count": 5,
     "metadata": {},
     "output_type": "execute_result"
    }
   ],
   "source": [
    "memo = {}\n",
    "existe_camino(D_no_existe, R_no_existe, 3, 3, memo)"
   ]
  },
  {
   "cell_type": "code",
   "execution_count": 6,
   "id": "dd2c0f1e-6c2c-482f-8331-d03225d287c2",
   "metadata": {},
   "outputs": [],
   "source": [
    "def recuperar(memo, n, m, right):\n",
    "    i = n\n",
    "    j = m\n",
    "\n",
    "    if not memo[(n,m)]:\n",
    "        return \"No hay sol\"\n",
    "    S = [(i,j)]\n",
    "    while (i,j) != (0,0):\n",
    "        if j > 0:\n",
    "            if right[i][j-1] and memo[i, j-1]:\n",
    "                j = j - 1\n",
    "            else:\n",
    "                i = i - 1\n",
    "        else:\n",
    "            i = i - 1\n",
    "        S.append((i,j))\n",
    "    return S[::-1]"
   ]
  },
  {
   "cell_type": "code",
   "execution_count": 8,
   "id": "10616fa9-72ab-4392-8297-b3e87862ec5b",
   "metadata": {},
   "outputs": [
    {
     "data": {
      "text/plain": [
       "[(0, 0), (1, 0), (2, 0), (2, 1), (2, 2), (3, 2), (3, 3)]"
      ]
     },
     "execution_count": 8,
     "metadata": {},
     "output_type": "execute_result"
    }
   ],
   "source": [
    "memo = {}\n",
    "existe_camino(D_existe, R_existe, 3, 3, memo)\n",
    "recuperar(memo, 3, 3, R_existe)"
   ]
  },
  {
   "cell_type": "code",
   "execution_count": 9,
   "id": "c589bb35-e328-4067-ba9c-5fc6f0142285",
   "metadata": {},
   "outputs": [
    {
     "data": {
      "text/plain": [
       "'No hay sol'"
      ]
     },
     "execution_count": 9,
     "metadata": {},
     "output_type": "execute_result"
    }
   ],
   "source": [
    "memo = {}\n",
    "existe_camino(D_no_existe, R_no_existe, 3, 3, memo)\n",
    "recuperar(memo, 3, 3, R_no_existe)"
   ]
  },
  {
   "cell_type": "markdown",
   "id": "d750d7e9-435a-4138-9fec-65e6236ca1b5",
   "metadata": {},
   "source": [
    "# Delannoy"
   ]
  },
  {
   "cell_type": "markdown",
   "id": "59509c8e-ea23-4c8d-b818-8b94f53739e5",
   "metadata": {},
   "source": [
    "Tabla de 2 dimensiones y tamaño $(n+1)\\times(m+1)$ ya que tenemos que resolver $D(i,j)$ para $i=0,\\dots,n$ y $j=0,\\dots,m$ subproblemas."
   ]
  },
  {
   "cell_type": "markdown",
   "id": "09549210-1eaa-4408-8eb5-39992bf69329",
   "metadata": {},
   "source": [
    "Mismo DAG que en Manhattan pero añadiendo aristas en diagonal. Los casos base están en la primera fila y en la primera columna."
   ]
  },
  {
   "cell_type": "code",
   "execution_count": 10,
   "id": "b5e6b4c6-e9e9-40bd-920d-7667a824e25a",
   "metadata": {},
   "outputs": [],
   "source": [
    "def delannoy(n, m, memo):\n",
    "    if (n,m) in memo:\n",
    "        return memo[(n,m)]\n",
    "    if n == 0 or m == 0:\n",
    "        r = 1\n",
    "    else:\n",
    "        r = delannoy(n-1, m, memo) + delannoy(n, m-1, memo) + delannoy(n-1, m-1, memo)\n",
    "    memo[(n,m)] = r\n",
    "    return r"
   ]
  },
  {
   "cell_type": "code",
   "execution_count": 12,
   "id": "44c64269-6b0a-4e36-8aa7-eab0f86065ce",
   "metadata": {},
   "outputs": [
    {
     "data": {
      "text/plain": [
       "8989"
      ]
     },
     "execution_count": 12,
     "metadata": {},
     "output_type": "execute_result"
    }
   ],
   "source": [
    "memo = {}\n",
    "delannoy(6, 6, memo)"
   ]
  },
  {
   "cell_type": "markdown",
   "id": "3989b212-b2a5-429d-827f-162662a1bd69",
   "metadata": {},
   "source": [
    "Para el orden, mismo razonamiento que en Manhattan. Cada subproblema se resuelve en $\\Theta(1)$ y tenemos $\\Theta(nm)$ subproblemas. Por tanto el orden es $\\Theta(nm)$."
   ]
  },
  {
   "cell_type": "markdown",
   "id": "518fb55c-aebb-40eb-97ba-83c8a9675b54",
   "metadata": {},
   "source": [
    "# Rana 🐸"
   ]
  },
  {
   "cell_type": "markdown",
   "id": "f45bbbda-a4d6-45a2-8752-23bca9b98672",
   "metadata": {},
   "source": [
    "$D(i)=$\n",
    "- $\\min(|h(i) - h(i-1)| + D(i-1), |h(i) - h(i-2)| + D(i-2))$ si $i\\geq2$\n",
    "- 0 si $i=0$\n",
    "- $|h(1)-h(0)|$ si $i = 1$"
   ]
  },
  {
   "cell_type": "code",
   "execution_count": 20,
   "id": "d85a543e-9720-4285-a978-110bb30b7829",
   "metadata": {},
   "outputs": [],
   "source": [
    "def rana(h, n, memo):\n",
    "    if n in memo:\n",
    "        return memo[n]\n",
    "    if n == 0:\n",
    "        r = 0\n",
    "    elif n == 1:\n",
    "        r = abs(h[1] - h[0])\n",
    "    else:\n",
    "        r = min(abs(h[n] - h[n-1]) + rana(h, n-1, memo), \n",
    "                abs(h[n] - h[n-2]) + rana(h, n-2, memo))\n",
    "    memo[n] = r\n",
    "    return r"
   ]
  },
  {
   "cell_type": "code",
   "execution_count": 21,
   "id": "a132fdc6-c553-47ce-9855-be0622ccebe0",
   "metadata": {},
   "outputs": [
    {
     "data": {
      "text/plain": [
       "50"
      ]
     },
     "execution_count": 21,
     "metadata": {},
     "output_type": "execute_result"
    }
   ],
   "source": [
    "h = [10, 30, 40, 20, 50, 60]\n",
    "memo = {}\n",
    "rana(h, len(h)-1, memo)"
   ]
  },
  {
   "cell_type": "code",
   "execution_count": 22,
   "id": "a85d9e38-ee91-4930-9a2f-0977e97d6e1e",
   "metadata": {},
   "outputs": [],
   "source": [
    "def reconstruccion(memo, h, n):\n",
    "    x_actual = n\n",
    "    S = [n]\n",
    "    while x_actual != 0:\n",
    "        valor = memo[x_actual]\n",
    "        if valor == abs(h[x_actual] - h[x_actual-1]) + memo[x_actual-1]:\n",
    "            S.append(x_actual - 1)\n",
    "            x_actual -= 1\n",
    "        else:\n",
    "            S.append(x_actual - 2)\n",
    "            x_actual -= 2\n",
    "    return S[::-1]"
   ]
  },
  {
   "cell_type": "code",
   "execution_count": 23,
   "id": "eafae349-a152-4788-bb17-791aded4df48",
   "metadata": {},
   "outputs": [
    {
     "data": {
      "text/plain": [
       "[0, 1, 2, 4, 5]"
      ]
     },
     "execution_count": 23,
     "metadata": {},
     "output_type": "execute_result"
    }
   ],
   "source": [
    "reconstruccion(memo, h, len(h) - 1)"
   ]
  }
 ],
 "metadata": {
  "kernelspec": {
   "display_name": "Python 3 (ipykernel)",
   "language": "python",
   "name": "python3"
  },
  "language_info": {
   "codemirror_mode": {
    "name": "ipython",
    "version": 3
   },
   "file_extension": ".py",
   "mimetype": "text/x-python",
   "name": "python",
   "nbconvert_exporter": "python",
   "pygments_lexer": "ipython3",
   "version": "3.9.21"
  }
 },
 "nbformat": 4,
 "nbformat_minor": 5
}
