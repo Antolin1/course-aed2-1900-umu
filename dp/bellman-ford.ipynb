{
 "cells": [
  {
   "cell_type": "code",
   "execution_count": 1,
   "id": "3a6f931c-0830-44d4-a057-f766180843c7",
   "metadata": {},
   "outputs": [],
   "source": [
    "G = {\n",
    "    0: [],\n",
    "    1: [(0, 4), (2, 1)],\n",
    "    2: [(0, 1)],\n",
    "    3: [(1, 1), (2, 3), (4, 1)],\n",
    "    4: []\n",
    "}"
   ]
  },
  {
   "cell_type": "code",
   "execution_count": 2,
   "id": "1d18fcec-273c-43b5-9295-c4c35a52d113",
   "metadata": {},
   "outputs": [],
   "source": [
    "def bf_recursivo_aux(G, s, v):\n",
    "    if s == v:\n",
    "        return 0\n",
    "    elif len(G[v]) == 0:\n",
    "        return float(\"inf\")\n",
    "    else:\n",
    "        m = float(\"inf\")\n",
    "        for u, w in G[v]:\n",
    "            m = min(m, bf_recursivo_aux(G, s, u) + w)\n",
    "        return m\n",
    "\n",
    "def bf_recursivo(G, s):\n",
    "    resultado = [-1] * len(G)\n",
    "    for v in G:\n",
    "        resultado[v] = bf_recursivo_aux(G, s, v)\n",
    "    return resultado"
   ]
  },
  {
   "cell_type": "code",
   "execution_count": 3,
   "id": "ff97abdf-aae8-41bc-9284-5456aa44aafe",
   "metadata": {},
   "outputs": [
    {
     "data": {
      "text/plain": [
       "[0, 2, 1, 3, inf]"
      ]
     },
     "execution_count": 3,
     "metadata": {},
     "output_type": "execute_result"
    }
   ],
   "source": [
    "bf_recursivo(G, 0)"
   ]
  },
  {
   "cell_type": "code",
   "execution_count": 4,
   "id": "0b1cf014-1b43-436e-b76b-4c046812044b",
   "metadata": {},
   "outputs": [],
   "source": [
    "def bf_recursivo_aux_memo(G, s, v, memo):\n",
    "    if v in memo:\n",
    "        return memo[v]\n",
    "    if s == v:\n",
    "        m = 0\n",
    "    elif len(G[v]) == 0:\n",
    "        m = float(\"inf\")\n",
    "    else:\n",
    "        m = float(\"inf\")\n",
    "        for u, w in G[v]:\n",
    "            m = min(m, bf_recursivo_aux(G, s, u) + w)\n",
    "    memo[v] = m\n",
    "    return m\n",
    "\n",
    "def bf_recursivo_memo(G, s):\n",
    "    memo = {}\n",
    "    for v in G:\n",
    "        bf_recursivo_aux_memo(G, s, v, memo)\n",
    "    return memo"
   ]
  },
  {
   "cell_type": "code",
   "execution_count": 5,
   "id": "8df0fb50-7ec7-46d6-8c54-4b06e4474b06",
   "metadata": {},
   "outputs": [
    {
     "data": {
      "text/plain": [
       "{0: 0, 1: 2, 2: 1, 3: 3, 4: inf}"
      ]
     },
     "execution_count": 5,
     "metadata": {},
     "output_type": "execute_result"
    }
   ],
   "source": [
    "bf_recursivo_memo(G, 0)"
   ]
  },
  {
   "cell_type": "code",
   "execution_count": 6,
   "id": "3b9d7527-02e2-40ed-a600-f0aa7eb921ae",
   "metadata": {},
   "outputs": [],
   "source": [
    "def reconstruir_memo(G, memo, s, t):\n",
    "    if memo[t] == float(\"inf\"):\n",
    "        return \"No hay camino\"\n",
    "\n",
    "    nodo_actual = t\n",
    "    camino = [nodo_actual]\n",
    "    while nodo_actual != s:\n",
    "        valor = memo[nodo_actual]\n",
    "        siguiente = -1\n",
    "        for incidente, peso in G[nodo_actual]:\n",
    "            if valor == peso + memo[incidente]:\n",
    "                siguiente = incidente\n",
    "                break\n",
    "        camino.append(siguiente)\n",
    "        nodo_actual = siguiente\n",
    "    return camino[::-1]"
   ]
  },
  {
   "cell_type": "code",
   "execution_count": 7,
   "id": "2dc899e2-cdb1-4011-bddd-c229b59e4da2",
   "metadata": {},
   "outputs": [
    {
     "data": {
      "text/plain": [
       "[0, 2, 1, 3]"
      ]
     },
     "execution_count": 7,
     "metadata": {},
     "output_type": "execute_result"
    }
   ],
   "source": [
    "memo = bf_recursivo_memo(G, 0)\n",
    "reconstruir_memo(G, memo, 0, 3)"
   ]
  }
 ],
 "metadata": {
  "kernelspec": {
   "display_name": "Python 3 (ipykernel)",
   "language": "python",
   "name": "python3"
  },
  "language_info": {
   "codemirror_mode": {
    "name": "ipython",
    "version": 3
   },
   "file_extension": ".py",
   "mimetype": "text/x-python",
   "name": "python",
   "nbconvert_exporter": "python",
   "pygments_lexer": "ipython3",
   "version": "3.9.21"
  }
 },
 "nbformat": 4,
 "nbformat_minor": 5
}
