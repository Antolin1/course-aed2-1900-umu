{
 "cells": [
  {
   "cell_type": "code",
   "execution_count": 8,
   "id": "ff68acfc-ae3a-48ed-b515-86665e87f630",
   "metadata": {},
   "outputs": [],
   "source": [
    "def catalan(n):\n",
    "    tabla = [0]*(n+1)\n",
    "    for i in range(0, n + 1):\n",
    "        if i == 0:\n",
    "            tabla[i] = 1\n",
    "        else:\n",
    "            s = 0\n",
    "            for j in range(1, i + 1):\n",
    "                s += tabla[j-1] * tabla[i - j]\n",
    "            tabla[i] = s\n",
    "    return tabla, tabla[n]"
   ]
  },
  {
   "cell_type": "code",
   "execution_count": 9,
   "id": "831a27cb-e686-4c54-89e2-2eb1fea15b5b",
   "metadata": {},
   "outputs": [
    {
     "data": {
      "text/plain": [
       "([1, 1, 2, 5, 14, 42, 132, 429, 1430, 4862, 16796], 16796)"
      ]
     },
     "execution_count": 9,
     "metadata": {},
     "output_type": "execute_result"
    }
   ],
   "source": [
    "catalan(10)"
   ]
  },
  {
   "cell_type": "code",
   "execution_count": 10,
   "id": "9c3ee0ab-bd86-4378-95a3-5140929285da",
   "metadata": {},
   "outputs": [],
   "source": [
    "def catalan_memo(n, memo):\n",
    "    if n in memo:\n",
    "        return memo[n]\n",
    "\n",
    "    if n == 0:\n",
    "        numero = 1\n",
    "    else:\n",
    "        numero = 0\n",
    "        for j in range(1, n + 1):\n",
    "            numero += catalan_memo(j - 1, memo) * catalan_memo(n - j, memo)\n",
    "    memo[n] = numero\n",
    "    return numero"
   ]
  },
  {
   "cell_type": "code",
   "execution_count": 11,
   "id": "903aea23-0d9b-4999-a044-5f4ba37f4cc1",
   "metadata": {},
   "outputs": [
    {
     "data": {
      "text/plain": [
       "16796"
      ]
     },
     "execution_count": 11,
     "metadata": {},
     "output_type": "execute_result"
    }
   ],
   "source": [
    "memo = {}\n",
    "catalan_memo(10, memo)"
   ]
  },
  {
   "cell_type": "code",
   "execution_count": 13,
   "id": "631b6a6c-f7d1-4b99-ab50-416852ab462b",
   "metadata": {},
   "outputs": [
    {
     "name": "stdout",
     "output_type": "stream",
     "text": [
      "{0: 1, 1: 1, 2: 2, 3: 5, 4: 14, 5: 42, 6: 132, 7: 429, 8: 1430, 9: 4862, 10: 16796}\n"
     ]
    }
   ],
   "source": [
    "print(memo)"
   ]
  }
 ],
 "metadata": {
  "kernelspec": {
   "display_name": "Python 3 (ipykernel)",
   "language": "python",
   "name": "python3"
  },
  "language_info": {
   "codemirror_mode": {
    "name": "ipython",
    "version": 3
   },
   "file_extension": ".py",
   "mimetype": "text/x-python",
   "name": "python",
   "nbconvert_exporter": "python",
   "pygments_lexer": "ipython3",
   "version": "3.9.21"
  }
 },
 "nbformat": 4,
 "nbformat_minor": 5
}
