{
 "cells": [
  {
   "cell_type": "code",
   "execution_count": 1,
   "id": "cd0e1da3-91e6-47c3-b210-664219ec6c6d",
   "metadata": {},
   "outputs": [],
   "source": [
    "def subsetsum(A, M):\n",
    "    tabla = [[0 for _ in range(M + 1)] for _ in range(len(A) + 1)]\n",
    "\n",
    "    for j in range(len(A) + 1):\n",
    "        for m in range(M + 1):\n",
    "            if m == 0 and j >= 0:\n",
    "                tabla[j][m] = True\n",
    "            elif j == 0 and m > 0:\n",
    "                tabla[j][m] = False\n",
    "            else:\n",
    "                if m - A[j - 1] >= 0:\n",
    "                    r1 = tabla[j-1][m - A[j - 1]]\n",
    "                else:\n",
    "                    r1 = False # me salgo de la tabla\n",
    "                r2 = tabla[j-1][m]\n",
    "                tabla[j][m] = r1 or r2\n",
    "    return tabla, tabla[len(A)][M]"
   ]
  },
  {
   "cell_type": "code",
   "execution_count": 2,
   "id": "1d1f281b-7234-4f8e-9058-870847600bbe",
   "metadata": {},
   "outputs": [
    {
     "data": {
      "text/plain": [
       "([[True, False, False, False, False, False, False],\n",
       "  [True, False, True, False, False, False, False],\n",
       "  [True, False, True, True, False, True, False],\n",
       "  [True, False, True, True, True, True, True]],\n",
       " True)"
      ]
     },
     "execution_count": 2,
     "metadata": {},
     "output_type": "execute_result"
    }
   ],
   "source": [
    "subsetsum([2, 3, 4], 6)"
   ]
  },
  {
   "cell_type": "code",
   "execution_count": 3,
   "id": "870b4502-21a3-4fd3-9fae-7d60925de411",
   "metadata": {},
   "outputs": [],
   "source": [
    "def reconstruccion(A, M, tabla):\n",
    "    elemento_actual = len(A)\n",
    "    cantidad_actual = M\n",
    "\n",
    "    if not tabla[elemento_actual][cantidad_actual]:\n",
    "        return \"Sin solución\"\n",
    "\n",
    "    S = []\n",
    "    while elemento_actual != 0 and cantidad_actual != 0:\n",
    "        if cantidad_actual - A[elemento_actual - 1] >= 0 and tabla[elemento_actual - 1][cantidad_actual - A[elemento_actual - 1]]:\n",
    "            S.append(A[elemento_actual - 1])\n",
    "            cantidad_actual -= A[elemento_actual - 1]\n",
    "        elemento_actual -= 1\n",
    "    return S"
   ]
  },
  {
   "cell_type": "code",
   "execution_count": 5,
   "id": "6b8a2f7f-8618-444f-a301-cd555c33ad46",
   "metadata": {},
   "outputs": [
    {
     "data": {
      "text/plain": [
       "[4, 2]"
      ]
     },
     "execution_count": 5,
     "metadata": {},
     "output_type": "execute_result"
    }
   ],
   "source": [
    "A = [2, 3, 4]\n",
    "M = 6\n",
    "tabla, _ = subsetsum(A, M)\n",
    "reconstruccion(A, M, tabla)"
   ]
  },
  {
   "cell_type": "code",
   "execution_count": 6,
   "id": "e7c7fcea-41a6-4ec0-9733-7d405de9747d",
   "metadata": {},
   "outputs": [],
   "source": [
    "def subset_memo(A, j, m, memo):\n",
    "    if (j,m) in memo:\n",
    "        return memo[(j,m)]\n",
    "\n",
    "    if m < 0 or j < 0:\n",
    "        r = False\n",
    "    elif m == 0 and j>= 0:\n",
    "        r = True\n",
    "    elif j == 0 and m > 0:\n",
    "        r = False\n",
    "    else:\n",
    "        r1 = subset_memo(A, j-1, m - A[j - 1], memo)\n",
    "        r2 = subset_memo(A, j-1, m, memo)\n",
    "        r = r1 or r2\n",
    "    memo[(j,m)] = r\n",
    "    return r"
   ]
  },
  {
   "cell_type": "code",
   "execution_count": 8,
   "id": "41b82f27-2a4f-430f-83b0-26842902575c",
   "metadata": {},
   "outputs": [
    {
     "data": {
      "text/plain": [
       "True"
      ]
     },
     "execution_count": 8,
     "metadata": {},
     "output_type": "execute_result"
    }
   ],
   "source": [
    "memo = {}\n",
    "subset_memo(A, len(A), 6, memo)"
   ]
  },
  {
   "cell_type": "code",
   "execution_count": 9,
   "id": "be46c450-9119-470c-aad0-45acddaac29a",
   "metadata": {},
   "outputs": [
    {
     "data": {
      "text/plain": [
       "{(1, -1): False,\n",
       " (0, 0): True,\n",
       " (0, 2): False,\n",
       " (1, 2): True,\n",
       " (2, 2): True,\n",
       " (0, 1): False,\n",
       " (0, 3): False,\n",
       " (1, 3): False,\n",
       " (0, 4): False,\n",
       " (0, 6): False,\n",
       " (1, 6): False,\n",
       " (2, 6): False,\n",
       " (3, 6): True}"
      ]
     },
     "execution_count": 9,
     "metadata": {},
     "output_type": "execute_result"
    }
   ],
   "source": [
    "memo"
   ]
  }
 ],
 "metadata": {
  "kernelspec": {
   "display_name": "Python 3 (ipykernel)",
   "language": "python",
   "name": "python3"
  },
  "language_info": {
   "codemirror_mode": {
    "name": "ipython",
    "version": 3
   },
   "file_extension": ".py",
   "mimetype": "text/x-python",
   "name": "python",
   "nbconvert_exporter": "python",
   "pygments_lexer": "ipython3",
   "version": "3.9.21"
  }
 },
 "nbformat": 4,
 "nbformat_minor": 5
}
