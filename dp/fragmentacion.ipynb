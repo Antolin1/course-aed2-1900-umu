{
 "cells": [
  {
   "cell_type": "code",
   "execution_count": 1,
   "id": "a380a496-82a2-4510-9785-4304b63e584d",
   "metadata": {},
   "outputs": [],
   "source": [
    "diccionario = {\"i\", \"love\", \"samsung\"}"
   ]
  },
  {
   "cell_type": "code",
   "execution_count": 2,
   "id": "1ca1a0d3-ca0c-4406-b9ef-4b038de72d3e",
   "metadata": {},
   "outputs": [],
   "source": [
    "def fragmentacion(palabra, diccionario):\n",
    "    tabla = [False] * (len(palabra) + 1)\n",
    "\n",
    "    for i in range(len(tabla)):\n",
    "        if i == 0:\n",
    "            tabla[0] = True\n",
    "        else:\n",
    "            r = False\n",
    "            for j in range(i):\n",
    "                r = r or (tabla[j] and (palabra[j:i] in diccionario))\n",
    "            tabla[i] = r\n",
    "    return tabla[len(palabra)], tabla"
   ]
  },
  {
   "cell_type": "code",
   "execution_count": 3,
   "id": "0b005917-e3d1-4f73-8b9b-fe81d5dbef6c",
   "metadata": {},
   "outputs": [],
   "source": [
    "palabra = \"ilovesamsungi\"\n",
    "resultado, _ = fragmentacion(palabra, diccionario)"
   ]
  },
  {
   "cell_type": "code",
   "execution_count": 4,
   "id": "8c325eff-27e6-4b2f-8134-d6471124a3a8",
   "metadata": {},
   "outputs": [
    {
     "name": "stdout",
     "output_type": "stream",
     "text": [
      "[True, True, False, False, False, True, False, False, False, False, False, False, True]\n",
      "[True, True, False, False, False, True, False, False, False, False, False, False, True, True]\n",
      "[True, True, False, False, False, True, False, False, False, False, False, False, True, False]\n",
      "[True, False, False, False, False, False, False, False, False, False, False, False, False, False]\n"
     ]
    }
   ],
   "source": [
    "palabras = [\"ilovesamsung\", \"ilovesamsungi\", \"ilovesamsunga\", \"xilovesamsung\"]\n",
    "esperado = [True, True, False, False]\n",
    "for p, e in zip(palabras, esperado):\n",
    "    assert fragmentacion(p, diccionario)[0] == e, print(p, e)\n",
    "    print(fragmentacion(p, diccionario)[1])"
   ]
  },
  {
   "cell_type": "code",
   "execution_count": 31,
   "id": "7f3be37f-e558-4d55-bab3-be8c921c44c2",
   "metadata": {},
   "outputs": [],
   "source": [
    "def reconstruccion(palabra, tabla, diccionario):\n",
    "    i_actual = len(palabra)\n",
    "    S = []\n",
    "    if not tabla[i_actual]:\n",
    "        return []\n",
    "    while i_actual != 0:\n",
    "        for j in range(i_actual):\n",
    "            if tabla[j] and (palabra[j:i_actual] in diccionario):\n",
    "                S.append(palabra[j:i_actual])\n",
    "                i_actual = j\n",
    "                break\n",
    "    return S[::-1]"
   ]
  },
  {
   "cell_type": "code",
   "execution_count": 34,
   "id": "ddfa7bef-e8c1-4871-94fc-abe0cf9183e1",
   "metadata": {},
   "outputs": [
    {
     "data": {
      "text/plain": [
       "['i', 'love', 'samsung', 'i', 'i', 'love', 'i', 'i', 'samsung']"
      ]
     },
     "execution_count": 34,
     "metadata": {},
     "output_type": "execute_result"
    }
   ],
   "source": [
    "palabra = \"ilovesamsungiiloveiisamsung\"\n",
    "_, tabla = fragmentacion(palabra, diccionario)\n",
    "reconstruccion(palabra, tabla, diccionario)"
   ]
  },
  {
   "cell_type": "code",
   "execution_count": 37,
   "id": "12062645-2a21-4746-9912-d3581f8f0de7",
   "metadata": {},
   "outputs": [],
   "source": [
    "def fragmentacion_memo(palabra, diccionario, memo, i):\n",
    "    if i in memo:\n",
    "        return memo[i]\n",
    "    if i == 0:\n",
    "        r = True\n",
    "    else:\n",
    "        r = False\n",
    "        for j in range(i):\n",
    "            r = r or (fragmentacion_memo(palabra, diccionario, memo, j) and (palabra[j:i] in diccionario))\n",
    "    memo[i] = r\n",
    "    return r"
   ]
  },
  {
   "cell_type": "code",
   "execution_count": 38,
   "id": "84deb39a-a6b9-4e0c-8b4a-4f73825df89f",
   "metadata": {},
   "outputs": [
    {
     "data": {
      "text/plain": [
       "True"
      ]
     },
     "execution_count": 38,
     "metadata": {},
     "output_type": "execute_result"
    }
   ],
   "source": [
    "memo = {}\n",
    "palabra = \"ilovesamsungiiloveiisamsung\"\n",
    "fragmentacion_memo(palabra, diccionario, memo, len(palabra))"
   ]
  }
 ],
 "metadata": {
  "kernelspec": {
   "display_name": "Python 3 (ipykernel)",
   "language": "python",
   "name": "python3"
  },
  "language_info": {
   "codemirror_mode": {
    "name": "ipython",
    "version": 3
   },
   "file_extension": ".py",
   "mimetype": "text/x-python",
   "name": "python",
   "nbconvert_exporter": "python",
   "pygments_lexer": "ipython3",
   "version": "3.9.21"
  }
 },
 "nbformat": 4,
 "nbformat_minor": 5
}
