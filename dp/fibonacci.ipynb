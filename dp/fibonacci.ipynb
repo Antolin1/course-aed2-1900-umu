{
 "cells": [
  {
   "cell_type": "code",
   "execution_count": 1,
   "id": "ec313c46-f01b-46d0-b959-3539848df027",
   "metadata": {},
   "outputs": [],
   "source": [
    "def fib(n):\n",
    "    if n <= 2:\n",
    "        return 1\n",
    "    else:\n",
    "        return fib(n-1) + fib(n-2)"
   ]
  },
  {
   "cell_type": "code",
   "execution_count": 2,
   "id": "aa5feb8d-c042-4250-ad39-28b19977bc76",
   "metadata": {},
   "outputs": [
    {
     "name": "stdout",
     "output_type": "stream",
     "text": [
      "CPU times: user 7.3 s, sys: 0 ns, total: 7.3 s\n",
      "Wall time: 7.3 s\n"
     ]
    },
    {
     "data": {
      "text/plain": [
       "102334155"
      ]
     },
     "execution_count": 2,
     "metadata": {},
     "output_type": "execute_result"
    }
   ],
   "source": [
    "%%time\n",
    "fib(40)"
   ]
  },
  {
   "cell_type": "code",
   "execution_count": 3,
   "id": "82a9f90f-3f02-41f1-9d83-32f278464e9f",
   "metadata": {},
   "outputs": [],
   "source": [
    "def fib_memo(n, memo):\n",
    "    if n in memo:\n",
    "        return memo[n]\n",
    "    if n <= 2:\n",
    "        f = 1\n",
    "    else:\n",
    "        f = fib_memo(n-1,memo) + fib_memo(n-2, memo)\n",
    "    memo[n] = f\n",
    "    return f"
   ]
  },
  {
   "cell_type": "code",
   "execution_count": 4,
   "id": "45bf16b5-77ca-4ff4-83f5-a615c2e1c19c",
   "metadata": {},
   "outputs": [
    {
     "name": "stdout",
     "output_type": "stream",
     "text": [
      "CPU times: user 26 µs, sys: 0 ns, total: 26 µs\n",
      "Wall time: 27.2 µs\n"
     ]
    },
    {
     "data": {
      "text/plain": [
       "102334155"
      ]
     },
     "execution_count": 4,
     "metadata": {},
     "output_type": "execute_result"
    }
   ],
   "source": [
    "%%time\n",
    "fib_memo(40, {})"
   ]
  },
  {
   "cell_type": "code",
   "execution_count": 5,
   "id": "d1e2c170-48cd-49c4-9ceb-231b91db4c2d",
   "metadata": {},
   "outputs": [],
   "source": [
    "def fib_ascendente(n):\n",
    "    arr = [0] * (n + 1)\n",
    "    for k in range(1, n + 1):\n",
    "        if k <= 2:\n",
    "            f = 1\n",
    "        else:\n",
    "            f = arr[k-1] + arr[k-2]\n",
    "        arr[k] = f\n",
    "    return arr[n]"
   ]
  },
  {
   "cell_type": "code",
   "execution_count": 6,
   "id": "933151a0-e26c-47d9-a809-cb3c7778d348",
   "metadata": {},
   "outputs": [
    {
     "name": "stdout",
     "output_type": "stream",
     "text": [
      "CPU times: user 5 µs, sys: 0 ns, total: 5 µs\n",
      "Wall time: 6.44 µs\n"
     ]
    },
    {
     "data": {
      "text/plain": [
       "102334155"
      ]
     },
     "execution_count": 6,
     "metadata": {},
     "output_type": "execute_result"
    }
   ],
   "source": [
    "%%time\n",
    "fib_ascendente(40)"
   ]
  }
 ],
 "metadata": {
  "kernelspec": {
   "display_name": "Python 3 (ipykernel)",
   "language": "python",
   "name": "python3"
  },
  "language_info": {
   "codemirror_mode": {
    "name": "ipython",
    "version": 3
   },
   "file_extension": ".py",
   "mimetype": "text/x-python",
   "name": "python",
   "nbconvert_exporter": "python",
   "pygments_lexer": "ipython3",
   "version": "3.9.21"
  }
 },
 "nbformat": 4,
 "nbformat_minor": 5
}
