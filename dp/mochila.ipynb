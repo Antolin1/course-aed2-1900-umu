{
 "cells": [
  {
   "cell_type": "code",
   "execution_count": 1,
   "id": "e60f40ec-f220-4359-aa5b-cd9d83e8f0d1",
   "metadata": {},
   "outputs": [],
   "source": [
    "P = [2, 3, 4]\n",
    "M = 6\n",
    "n = 3\n",
    "B = [1, 2, 5]"
   ]
  },
  {
   "cell_type": "code",
   "execution_count": 2,
   "id": "bd0205b8-1b7b-48d3-99ca-081546660b83",
   "metadata": {},
   "outputs": [],
   "source": [
    "def mochila_memo(P, M, j, B, memo):\n",
    "    if (j, M) in memo:\n",
    "        return memo[(j, M)]\n",
    "\n",
    "    if M < 0:\n",
    "        m = -float(\"inf\")\n",
    "    elif j == 0:\n",
    "        m = 0\n",
    "    elif M == 0:\n",
    "        m = 0\n",
    "    else:\n",
    "        m1 = B[j-1] + mochila_memo(P, M - P[j-1], j - 1, B, memo)\n",
    "        m2 = mochila_memo(P, M, j - 1, B, memo)\n",
    "        m = max(m1, m2)\n",
    "    memo[(j, M)] = m\n",
    "    return m"
   ]
  },
  {
   "cell_type": "code",
   "execution_count": 3,
   "id": "189d30b9-b739-43eb-ae02-f22d908477d3",
   "metadata": {},
   "outputs": [],
   "source": [
    "def mochila_ascendente(P, M, n, B):\n",
    "    array = [[0]*(M+1) for i in range(n+1)]\n",
    "\n",
    "    for x in range(1, n + 1):\n",
    "        for y in range(1, M + 1):\n",
    "            if y - P[x - 1] >= 0:\n",
    "                m1 = B[x-1] + array[x - 1][y - P[x - 1]]\n",
    "                m2 = array[x - 1][y]\n",
    "            else:\n",
    "                m1 = -float(\"inf\")\n",
    "                m2 = array[x - 1][y]\n",
    "            array[x][y] = max(m1, m2)\n",
    "    return array[n][M]"
   ]
  },
  {
   "cell_type": "code",
   "execution_count": 4,
   "id": "00ba06ed-598c-4d14-af4a-4e77f21d9738",
   "metadata": {},
   "outputs": [],
   "source": [
    "def mochila_ascendente_reconstruir(P, M, n, B):\n",
    "    array = [[0]*(M+1) for i in range(n+1)]\n",
    "\n",
    "    for x in range(1, n + 1):\n",
    "        for y in range(1, M + 1):\n",
    "            if y - P[x - 1] >= 0:\n",
    "                m1 = B[x-1] + array[x - 1][y - P[x - 1]]\n",
    "                m2 = array[x - 1][y]\n",
    "            else:\n",
    "                m1 = -float(\"inf\")\n",
    "                m2 = array[x - 1][y]\n",
    "            array[x][y] = max(m1, m2)\n",
    "\n",
    "    x_actual = n\n",
    "    y_actual = M\n",
    "    S = []\n",
    "    while x_actual != 0:\n",
    "        if y_actual - P[x_actual - 1] >= 0: \n",
    "            m1 = B[x_actual-1] + array[x_actual - 1][y_actual - P[x_actual - 1]]\n",
    "            m2 = array[x_actual - 1][y_actual]\n",
    "        else:\n",
    "            m1 = -float(\"inf\")\n",
    "            m2 = array[x_actual - 1][y_actual]\n",
    "        if m1 > m2:\n",
    "            S.append(x_actual - 1)\n",
    "            y_actual -= P[x_actual - 1]\n",
    "        x_actual = x_actual - 1\n",
    "        \n",
    "    \n",
    "    return array[n][M], S"
   ]
  },
  {
   "cell_type": "code",
   "execution_count": 5,
   "id": "8e76b510-9456-47bf-b49a-500877e4c99e",
   "metadata": {},
   "outputs": [
    {
     "data": {
      "text/plain": [
       "(6, [2, 0])"
      ]
     },
     "execution_count": 5,
     "metadata": {},
     "output_type": "execute_result"
    }
   ],
   "source": [
    "mochila_ascendente_reconstruir(P, M, n, B)"
   ]
  },
  {
   "cell_type": "code",
   "execution_count": 6,
   "id": "2d0ac61a-660c-4407-a664-8030cbbd1ba3",
   "metadata": {},
   "outputs": [
    {
     "data": {
      "text/plain": [
       "6"
      ]
     },
     "execution_count": 6,
     "metadata": {},
     "output_type": "execute_result"
    }
   ],
   "source": [
    "mochila_ascendente(P, M, 3, B)"
   ]
  },
  {
   "cell_type": "code",
   "execution_count": 7,
   "id": "62e76cce-5b3b-4d95-a72f-a9fbb57b2ddb",
   "metadata": {},
   "outputs": [
    {
     "data": {
      "text/plain": [
       "6"
      ]
     },
     "execution_count": 7,
     "metadata": {},
     "output_type": "execute_result"
    }
   ],
   "source": [
    "memo = {}\n",
    "mochila_memo(P, M, 3, B, memo)"
   ]
  }
 ],
 "metadata": {
  "kernelspec": {
   "display_name": "Python 3 (ipykernel)",
   "language": "python",
   "name": "python3"
  },
  "language_info": {
   "codemirror_mode": {
    "name": "ipython",
    "version": 3
   },
   "file_extension": ".py",
   "mimetype": "text/x-python",
   "name": "python",
   "nbconvert_exporter": "python",
   "pygments_lexer": "ipython3",
   "version": "3.9.21"
  }
 },
 "nbformat": 4,
 "nbformat_minor": 5
}
