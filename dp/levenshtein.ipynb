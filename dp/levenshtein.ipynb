{
 "cells": [
  {
   "cell_type": "code",
   "execution_count": 16,
   "id": "c697a541-bc87-4f99-bb54-9f7f78a254b4",
   "metadata": {},
   "outputs": [],
   "source": [
    "def edit_distance(str1, str2):\n",
    "    n, m = len(str1), len(str2)\n",
    "    dp = [[0 for _ in range(m + 1)] for _ in range(n + 1)]\n",
    "    for i in range(n + 1):\n",
    "        for j in range(m + 1):\n",
    "            if i == 0:\n",
    "                dp[i][j] = j\n",
    "            elif j == 0:\n",
    "                dp[i][j] = i\n",
    "            elif str1[i-1] == str2[j-1]:\n",
    "                dp[i][j] = dp[i-1][j-1]\n",
    "            else:\n",
    "                dp[i][j] = 1 + min(\n",
    "                    dp[i][j-1],      # inserta\n",
    "                    dp[i-1][j],      # elimina\n",
    "                    dp[i-1][j-1]     # reemplaza\n",
    "                )\n",
    "    return dp, dp[n][m]"
   ]
  },
  {
   "cell_type": "code",
   "execution_count": 17,
   "id": "92ecdc4e-1c05-4926-b8c0-988173c9deaf",
   "metadata": {},
   "outputs": [],
   "source": [
    "tabla, distancia = edit_distance(\"horse\", \"ros\")"
   ]
  },
  {
   "cell_type": "code",
   "execution_count": 18,
   "id": "62fdd45f-de2a-43c4-9f35-506dcc5a933e",
   "metadata": {},
   "outputs": [],
   "source": [
    "def edit_distance_with_path(dp, str1, str2):\n",
    "    edit_path = []\n",
    "    i, j = len(str1), len(str2)\n",
    "    while i > 0 or j > 0:\n",
    "        if i > 0 and j > 0 and str1[i-1] == str2[j-1]:\n",
    "            # caso base, caracteres iguales\n",
    "            i -= 1\n",
    "            j -= 1\n",
    "        else:\n",
    "            if i > 0 and j > 0 and dp[i][j] == dp[i-1][j-1] + 1:\n",
    "                # reemplazar\n",
    "                edit_path.append(f\"Reemplaza '{str1[i-1]}' de la pos {i-1} por '{str2[j-1]}' de la pos {j-1}\")\n",
    "                i -= 1\n",
    "                j -= 1\n",
    "            elif i > 0 and dp[i][j] == dp[i-1][j] + 1:\n",
    "                # borrar\n",
    "                edit_path.append(f\"Borra '{str1[i-1]}' de la pos {i-1}\")\n",
    "                i -= 1\n",
    "            else:\n",
    "                # insertar\n",
    "                edit_path.append(f\"Inserta '{str2[j-1]}' en la pos {i-1}\")\n",
    "                j -= 1\n",
    "    # dar la vuelta a la solución\n",
    "    edit_path.reverse()\n",
    "    return edit_path"
   ]
  },
  {
   "cell_type": "code",
   "execution_count": 19,
   "id": "9cca5f7e-0a5a-462b-9e9a-e574d8e6498e",
   "metadata": {},
   "outputs": [
    {
     "data": {
      "text/plain": [
       "[\"Reemplaza 'h' de la pos 0 por 'r' de la pos 0\",\n",
       " \"Borra 'r' de la pos 2\",\n",
       " \"Borra 'e' de la pos 4\"]"
      ]
     },
     "execution_count": 19,
     "metadata": {},
     "output_type": "execute_result"
    }
   ],
   "source": [
    "edit_distance_with_path(tabla, \"horse\", \"ros\")"
   ]
  },
  {
   "cell_type": "code",
   "execution_count": 20,
   "id": "5a4d5969-1305-461a-85fe-92c5eaaf84ca",
   "metadata": {},
   "outputs": [],
   "source": [
    "def edit_distance_memo(str1, str2, memo, i, j):\n",
    "    if (i, j) in memo:\n",
    "        return memo[(i, j)]\n",
    "        \n",
    "    if i == 0:\n",
    "        r = j\n",
    "    elif j == 0:\n",
    "        r = i\n",
    "    elif str1[i-1] == str2[j-1]:\n",
    "        r = edit_distance_memo(str1, str2, memo, i - 1, j - 1)\n",
    "    else:\n",
    "        r = 1 + min(\n",
    "            edit_distance_memo(str1, str2, memo, i, j - 1),      # inserta\n",
    "            edit_distance_memo(str1, str2, memo, i - 1, j),      # elimina\n",
    "            edit_distance_memo(str1, str2, memo, i - 1, j - 1)   # reemplaza\n",
    "        )\n",
    "\n",
    "    memo[(i, j)] = r\n",
    "    return r"
   ]
  },
  {
   "cell_type": "code",
   "execution_count": 25,
   "id": "14afb0f2-fad4-4c12-b329-c2122458543a",
   "metadata": {},
   "outputs": [
    {
     "data": {
      "text/plain": [
       "3"
      ]
     },
     "execution_count": 25,
     "metadata": {},
     "output_type": "execute_result"
    }
   ],
   "source": [
    "memo = {}\n",
    "str1 = \"horse\"\n",
    "str2 = \"ros\"\n",
    "edit_distance_memo(str1, str2, memo, len(str1), len(str2))"
   ]
  }
 ],
 "metadata": {
  "kernelspec": {
   "display_name": "Python 3 (ipykernel)",
   "language": "python",
   "name": "python3"
  },
  "language_info": {
   "codemirror_mode": {
    "name": "ipython",
    "version": 3
   },
   "file_extension": ".py",
   "mimetype": "text/x-python",
   "name": "python",
   "nbconvert_exporter": "python",
   "pygments_lexer": "ipython3",
   "version": "3.9.21"
  }
 },
 "nbformat": 4,
 "nbformat_minor": 5
}
