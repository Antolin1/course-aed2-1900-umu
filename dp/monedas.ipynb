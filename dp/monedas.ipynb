{
 "cells": [
  {
   "cell_type": "code",
   "execution_count": 14,
   "id": "ff528400-27b4-4708-bb9f-01fff36dcfdb",
   "metadata": {},
   "outputs": [],
   "source": [
    "def cambio_memo(V, c, j, memo):\n",
    "    if (j,c) in memo:\n",
    "        return memo[(j, c)]\n",
    "    if c < 0 or j < 0:\n",
    "        r = float(\"inf\")\n",
    "    elif c == 0 and j >= 0:\n",
    "        r = 0\n",
    "    elif c > 0 and j == 0:\n",
    "        r = float(\"inf\")\n",
    "    else:\n",
    "        r1 = 1 + cambio_memo(V, c - V[j - 1], j, memo)\n",
    "        r2 = cambio_memo(V, c, j - 1, memo)\n",
    "        r = min(r1, r2)\n",
    "    memo[(j, c)] = r\n",
    "    return r"
   ]
  },
  {
   "cell_type": "code",
   "execution_count": 15,
   "id": "c0d43d09-1dcd-4d80-a0b2-45fb70207b81",
   "metadata": {},
   "outputs": [
    {
     "data": {
      "text/plain": [
       "2"
      ]
     },
     "execution_count": 15,
     "metadata": {},
     "output_type": "execute_result"
    }
   ],
   "source": [
    "V = [1, 4, 6]\n",
    "C = 8\n",
    "memo = {}\n",
    "cambio_memo(V, C, len(V), memo)"
   ]
  },
  {
   "cell_type": "code",
   "execution_count": 18,
   "id": "944176b9-76ef-4699-85b8-a017e4e3f351",
   "metadata": {},
   "outputs": [
    {
     "data": {
      "text/plain": [
       "2"
      ]
     },
     "execution_count": 18,
     "metadata": {},
     "output_type": "execute_result"
    }
   ],
   "source": [
    "def cambio_ascendente(V, C):\n",
    "    n = len(V)\n",
    "    tabla = [[-1]*(C+1) for i in range(n+1)]\n",
    "\n",
    "    for j in range(0, n + 1):\n",
    "        for c in range(0, C + 1):\n",
    "            if c == 0:\n",
    "                tabla[j][c] = 0\n",
    "            elif j == 0 and c > 0:\n",
    "                tabla[j][c] = float(\"inf\")\n",
    "            else:\n",
    "                if c - V[j - 1] >= 0:\n",
    "                    r1 = 1 + tabla[j][c - V[j - 1]]\n",
    "                else:\n",
    "                    r1 = float(\"inf\")\n",
    "                r2 = tabla[j-1][c]\n",
    "                r = min(r1, r2)\n",
    "                tabla[j][c] = r\n",
    "    return tabla, tabla[n][C]\n",
    "\n",
    "tabla, resultado = cambio_ascendente(V, C)\n",
    "resultado"
   ]
  },
  {
   "cell_type": "code",
   "execution_count": 27,
   "id": "b1ec05a2-7fe9-426d-8d05-006f8e4348f0",
   "metadata": {},
   "outputs": [],
   "source": [
    "def reconstruir(tabla, V, C):\n",
    "    n = len(V)\n",
    "    if tabla[n][C] == float(\"inf\"):\n",
    "        return \"No hay solución\"\n",
    "    else:\n",
    "        S = []\n",
    "        j_actual = n\n",
    "        c_actual = C\n",
    "        while c_actual != 0:\n",
    "            if c_actual - V[j_actual -1] >= 0:\n",
    "                r1 = 1 + tabla[j_actual][c_actual - V[j_actual - 1]]\n",
    "            else:\n",
    "                r1 = float(\"inf\")\n",
    "            r2 = tabla[j_actual - 1][c_actual]\n",
    "            if r1 < r2:\n",
    "                S.append(f\"Cojo 1 moneda de {V[j_actual - 1]}\")\n",
    "                c_actual -= V[j_actual - 1]\n",
    "            else:\n",
    "                j_actual -= 1\n",
    "    return S"
   ]
  },
  {
   "cell_type": "code",
   "execution_count": 28,
   "id": "1791f23f-7c2d-4473-a32d-6658f1b54218",
   "metadata": {},
   "outputs": [
    {
     "data": {
      "text/plain": [
       "['Cojo 1 moneda de 4', 'Cojo 1 moneda de 4']"
      ]
     },
     "execution_count": 28,
     "metadata": {},
     "output_type": "execute_result"
    }
   ],
   "source": [
    "reconstruir(tabla, V, C)"
   ]
  }
 ],
 "metadata": {
  "kernelspec": {
   "display_name": "Python 3 (ipykernel)",
   "language": "python",
   "name": "python3"
  },
  "language_info": {
   "codemirror_mode": {
    "name": "ipython",
    "version": 3
   },
   "file_extension": ".py",
   "mimetype": "text/x-python",
   "name": "python",
   "nbconvert_exporter": "python",
   "pygments_lexer": "ipython3",
   "version": "3.9.21"
  }
 },
 "nbformat": 4,
 "nbformat_minor": 5
}
