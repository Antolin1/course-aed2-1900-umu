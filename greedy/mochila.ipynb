{
 "cells": [
  {
   "cell_type": "code",
   "execution_count": 1,
   "id": "19cda045-8b3e-44fa-a980-1456b536513d",
   "metadata": {},
   "outputs": [],
   "source": [
    "def seleccion_voraz(O, B, P, capacidad_restante):\n",
    "    l = -1\n",
    "    l_prop = -1\n",
    "\n",
    "    for o in O:\n",
    "        if B[o]/P[o] > l_prop:\n",
    "            l_prop = B[o]/P[o]\n",
    "            l = o\n",
    "\n",
    "    if capacidad_restante > P[l]:\n",
    "        return 1, l\n",
    "    else:\n",
    "        return capacidad_restante/P[l], l\n",
    "\n",
    "def mochila(O, B, P, M):\n",
    "    S = [0] * len(O)\n",
    "    m = 0\n",
    "    O_disponibles = set(O)\n",
    "    while m < M:\n",
    "        capacidad_restante = M - m\n",
    "        x_l, l = seleccion_voraz(O_disponibles, B, P, capacidad_restante)\n",
    "        O_disponibles.remove(l)\n",
    "        m += x_l*P[l]\n",
    "        S[l] = x_l\n",
    "    return S"
   ]
  },
  {
   "cell_type": "code",
   "execution_count": 2,
   "id": "1c616810-ff8f-4a4a-b8ae-9714e80d8eb2",
   "metadata": {},
   "outputs": [
    {
     "data": {
      "text/plain": [
       "[1, 1, 1, 0.2]"
      ]
     },
     "execution_count": 2,
     "metadata": {},
     "output_type": "execute_result"
    }
   ],
   "source": [
    "O = {0, 1, 2, 3}\n",
    "B = [3, 4, 2, 3]\n",
    "P = [2, 3, 1, 5]\n",
    "M = 7\n",
    "\n",
    "mochila(O, B, P, M)"
   ]
  },
  {
   "cell_type": "code",
   "execution_count": 3,
   "id": "f93496c1-7c36-4ac1-9112-40a25ed463f5",
   "metadata": {},
   "outputs": [
    {
     "data": {
      "text/plain": [
       "[1.0, 0, 0, 0]"
      ]
     },
     "execution_count": 3,
     "metadata": {},
     "output_type": "execute_result"
    }
   ],
   "source": [
    "O = {0, 1, 2, 3}\n",
    "B = [10, 1, 1, 1]\n",
    "P = [10, 3, 3, 4]\n",
    "M = 10\n",
    "\n",
    "mochila(O, B, P, M)"
   ]
  },
  {
   "cell_type": "code",
   "execution_count": 4,
   "id": "6fdedbb8-1ed2-4608-b175-bfad75c29e53",
   "metadata": {},
   "outputs": [
    {
     "data": {
      "text/plain": [
       "[0, 1, 1, 1.0]"
      ]
     },
     "execution_count": 4,
     "metadata": {},
     "output_type": "execute_result"
    }
   ],
   "source": [
    "O = {0, 1, 2, 3}\n",
    "B = [10, 9, 9, 9]\n",
    "P = [10, 3, 3, 4]\n",
    "M = 10\n",
    "\n",
    "mochila(O, B, P, M)"
   ]
  }
 ],
 "metadata": {
  "kernelspec": {
   "display_name": "Python 3 (ipykernel)",
   "language": "python",
   "name": "python3"
  },
  "language_info": {
   "codemirror_mode": {
    "name": "ipython",
    "version": 3
   },
   "file_extension": ".py",
   "mimetype": "text/x-python",
   "name": "python",
   "nbconvert_exporter": "python",
   "pygments_lexer": "ipython3",
   "version": "3.9.21"
  }
 },
 "nbformat": 4,
 "nbformat_minor": 5
}
