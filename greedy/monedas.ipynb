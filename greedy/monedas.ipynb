{
 "cells": [
  {
   "cell_type": "code",
   "execution_count": 6,
   "id": "7d4cde9e-a203-48ef-a9e0-c4703727bc7e",
   "metadata": {},
   "outputs": [],
   "source": [
    "def monedas_voraz(C, V):\n",
    "    # se asume que V está ordenado\n",
    "    n = len(V)\n",
    "    S = []\n",
    "    \n",
    "    cantidad_actual = C\n",
    "    for l in range(0, n):\n",
    "    \n",
    "        # selección voraz\n",
    "        # la moneda es la l porque están ordenados\n",
    "        # falta la cantidad\n",
    "        x_l = 0\n",
    "        while V[l]*(x_l + 1) < cantidad_actual:\n",
    "            x_l += 1\n",
    "    \n",
    "        # añado a la solución\n",
    "        S.append(x_l)\n",
    "        # transformo el problema\n",
    "        cantidad_actual -= V[l]*x_l\n",
    "\n",
    "    return S"
   ]
  },
  {
   "cell_type": "code",
   "execution_count": 10,
   "id": "76908487-2dec-42db-9dc6-6d0b62c2dc88",
   "metadata": {},
   "outputs": [
    {
     "data": {
      "text/plain": [
       "[13, 1, 1, 1, 1, 1, 2, 0]"
      ]
     },
     "execution_count": 10,
     "metadata": {},
     "output_type": "execute_result"
    }
   ],
   "source": [
    "C = 27.89\n",
    "V = [2, 1, 0.5, 0.2, 0.1, 0.05, 0.02, 0.01]\n",
    "S = monedas_voraz(C, V)\n",
    "S"
   ]
  },
  {
   "cell_type": "code",
   "execution_count": 8,
   "id": "06455843-e4b1-4b75-8d5c-0c9aed268c04",
   "metadata": {},
   "outputs": [
    {
     "data": {
      "text/plain": [
       "27.89"
      ]
     },
     "execution_count": 8,
     "metadata": {},
     "output_type": "execute_result"
    }
   ],
   "source": [
    "def contar_cantidad(S, V):\n",
    "    cantidad = 0\n",
    "    for s_i, v_i in zip(S,V):\n",
    "        cantidad += s_i*v_i\n",
    "    return cantidad\n",
    "\n",
    "contar_cantidad(S,V)"
   ]
  }
 ],
 "metadata": {
  "kernelspec": {
   "display_name": "Python 3 (ipykernel)",
   "language": "python",
   "name": "python3"
  },
  "language_info": {
   "codemirror_mode": {
    "name": "ipython",
    "version": 3
   },
   "file_extension": ".py",
   "mimetype": "text/x-python",
   "name": "python",
   "nbconvert_exporter": "python",
   "pygments_lexer": "ipython3",
   "version": "3.9.21"
  }
 },
 "nbformat": 4,
 "nbformat_minor": 5
}
