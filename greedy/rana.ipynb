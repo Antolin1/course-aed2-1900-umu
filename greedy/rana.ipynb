{
 "cells": [
  {
   "cell_type": "code",
   "execution_count": 1,
   "id": "468963fc-bd6a-46af-81c9-34551e05f5a0",
   "metadata": {},
   "outputs": [],
   "source": [
    "def rana_voraz(nenufares, d):\n",
    "    # inicializamos la solución como lista vacía\n",
    "    S = []\n",
    "    # posición actual\n",
    "    x = 0\n",
    "    # tamaño tablero\n",
    "    n = len(nenufares) - 1\n",
    "    \n",
    "    while x < n:\n",
    "        # si podemos saltar al final y terminar lo hacemos\n",
    "        if x + d >= n:\n",
    "            x = n\n",
    "        # en caso contrario...\n",
    "        else:\n",
    "            # elección voraz: escogemos el nenúfar \n",
    "            # más alejado de x al que podemos saltar\n",
    "            eleccion_voraz = -1\n",
    "            for j in range(d, 0, -1):\n",
    "                if nenufares[x + j] == 1:\n",
    "                    eleccion_voraz = x + j\n",
    "                    break\n",
    "\n",
    "            # añadimos la el nenúfar a S\n",
    "            S.append(eleccion_voraz)\n",
    "            x = eleccion_voraz\n",
    "\n",
    "    return S"
   ]
  },
  {
   "cell_type": "code",
   "execution_count": 2,
   "id": "2afa6974-3890-4a4a-ab30-a3f09b6b944c",
   "metadata": {},
   "outputs": [],
   "source": [
    "def rana_voraz_recursivo(x, nenufares, d, S):\n",
    "    n = len(nenufares) - 1\n",
    "    if x + d < n:\n",
    "        eleccion_voraz = -1\n",
    "        for j in range(d, 0, -1):\n",
    "            if nenufares[x + j] == 1:\n",
    "                eleccion_voraz = x + j\n",
    "                break\n",
    "        S.append(eleccion_voraz)\n",
    "        rana_voraz_recursivo(eleccion_voraz, nenufares, d, S)"
   ]
  },
  {
   "cell_type": "code",
   "execution_count": 3,
   "id": "e2fd7850-f8d9-4735-8099-6e9e8d5db46d",
   "metadata": {},
   "outputs": [
    {
     "data": {
      "text/plain": [
       "[3, 5, 8]"
      ]
     },
     "execution_count": 3,
     "metadata": {},
     "output_type": "execute_result"
    }
   ],
   "source": [
    "nenufares = [1, 0, 1, 1, 0, 1, 0, 1, 1, 0, 1]\n",
    "d = 3\n",
    "rana_voraz(nenufares, d)"
   ]
  },
  {
   "cell_type": "code",
   "execution_count": 4,
   "id": "bab756e9-2da0-480a-af99-f348f871ddfc",
   "metadata": {},
   "outputs": [
    {
     "data": {
      "text/plain": [
       "[3, 5, 8]"
      ]
     },
     "execution_count": 4,
     "metadata": {},
     "output_type": "execute_result"
    }
   ],
   "source": [
    "nenufares = [1, 0, 1, 1, 0, 1, 0, 1, 1, 0, 1]\n",
    "d = 3\n",
    "S = []\n",
    "rana_voraz_recursivo(x=0, nenufares=nenufares, d=3, S=S)\n",
    "S"
   ]
  }
 ],
 "metadata": {
  "kernelspec": {
   "display_name": "Python 3 (ipykernel)",
   "language": "python",
   "name": "python3"
  },
  "language_info": {
   "codemirror_mode": {
    "name": "ipython",
    "version": 3
   },
   "file_extension": ".py",
   "mimetype": "text/x-python",
   "name": "python",
   "nbconvert_exporter": "python",
   "pygments_lexer": "ipython3",
   "version": "3.9.21"
  }
 },
 "nbformat": 4,
 "nbformat_minor": 5
}
