{
 "cells": [
  {
   "cell_type": "code",
   "execution_count": 1,
   "id": "69398bb3-99c9-4ac5-992a-adaac72d3fae",
   "metadata": {},
   "outputs": [],
   "source": [
    "def decision_voraz(T, B, D, instante):\n",
    "    primer_filtro = set([t for t in T if D[t] >=instante])\n",
    "\n",
    "    if len(primer_filtro) == 0:\n",
    "        return list(T)[0]\n",
    "    else:\n",
    "        l = -1\n",
    "        l_d = float('inf')\n",
    "        l_b = float('-inf')\n",
    "        for t in primer_filtro:\n",
    "            if l_d > D[t]:\n",
    "                l = t\n",
    "                l_d = D[t]\n",
    "                l_b = B[t]\n",
    "            elif l_d == D[t] and l_b < B[t]:\n",
    "                l = t\n",
    "                l_d = D[t]\n",
    "                l_b = B[t]\n",
    "        return l\n",
    "\n",
    "def tareas(T, instante_inicial, B, D):\n",
    "    S = []\n",
    "    T_restantes = set(T)\n",
    "    instante_actual = instante_inicial\n",
    "\n",
    "    while len(T_restantes) != 0:\n",
    "        l = decision_voraz(T_restantes, B, D, instante_actual)\n",
    "        S.append(l)\n",
    "        T_restantes.remove(l)\n",
    "        instante_actual += 1\n",
    "    return S\n",
    "    "
   ]
  },
  {
   "cell_type": "code",
   "execution_count": 2,
   "id": "5612844f-7d2e-41f6-baef-c8204a6ee9ec",
   "metadata": {},
   "outputs": [
    {
     "data": {
      "text/plain": [
       "[1, 0, 3, 2, 4, 5]"
      ]
     },
     "execution_count": 2,
     "metadata": {},
     "output_type": "execute_result"
    }
   ],
   "source": [
    "T = {0,1,2,3,4,5}\n",
    "instante_inicial = 1\n",
    "B = [20, 15, 10, 7, 5, 3]\n",
    "D = [3, 1, 1, 3, 1, 3]\n",
    "tareas(T, instante_inicial, B, D)"
   ]
  }
 ],
 "metadata": {
  "kernelspec": {
   "display_name": "Python 3 (ipykernel)",
   "language": "python",
   "name": "python3"
  },
  "language_info": {
   "codemirror_mode": {
    "name": "ipython",
    "version": 3
   },
   "file_extension": ".py",
   "mimetype": "text/x-python",
   "name": "python",
   "nbconvert_exporter": "python",
   "pygments_lexer": "ipython3",
   "version": "3.9.21"
  }
 },
 "nbformat": 4,
 "nbformat_minor": 5
}
