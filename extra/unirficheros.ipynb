{
 "cells": [
  {
   "cell_type": "code",
   "execution_count": 3,
   "id": "11ce75f7-1843-45fa-964c-cc0638f03f7b",
   "metadata": {},
   "outputs": [
    {
     "name": "stdout",
     "output_type": "stream",
     "text": [
      "Min coste: 115\n"
     ]
    }
   ],
   "source": [
    "import heapq\n",
    "\n",
    "def merge_optimizado(files):\n",
    "    heapq.heapify(files)  # Min-heap of file sizes\n",
    "    total_cost = 0\n",
    "\n",
    "    while len(files) > 1:\n",
    "        # Pop two smallest files\n",
    "        first = heapq.heappop(files)\n",
    "        second = heapq.heappop(files)\n",
    "\n",
    "        # Merge them\n",
    "        merged = first + second\n",
    "        total_cost += merged\n",
    "\n",
    "        # Push the merged file back to heap\n",
    "        heapq.heappush(files, merged)\n",
    "\n",
    "    return total_cost\n",
    "\n",
    "# Example\n",
    "files = [20, 30, 10, 5]\n",
    "print(\"Min coste:\", merge_optimizado(files))\n"
   ]
  }
 ],
 "metadata": {
  "kernelspec": {
   "display_name": "Python 3 (ipykernel)",
   "language": "python",
   "name": "python3"
  },
  "language_info": {
   "codemirror_mode": {
    "name": "ipython",
    "version": 3
   },
   "file_extension": ".py",
   "mimetype": "text/x-python",
   "name": "python",
   "nbconvert_exporter": "python",
   "pygments_lexer": "ipython3",
   "version": "3.9.21"
  }
 },
 "nbformat": 4,
 "nbformat_minor": 5
}
