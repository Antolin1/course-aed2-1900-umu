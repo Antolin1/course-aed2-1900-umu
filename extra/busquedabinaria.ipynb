{
 "cells": [
  {
   "cell_type": "code",
   "execution_count": 2,
   "id": "17a86c08-813a-4375-8c4a-46deb6d52c7a",
   "metadata": {},
   "outputs": [],
   "source": [
    "def bb(arr, x, i, j):\n",
    "    if i > j:\n",
    "        return -1\n",
    "    else:\n",
    "        mid = (i + j)//2\n",
    "        if arr[mid] == x:\n",
    "            return mid\n",
    "        elif x < arr[mid]:\n",
    "            return bb(arr, x, i, mid - 1)\n",
    "        else:\n",
    "            return bb(arr, x, mid + 1, j)"
   ]
  },
  {
   "cell_type": "code",
   "execution_count": 3,
   "id": "00437003-fb09-43a4-8d98-58984061f1ca",
   "metadata": {},
   "outputs": [],
   "source": [
    "# Test 1: Element present in the middle\n",
    "assert bb([1, 3, 5, 7, 9], 5, 0, 4) == 2\n",
    "\n",
    "# Test 2: Element present at the beginning\n",
    "assert bb([2, 4, 6, 8, 10], 2, 0, 4) == 0\n",
    "\n",
    "# Test 3: Element present at the end\n",
    "assert bb([2, 4, 6, 8, 10], 10, 0, 4) == 4\n",
    "\n",
    "# Test 4: Element not in the list\n",
    "assert bb([1, 3, 5, 7, 9], 4, 0, 4) == -1\n",
    "\n",
    "# Test 5: Empty list\n",
    "assert bb([], 1, 0, -1) == -1\n",
    "\n",
    "# Test 6: One-element list, element found\n",
    "assert bb([42], 42, 0, 0) == 0\n",
    "\n",
    "# Test 7: One-element list, element not found\n",
    "assert bb([42], 7, 0, 0) == -1\n",
    "\n",
    "# Test 8: Even number of elements, element present\n",
    "assert bb([1, 2, 3, 4], 3, 0, 3) == 2\n",
    "\n",
    "# Test 9: Even number of elements, element not present\n",
    "assert bb([1, 2, 3, 4], 5, 0, 3) == -1\n",
    "\n",
    "# Test 10: Negative numbers\n",
    "assert bb([-10, -5, 0, 3, 8], -5, 0, 4) == 1"
   ]
  }
 ],
 "metadata": {
  "kernelspec": {
   "display_name": "Python 3 (ipykernel)",
   "language": "python",
   "name": "python3"
  },
  "language_info": {
   "codemirror_mode": {
    "name": "ipython",
    "version": 3
   },
   "file_extension": ".py",
   "mimetype": "text/x-python",
   "name": "python",
   "nbconvert_exporter": "python",
   "pygments_lexer": "ipython3",
   "version": "3.9.21"
  }
 },
 "nbformat": 4,
 "nbformat_minor": 5
}
