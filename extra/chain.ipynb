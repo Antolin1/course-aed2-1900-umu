{
 "cells": [
  {
   "cell_type": "code",
   "execution_count": 1,
   "id": "609f037a-fb85-4a59-a31d-c083fcdca85a",
   "metadata": {},
   "outputs": [],
   "source": [
    "def mcm(dimensions):\n",
    "    num_matrices = len(dimensions) - 1\n",
    "    array = [[-1]*(num_matrices) for i in range(num_matrices)]\n",
    "\n",
    "    for d in range(0, num_matrices):\n",
    "        for i in range(0, num_matrices - d):\n",
    "            x, y = i, i + d\n",
    "            if x == y:\n",
    "                array[x][y] = 0\n",
    "            else:\n",
    "                l = []\n",
    "                \n",
    "                for z in range(x, y):\n",
    "                    l.append(array[x][z] + array[z+1][y] + dimensions[x]*dimensions[z+1]*dimensions[y+1])\n",
    "\n",
    "                array[x][y] = min(l)\n",
    "    return array[0][num_matrices - 1], array\n"
   ]
  },
  {
   "cell_type": "code",
   "execution_count": 2,
   "id": "507dc20a-dec2-465e-9f8e-4ead69d05ce8",
   "metadata": {},
   "outputs": [
    {
     "data": {
      "text/plain": [
       "(4500, [[0, 1500, 4500], [-1, 0, 9000], [-1, -1, 0]])"
      ]
     },
     "execution_count": 2,
     "metadata": {},
     "output_type": "execute_result"
    }
   ],
   "source": [
    "mcm([10,30,5,60])"
   ]
  },
  {
   "cell_type": "code",
   "execution_count": 3,
   "id": "f9e73601-83cf-409e-a853-6975da6c8c1d",
   "metadata": {},
   "outputs": [],
   "source": [
    "def mcm_recuperacion(x, y, dimensions, array):\n",
    "    if x == y:\n",
    "        return\n",
    "    else:\n",
    "        for z in range(x, y):\n",
    "            valor = array[x][z] + array[z+1][y] + dimensions[x]*dimensions[z+1]*dimensions[y+1]\n",
    "            if valor == array[x][y]:\n",
    "                print(f\"({x}-{z})({z+1}-{y})\")\n",
    "                mcm_recuperacion(x, z, dimensions, array)\n",
    "                mcm_recuperacion(z+1, y, dimensions, array)\n",
    "                break"
   ]
  },
  {
   "cell_type": "code",
   "execution_count": 4,
   "id": "85300fbb-22f1-4787-b136-a2c41dcfec4c",
   "metadata": {},
   "outputs": [
    {
     "name": "stdout",
     "output_type": "stream",
     "text": [
      "Operaciones 4500\n",
      "(0-1)(2-2)\n",
      "(0-0)(1-1)\n"
     ]
    }
   ],
   "source": [
    "dimensions = [10,30,5,60]\n",
    "sol, array = mcm(dimensions)\n",
    "print(f\"Operaciones {sol}\")\n",
    "mcm_recuperacion(0, len(dimensions) - 2, dimensions, array)\n"
   ]
  },
  {
   "cell_type": "code",
   "execution_count": 5,
   "id": "8634ebc5-314e-43ee-be81-46288db92eb3",
   "metadata": {},
   "outputs": [
    {
     "name": "stdout",
     "output_type": "stream",
     "text": [
      "Operaciones 1655\n",
      "(0-3)(4-4)\n",
      "(0-1)(2-3)\n",
      "(0-0)(1-1)\n",
      "(2-2)(3-3)\n"
     ]
    }
   ],
   "source": [
    "dimensions = [5, 10, 3, 12, 5, 50]\n",
    "sol, array = mcm(dimensions)\n",
    "print(f\"Operaciones {sol}\")\n",
    "mcm_recuperacion(0, len(dimensions) - 2, dimensions, array)"
   ]
  }
 ],
 "metadata": {
  "kernelspec": {
   "display_name": "Python 3 (ipykernel)",
   "language": "python",
   "name": "python3"
  },
  "language_info": {
   "codemirror_mode": {
    "name": "ipython",
    "version": 3
   },
   "file_extension": ".py",
   "mimetype": "text/x-python",
   "name": "python",
   "nbconvert_exporter": "python",
   "pygments_lexer": "ipython3",
   "version": "3.9.21"
  }
 },
 "nbformat": 4,
 "nbformat_minor": 5
}
