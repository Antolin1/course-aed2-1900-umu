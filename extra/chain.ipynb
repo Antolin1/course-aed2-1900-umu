{
 "cells": [
  {
   "cell_type": "code",
   "execution_count": 21,
   "id": "609f037a-fb85-4a59-a31d-c083fcdca85a",
   "metadata": {},
   "outputs": [],
   "source": [
    "def mcm(dimensions):\n",
    "    num_matrices = len(dimensions) - 1\n",
    "    array = [[0]*(num_matrices) for i in range(num_matrices)]\n",
    "\n",
    "    for d in range(0, num_matrices):\n",
    "        for i in range(0, num_matrices - d):\n",
    "            x, y = i, i + d\n",
    "            if x == y:\n",
    "                array[x][y] = 0\n",
    "            else:\n",
    "                l = []\n",
    "                \n",
    "                for z in range(x, y):\n",
    "                    l.append(array[x][z] + array[z+1][y] + dimensions[x-1]*dimensions[z]*dimensions[y])\n",
    "\n",
    "                array[x][y] = min(l)\n",
    "    return array[0][num_matrices - 1]\n"
   ]
  },
  {
   "cell_type": "code",
   "execution_count": 22,
   "id": "507dc20a-dec2-465e-9f8e-4ead69d05ce8",
   "metadata": {},
   "outputs": [
    {
     "data": {
      "text/plain": [
       "4500"
      ]
     },
     "execution_count": 22,
     "metadata": {},
     "output_type": "execute_result"
    }
   ],
   "source": [
    "mcm([10,30,5,60])"
   ]
  }
 ],
 "metadata": {
  "kernelspec": {
   "display_name": "Python 3 (ipykernel)",
   "language": "python",
   "name": "python3"
  },
  "language_info": {
   "codemirror_mode": {
    "name": "ipython",
    "version": 3
   },
   "file_extension": ".py",
   "mimetype": "text/x-python",
   "name": "python",
   "nbconvert_exporter": "python",
   "pygments_lexer": "ipython3",
   "version": "3.9.21"
  }
 },
 "nbformat": 4,
 "nbformat_minor": 5
}
