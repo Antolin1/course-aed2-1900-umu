{
 "cells": [
  {
   "cell_type": "code",
   "execution_count": 1,
   "id": "d2aedd1a-0932-4629-b65c-385305765f36",
   "metadata": {},
   "outputs": [],
   "source": [
    "def max_subarray_naive(arr):\n",
    "    max_sum = float('-inf')\n",
    "    n = len(arr)\n",
    "    for i in range(n):\n",
    "        current_sum = 0\n",
    "        for j in range(i, n):\n",
    "            current_sum += arr[j]\n",
    "            max_sum = max(max_sum, current_sum)\n",
    "    return max_sum"
   ]
  },
  {
   "cell_type": "code",
   "execution_count": 2,
   "id": "e1bde404-98a5-4b9e-afa6-a50170a06ec8",
   "metadata": {},
   "outputs": [],
   "source": [
    "def max_crossing_sum(arr, left, mid, right):\n",
    "    # Include elements on the left of mid\n",
    "    left_sum = float('-inf')\n",
    "    curr_sum = 0\n",
    "    for i in range(mid, left - 1, -1):\n",
    "        curr_sum += arr[i]\n",
    "        left_sum = max(left_sum, curr_sum)\n",
    "    \n",
    "    # Include elements on the right of mid\n",
    "    right_sum = float('-inf')\n",
    "    curr_sum = 0\n",
    "    for i in range(mid + 1, right + 1):\n",
    "        curr_sum += arr[i]\n",
    "        right_sum = max(right_sum, curr_sum)\n",
    "    \n",
    "    return left_sum + right_sum\n",
    "\n",
    "def max_subarray_divide_and_conquer(arr, left, right):\n",
    "    if left == right:\n",
    "        return arr[left]\n",
    "    \n",
    "    mid = (left + right) // 2\n",
    "    left_max = max_subarray_divide_and_conquer(arr, left, mid)\n",
    "    right_max = max_subarray_divide_and_conquer(arr, mid + 1, right)\n",
    "    cross_max = max_crossing_sum(arr, left, mid, right)\n",
    "    \n",
    "    return max(left_max, right_max, cross_max)\n",
    "\n",
    "# Wrapper function\n",
    "def max_subarray(arr):\n",
    "    return max_subarray_divide_and_conquer(arr, 0, len(arr) - 1)"
   ]
  },
  {
   "cell_type": "code",
   "execution_count": 13,
   "id": "6e3d9904-0224-45c5-8499-c5c7743b2010",
   "metadata": {},
   "outputs": [],
   "source": [
    "# dp[i] = max(arr[i], dp[i-1] + arr[i])\n",
    "\n",
    "def max_subarray_dp(arr):\n",
    "    n = len(arr)\n",
    "    dp = [\"x\"]*n\n",
    "    max_sum = -float(\"inf\")\n",
    "    for i in range(n):\n",
    "        if i == 0:\n",
    "            dp[i] = arr[i]\n",
    "        else:\n",
    "            dp[i] = max(arr[i], dp[i-1] + arr[i])\n",
    "        if dp[i] > max_sum:\n",
    "            max_sum = dp[i]\n",
    "    return max_sum\n"
   ]
  },
  {
   "cell_type": "code",
   "execution_count": 15,
   "id": "8b9ed814-04de-4a86-b89d-dd3d8bfb6160",
   "metadata": {},
   "outputs": [
    {
     "name": "stdout",
     "output_type": "stream",
     "text": [
      "All tests passed!\n"
     ]
    }
   ],
   "source": [
    "def test_max_subarray_algorithms():\n",
    "    test_cases = [\n",
    "        {\n",
    "            \"input\": [1, 2, 3, 4, 5],\n",
    "            \"expected\": 15\n",
    "        },\n",
    "        {\n",
    "            \"input\": [-1, -2, -3, -4],\n",
    "            \"expected\": -1\n",
    "        },\n",
    "        {\n",
    "            \"input\": [2, -1, 2, 3, -9, 4],\n",
    "            \"expected\": 6  # [2, -1, 2, 3]\n",
    "        },\n",
    "        {\n",
    "            \"input\": [-2, -3, 4, -1, -2, 1, 5, -3],\n",
    "            \"expected\": 7  # [4, -1, -2, 1, 5]\n",
    "        },\n",
    "        {\n",
    "            \"input\": [1],\n",
    "            \"expected\": 1\n",
    "        },\n",
    "        {\n",
    "            \"input\": [0, 0, 0, 0],\n",
    "            \"expected\": 0\n",
    "        },\n",
    "        {\n",
    "            \"input\": [0, -3, 5, -2, -1, 2, 6, -2],\n",
    "            \"expected\": 10  # [5, -2, -1, 2, 6]\n",
    "        }\n",
    "    ]\n",
    "\n",
    "    for i, case in enumerate(test_cases):\n",
    "        arr = case[\"input\"]\n",
    "        expected = case[\"expected\"]\n",
    "        result_naive = max_subarray_naive(arr)\n",
    "        result_divide = max_subarray(arr)\n",
    "        result_dp = max_subarray_dp(arr)\n",
    "        assert result_naive == expected, f\"Naive failed on case {i}: got {result_naive}, expected {expected}\"\n",
    "        assert result_divide == expected, f\"Divide and conquer failed on case {i}: got {result_divide}, expected {expected}\"\n",
    "        assert result_dp == expected, f\"DP failed on case {i}: got {result_dp}, expected {expected}\"\n",
    "        \n",
    "    \n",
    "    print(\"All tests passed!\")\n",
    "\n",
    "# Run the tests\n",
    "test_max_subarray_algorithms()"
   ]
  }
 ],
 "metadata": {
  "kernelspec": {
   "display_name": "Python 3 (ipykernel)",
   "language": "python",
   "name": "python3"
  },
  "language_info": {
   "codemirror_mode": {
    "name": "ipython",
    "version": 3
   },
   "file_extension": ".py",
   "mimetype": "text/x-python",
   "name": "python",
   "nbconvert_exporter": "python",
   "pygments_lexer": "ipython3",
   "version": "3.9.21"
  }
 },
 "nbformat": 4,
 "nbformat_minor": 5
}
