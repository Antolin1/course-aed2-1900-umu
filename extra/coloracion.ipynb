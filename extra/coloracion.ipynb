{
 "cells": [
  {
   "cell_type": "code",
   "execution_count": 1,
   "id": "fb8c892a-fdb0-4fa5-8a6f-1d41a8dc212e",
   "metadata": {},
   "outputs": [
    {
     "name": "stdout",
     "output_type": "stream",
     "text": [
      "Collecting networkx\n",
      "  Using cached networkx-3.2.1-py3-none-any.whl.metadata (5.2 kB)\n",
      "Using cached networkx-3.2.1-py3-none-any.whl (1.6 MB)\n",
      "Installing collected packages: networkx\n",
      "Successfully installed networkx-3.2.1\n"
     ]
    }
   ],
   "source": [
    "!pip install networkx"
   ]
  },
  {
   "cell_type": "code",
   "execution_count": 83,
   "id": "9d5f7324-a132-4c2d-b7f3-4494caaf839e",
   "metadata": {},
   "outputs": [],
   "source": [
    "import networkx as nx\n",
    "\n",
    "def valor(usados):\n",
    "    cont = 0\n",
    "    for i in range(len(usados)):\n",
    "        if usados[i] > 0:\n",
    "            cont += 1\n",
    "    return cont\n",
    "\n",
    "def criterio(G, nivel, s):\n",
    "    if nivel >= len(G):\n",
    "        return False\n",
    "    else:\n",
    "        nodo = nivel - 1\n",
    "        color = s[nivel - 1]\n",
    "        for vecino in G.neighbors(nodo):\n",
    "            if s[vecino] == s[nodo]:\n",
    "                return False\n",
    "        return True\n",
    "\n",
    "def solucion(G, nivel, s):\n",
    "    nodo = nivel - 1\n",
    "    color = s[nivel - 1]\n",
    "    for vecino in G.neighbors(nodo):\n",
    "        if s[vecino] == s[nodo]:\n",
    "            return False\n",
    "    return nivel == len(G)\n",
    "            \n",
    "\n",
    "def backtracking(G):\n",
    "    grados = dict(G.degree())\n",
    "    max_grado = max(grados.values())\n",
    "    max_color = max_grado + 1\n",
    "    s = [-1]*len(G)\n",
    "    usados = [0] * max_color\n",
    "    nivel = 1\n",
    "    soa = None\n",
    "    voa = float(\"inf\")\n",
    "\n",
    "    while nivel != 0:\n",
    "        # genero un hermano\n",
    "        s[nivel - 1] += 1\n",
    "        if s[nivel - 1] == 0:\n",
    "            usados[s[nivel-1]] += 1\n",
    "        else:\n",
    "            usados[s[nivel-1]-1] -= 1\n",
    "            usados[s[nivel-1]] += 1\n",
    "\n",
    "        if solucion(G, nivel, s) and valor(usados) < voa:\n",
    "            soa = s.copy()\n",
    "            # print(s, usados, valor(usados))\n",
    "            voa = valor(usados)\n",
    "\n",
    "        if criterio(G, nivel, s) and valor(usados) < voa:\n",
    "            nivel += 1\n",
    "        else:\n",
    "            while nivel > 0 and (not (s[nivel - 1] < max_color - 1)):\n",
    "                usados[s[nivel - 1]] -= 1\n",
    "                s[nivel - 1] = -1\n",
    "                nivel -= 1\n",
    "\n",
    "    return soa, voa\n",
    "\n",
    "\n",
    "def backtracking_voraz(G):\n",
    "    max_color = len(set(nx.greedy_color(G).values()))\n",
    "    s = [-1]*len(G)\n",
    "    usados = [0] * max_color\n",
    "    nivel = 1\n",
    "    soa = None\n",
    "    voa = float(\"inf\")\n",
    "\n",
    "    while nivel != 0:\n",
    "        # genero un hermano\n",
    "        s[nivel - 1] += 1\n",
    "        if s[nivel - 1] == 0:\n",
    "            usados[s[nivel-1]] += 1\n",
    "        else:\n",
    "            usados[s[nivel-1]-1] -= 1\n",
    "            usados[s[nivel-1]] += 1\n",
    "\n",
    "        if solucion(G, nivel, s) and valor(usados) < voa:\n",
    "            soa = s.copy()\n",
    "            # print(s, usados, valor(usados))\n",
    "            voa = valor(usados)\n",
    "\n",
    "        if criterio(G, nivel, s) and valor(usados) < voa:\n",
    "            nivel += 1\n",
    "        else:\n",
    "            while nivel > 0 and (not (s[nivel - 1] < max_color - 1)):\n",
    "                usados[s[nivel - 1]] -= 1\n",
    "                s[nivel - 1] = -1\n",
    "                nivel -= 1\n",
    "\n",
    "    return soa, voa\n",
    "        "
   ]
  },
  {
   "cell_type": "code",
   "execution_count": 84,
   "id": "9d84e1fa-159d-44e0-a406-de0f52d50af5",
   "metadata": {},
   "outputs": [
    {
     "name": "stdout",
     "output_type": "stream",
     "text": [
      "Test pasados con árboles binarios\n"
     ]
    }
   ],
   "source": [
    "for n in range(1, 11):\n",
    "    _, voa = backtracking(nx.balanced_tree(3, n))\n",
    "    assert voa == 2\n",
    "\n",
    "    _, voa = backtracking_voraz(nx.balanced_tree(3, n))\n",
    "    assert voa == 2\n",
    "\n",
    "print(\"Test pasados con árboles binarios\")"
   ]
  },
  {
   "cell_type": "code",
   "execution_count": 85,
   "id": "c4a9130f-be33-4c22-a163-5194d903617b",
   "metadata": {},
   "outputs": [
    {
     "name": "stdout",
     "output_type": "stream",
     "text": [
      "Test pasados con grafos de coloraciones más altas\n"
     ]
    }
   ],
   "source": [
    "for n in range(2, 5):\n",
    "    M = nx.mycielski_graph(n)\n",
    "    _, voa = backtracking(M)\n",
    "    assert voa == n, n\n",
    "    _, voa = backtracking_voraz(M)\n",
    "    assert voa == n, n\n",
    "\n",
    "print(\"Test pasados con grafos de coloraciones más altas\")"
   ]
  }
 ],
 "metadata": {
  "kernelspec": {
   "display_name": "Python 3 (ipykernel)",
   "language": "python",
   "name": "python3"
  },
  "language_info": {
   "codemirror_mode": {
    "name": "ipython",
    "version": 3
   },
   "file_extension": ".py",
   "mimetype": "text/x-python",
   "name": "python",
   "nbconvert_exporter": "python",
   "pygments_lexer": "ipython3",
   "version": "3.9.21"
  }
 },
 "nbformat": 4,
 "nbformat_minor": 5
}
