{
 "cells": [
  {
   "cell_type": "code",
   "execution_count": 1,
   "id": "f87a34e5-020c-4e94-a238-ce86df5dfb59",
   "metadata": {},
   "outputs": [],
   "source": [
    "def subconjunto_backtracking(A, M):\n",
    "    nivel = 1\n",
    "    s = [-1]*len(A)\n",
    "\n",
    "    while nivel != 0:\n",
    "        # genero un hermano\n",
    "        generar(nivel, s)\n",
    "\n",
    "        # si he encontrado la solución termino\n",
    "        if solucion(nivel, s, A, M):\n",
    "            return s\n",
    "\n",
    "        # si renta seguir explorando\n",
    "        if criterio(nivel, s, A, M):\n",
    "            nivel += 1\n",
    "        else:\n",
    "        # en caso contario, retrocedo hasta que encuentre un nodo con más hermanos\n",
    "        # por explorar\n",
    "            while nivel > 0 and (not masHermanos(nivel, s)):\n",
    "                s[nivel-1] = -1\n",
    "                nivel -= 1\n",
    "\n",
    "    print(\"No hay solución\")\n",
    "\n",
    "def generar(nivel, s):\n",
    "    s[nivel-1] += 1\n",
    "\n",
    "def solucion(nivel, s, A, M):\n",
    "    suma = 0\n",
    "    for i in range(0, nivel):\n",
    "        suma += A[i]*s[i]\n",
    "    return suma == M and len(A) == nivel\n",
    "\n",
    "def criterio(nivel, s, A, M):\n",
    "    suma = 0\n",
    "    for i in range(0, nivel):\n",
    "        suma += A[i]*s[i]\n",
    "    return suma <= M and nivel < len(A)\n",
    "\n",
    "def masHermanos(nivel, s):\n",
    "    return s[nivel-1] == 0"
   ]
  },
  {
   "cell_type": "code",
   "execution_count": 2,
   "id": "0c997bbc-b0dc-4300-8e80-514ce968cbc9",
   "metadata": {},
   "outputs": [
    {
     "data": {
      "text/plain": [
       "[0, 0, 0, 1, 0, 1, 0, 1, 1]"
      ]
     },
     "execution_count": 2,
     "metadata": {},
     "output_type": "execute_result"
    }
   ],
   "source": [
    "subconjunto_backtracking([13, 11, 7, 6, 2, 1, 3, 5, 6], 18)"
   ]
  },
  {
   "cell_type": "code",
   "execution_count": 3,
   "id": "58ee76b4-0005-4cfa-9a66-4216ae26f34e",
   "metadata": {},
   "outputs": [],
   "source": [
    "def subconjunto_backtracking_optimizado(A, M):\n",
    "    nivel = 1\n",
    "    s = [-1]*len(A)\n",
    "    suma = 0\n",
    "\n",
    "    while nivel != 0:\n",
    "        # genero un hermano\n",
    "        generar(nivel, s)\n",
    "        if s[nivel-1] == 1:\n",
    "            suma += A[nivel - 1]\n",
    "\n",
    "        # si he encontrado la solución termino\n",
    "        if solucion_optimizada(nivel, A, M, suma):\n",
    "            return s\n",
    "\n",
    "        # si renta seguir explorando\n",
    "        if criterio_optimizado(nivel, A, M, suma):\n",
    "            nivel += 1\n",
    "        else:\n",
    "        # en caso contario, retrocedo hasta que encuentre un nodo con más hermanos\n",
    "        # por explorar\n",
    "            while nivel > 0 and (not masHermanos(nivel, s)):\n",
    "                suma -= s[nivel-1]*A[nivel - 1]\n",
    "                s[nivel-1] = -1\n",
    "                nivel -= 1\n",
    "\n",
    "    print(\"No hay solución\")\n",
    "\n",
    "def solucion_optimizada(nivel, A, M, suma):\n",
    "    return suma == M and len(A) == nivel\n",
    "\n",
    "def criterio_optimizado(nivel, A, M, suma):\n",
    "    return suma <= M and nivel < len(A)"
   ]
  },
  {
   "cell_type": "code",
   "execution_count": 4,
   "id": "6daffef6-2fd3-436e-81f8-cf0caeab8786",
   "metadata": {},
   "outputs": [
    {
     "data": {
      "text/plain": [
       "[0, 0, 0, 1, 0, 1, 0, 1, 1]"
      ]
     },
     "execution_count": 4,
     "metadata": {},
     "output_type": "execute_result"
    }
   ],
   "source": [
    "subconjunto_backtracking_optimizado([13, 11, 7, 6, 2, 1, 3, 5, 6], 18)"
   ]
  },
  {
   "cell_type": "code",
   "execution_count": 5,
   "id": "c61d67b5-0182-438d-9c1a-e455f903b4d6",
   "metadata": {},
   "outputs": [],
   "source": [
    "def subconjunto_backtracking_enumeracion(A, M):\n",
    "    nivel = 1\n",
    "    s = [-1]*len(A)\n",
    "    suma = 0\n",
    "    S = []\n",
    "\n",
    "    while nivel != 0:\n",
    "        # genero un hermano\n",
    "        generar(nivel, s)\n",
    "        if s[nivel-1] == 1:\n",
    "            suma += A[nivel - 1]\n",
    "\n",
    "        # si he encontrado la solución termino\n",
    "        if solucion_optimizada(nivel, A, M, suma):\n",
    "            S.append(s.copy())\n",
    "\n",
    "        # si renta seguir explorando\n",
    "        if criterio_optimizado(nivel, A, M, suma):\n",
    "            nivel += 1\n",
    "        else:\n",
    "        # en caso contario, retrocedo hasta que encuentre un nodo con más hermanos\n",
    "        # por explorar\n",
    "            while nivel > 0 and (not masHermanos(nivel, s)):\n",
    "                suma -= s[nivel-1]*A[nivel - 1]\n",
    "                s[nivel-1] = -1\n",
    "                nivel -= 1\n",
    "    return S"
   ]
  },
  {
   "cell_type": "code",
   "execution_count": 6,
   "id": "63733d2d-401e-4b76-8aea-651c0d2a1c3b",
   "metadata": {},
   "outputs": [
    {
     "data": {
      "text/plain": [
       "[[0, 0, 0, 1, 0, 1, 0, 1, 1],\n",
       " [0, 0, 0, 1, 1, 1, 1, 0, 1],\n",
       " [0, 0, 1, 0, 0, 0, 0, 1, 1],\n",
       " [0, 0, 1, 0, 1, 0, 1, 0, 1],\n",
       " [0, 0, 1, 0, 1, 1, 1, 1, 0],\n",
       " [0, 0, 1, 1, 0, 0, 0, 1, 0],\n",
       " [0, 0, 1, 1, 1, 0, 1, 0, 0],\n",
       " [0, 1, 0, 0, 0, 1, 0, 0, 1],\n",
       " [0, 1, 0, 0, 1, 0, 0, 1, 0],\n",
       " [0, 1, 0, 1, 0, 1, 0, 0, 0],\n",
       " [0, 1, 1, 0, 0, 0, 0, 0, 0],\n",
       " [1, 0, 0, 0, 0, 0, 0, 1, 0],\n",
       " [1, 0, 0, 0, 1, 0, 1, 0, 0]]"
      ]
     },
     "execution_count": 6,
     "metadata": {},
     "output_type": "execute_result"
    }
   ],
   "source": [
    "A = [13, 11, 7, 6, 2, 1, 3, 5, 6]\n",
    "M = 18\n",
    "S = subconjunto_backtracking_enumeracion(A, M)\n",
    "S"
   ]
  },
  {
   "cell_type": "code",
   "execution_count": 7,
   "id": "d364d33c-a33d-4a29-849f-c5ecc41a44d9",
   "metadata": {},
   "outputs": [],
   "source": [
    "for s in S:\n",
    "    assert sum([A[i]*s[i] for i in range(len(A))]) == M"
   ]
  }
 ],
 "metadata": {
  "kernelspec": {
   "display_name": "Python 3 (ipykernel)",
   "language": "python",
   "name": "python3"
  },
  "language_info": {
   "codemirror_mode": {
    "name": "ipython",
    "version": 3
   },
   "file_extension": ".py",
   "mimetype": "text/x-python",
   "name": "python",
   "nbconvert_exporter": "python",
   "pygments_lexer": "ipython3",
   "version": "3.9.21"
  }
 },
 "nbformat": 4,
 "nbformat_minor": 5
}
