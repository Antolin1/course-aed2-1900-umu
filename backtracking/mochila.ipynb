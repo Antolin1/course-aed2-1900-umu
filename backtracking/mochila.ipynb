{
 "cells": [
  {
   "cell_type": "code",
   "execution_count": 3,
   "id": "09b538c4-c1ff-46f7-9a4c-2679c3f1b8c9",
   "metadata": {},
   "outputs": [],
   "source": [
    "def mochila(B, P, M):\n",
    "    nivel = 1\n",
    "    s = [-1]*len(B)\n",
    "    voa = -float(\"inf\")\n",
    "    soa = None\n",
    "    peso_actual = 0\n",
    "    beneficio_actual = 0\n",
    "    nodos = 0\n",
    "\n",
    "    while nivel != 0:\n",
    "        nodos += 1\n",
    "        # generar\n",
    "        s[nivel - 1] += 1\n",
    "        peso_actual += P[nivel - 1]*s[nivel - 1]\n",
    "        beneficio_actual += B[nivel - 1]*s[nivel - 1]\n",
    "        # fin generar\n",
    "        \n",
    "        # solucion\n",
    "        if peso_actual <= M and len(B) == nivel and beneficio_actual > voa:\n",
    "            voa = beneficio_actual\n",
    "            soa = s.copy()\n",
    "\n",
    "        # criterio\n",
    "        if peso_actual <= M and nivel < len(B):\n",
    "            nivel += 1\n",
    "        else:\n",
    "        # masHermanos y retroceder\n",
    "            while nivel > 0 and (not s[nivel-1] <= 0):\n",
    "                beneficio_actual -= s[nivel-1]*B[nivel-1]\n",
    "                peso_actual -= s[nivel-1]*P[nivel-1]\n",
    "                s[nivel - 1] = -1\n",
    "                nivel -= 1\n",
    "    print(f\"Nodos recorridos: {nodos}\")\n",
    "    return soa, voa"
   ]
  },
  {
   "cell_type": "code",
   "execution_count": 4,
   "id": "746f2185-184c-42f2-9ae9-736662ebd8c9",
   "metadata": {},
   "outputs": [
    {
     "name": "stdout",
     "output_type": "stream",
     "text": [
      "Nodos recorridos: 30\n"
     ]
    },
    {
     "data": {
      "text/plain": [
       "([1, 1, 0, 1], 10)"
      ]
     },
     "execution_count": 4,
     "metadata": {},
     "output_type": "execute_result"
    }
   ],
   "source": [
    "B = [2, 3, 4, 5]\n",
    "P = [1, 2, 3, 4]\n",
    "M = 7\n",
    "\n",
    "mochila(B, P, M)"
   ]
  },
  {
   "cell_type": "code",
   "execution_count": 5,
   "id": "678648a8-66e3-4be6-9452-9316a5670438",
   "metadata": {},
   "outputs": [],
   "source": [
    "def seleccion_voraz(O, B, P, capacidad_restante):\n",
    "    l = -1\n",
    "    l_prop = -1\n",
    "\n",
    "    for o in O:\n",
    "        if B[o]/P[o] > l_prop:\n",
    "            l_prop = B[o]/P[o]\n",
    "            l = o\n",
    "\n",
    "    if capacidad_restante > P[l]:\n",
    "        return 1, l\n",
    "    else:\n",
    "        return capacidad_restante/P[l], l\n",
    "\n",
    "def mochila_voraz(O, B, P, M):\n",
    "    S = {}\n",
    "    m = 0\n",
    "    O_disponibles = set(O)\n",
    "    while m < M and len(O_disponibles)!=0:\n",
    "        capacidad_restante = M - m\n",
    "        x_l, l = seleccion_voraz(O_disponibles, B, P, capacidad_restante)\n",
    "        O_disponibles.remove(l)\n",
    "        m += x_l*P[l]\n",
    "        S[l] = x_l\n",
    "    beneficio_estimado = 0\n",
    "    for i, v in S.items():\n",
    "        beneficio_estimado += B[i] * v\n",
    "    return beneficio_estimado"
   ]
  },
  {
   "cell_type": "code",
   "execution_count": 6,
   "id": "4fa80afe-dd2b-4094-a56a-6f94009f35a9",
   "metadata": {},
   "outputs": [],
   "source": [
    "def mochila_optimizada(B, P, M):\n",
    "    nivel = 1\n",
    "    s = [-1]*len(B)\n",
    "    voa = -float(\"inf\")\n",
    "    soa = None\n",
    "    peso_actual = 0\n",
    "    beneficio_actual = 0\n",
    "    nodos = 0\n",
    "\n",
    "    while nivel != 0:\n",
    "        nodos += 1\n",
    "        # generar\n",
    "        s[nivel - 1] += 1\n",
    "        \n",
    "        peso_actual += P[nivel - 1]*s[nivel - 1]\n",
    "        beneficio_actual += B[nivel - 1]*s[nivel - 1]\n",
    "        # fin generar\n",
    "        \n",
    "        # solucion\n",
    "        if peso_actual <= M and len(B) == nivel and beneficio_actual > voa:\n",
    "            voa = beneficio_actual\n",
    "            soa = s.copy()\n",
    "\n",
    "        beneficio_estimado = int(mochila_voraz(set([i for i in range(nivel, len(B))]), B, P, M - peso_actual))\n",
    "        #print(s, beneficio_estimado, beneficio_actual, voa, beneficio_estimado + beneficio_actual > voa)\n",
    "        if peso_actual <= M and nivel < len(B) and (beneficio_estimado + beneficio_actual <= voa):\n",
    "            print(s, peso_actual <= M, nivel < len(B), (beneficio_estimado + beneficio_actual > voa), \n",
    "                  (beneficio_estimado + beneficio_actual), beneficio_actual, beneficio_estimado, voa)\n",
    "        \n",
    "        # criterio\n",
    "        if peso_actual <= M and nivel < len(B) and (beneficio_estimado + beneficio_actual > voa):\n",
    "            nivel += 1\n",
    "        else:\n",
    "        # masHermanos y retroceder\n",
    "            while nivel > 0 and (not s[nivel-1] <= 0):\n",
    "                beneficio_actual -= s[nivel-1]*B[nivel-1]\n",
    "                peso_actual -= s[nivel-1]*P[nivel-1]\n",
    "                s[nivel - 1] = -1\n",
    "                nivel -= 1\n",
    "    print(f\"Nodos recorridos: {nodos}\")\n",
    "    return soa, voa"
   ]
  },
  {
   "cell_type": "code",
   "execution_count": 7,
   "id": "932c7e40-9db0-4f72-8386-16f24c257a95",
   "metadata": {},
   "outputs": [
    {
     "name": "stdout",
     "output_type": "stream",
     "text": [
      "[0, 1, -1, -1] True True False 9 3 6 9\n",
      "[1, 0, -1, -1] True True False 9 2 7 9\n",
      "[1, 1, 1, -1] True True False 10 9 1 10\n",
      "Nodos recorridos: 16\n"
     ]
    },
    {
     "data": {
      "text/plain": [
       "([1, 1, 0, 1], 10)"
      ]
     },
     "execution_count": 7,
     "metadata": {},
     "output_type": "execute_result"
    }
   ],
   "source": [
    "B = [2, 3, 4, 5]\n",
    "P = [1, 2, 3, 4]\n",
    "M = 7\n",
    "\n",
    "mochila_optimizada(B, P, M)"
   ]
  },
  {
   "cell_type": "code",
   "execution_count": 8,
   "id": "3a2aa32f-8ea9-4059-8236-cca4876c9bee",
   "metadata": {},
   "outputs": [],
   "source": [
    "def mochila_optimizada_2(B, P, M):\n",
    "    nivel = 1\n",
    "    s = [-1]*len(B)\n",
    "    voa = -float(\"inf\")\n",
    "    soa = None\n",
    "    peso_actual = 0\n",
    "    beneficio_actual = 0\n",
    "    nodos = 0\n",
    "\n",
    "    while nivel != 0:\n",
    "        nodos += 1\n",
    "        # generar\n",
    "        if s[nivel - 1] == -1:\n",
    "            s[nivel - 1] = 1\n",
    "            peso_actual += P[nivel - 1]\n",
    "            beneficio_actual += B[nivel - 1]\n",
    "        else:\n",
    "            s[nivel - 1] = 0\n",
    "            peso_actual -= P[nivel - 1]\n",
    "            beneficio_actual -= B[nivel - 1]\n",
    "        # fin generar\n",
    "        \n",
    "        # solucion\n",
    "        if peso_actual <= M and len(B) == nivel and beneficio_actual > voa:\n",
    "            voa = beneficio_actual\n",
    "            soa = s.copy()\n",
    "\n",
    "        beneficio_estimado = int(mochila_voraz(set([i for i in range(nivel, len(B))]), B, P, M - peso_actual))\n",
    "        if peso_actual <= M and nivel < len(B) and (beneficio_estimado + beneficio_actual <= voa):\n",
    "            print(s, peso_actual <= M, nivel < len(B), (beneficio_estimado + beneficio_actual > voa), \n",
    "                  (beneficio_estimado + beneficio_actual), beneficio_actual, beneficio_estimado, voa)\n",
    "        \n",
    "        # criterio\n",
    "        if peso_actual <= M and nivel < len(B) and (beneficio_estimado + beneficio_actual > voa):\n",
    "            nivel += 1\n",
    "        else:\n",
    "        # masHermanos y retroceder\n",
    "            while nivel > 0 and (not (s[nivel-1] == -1 or s[nivel-1] == 1)):\n",
    "                beneficio_actual -= s[nivel-1]*B[nivel-1]\n",
    "                peso_actual -= s[nivel-1]*P[nivel-1]\n",
    "                s[nivel - 1] = -1\n",
    "                nivel -= 1\n",
    "    print(f\"Nodos recorridos: {nodos}\")\n",
    "    return soa, voa"
   ]
  },
  {
   "cell_type": "code",
   "execution_count": 9,
   "id": "29085a62-db7f-4f28-915c-49df863bf80c",
   "metadata": {},
   "outputs": [
    {
     "name": "stdout",
     "output_type": "stream",
     "text": [
      "[1, 0, -1, -1] True True False 9 2 7 10\n",
      "[0, -1, -1, -1] True True False 9 0 9 10\n",
      "Nodos recorridos: 10\n"
     ]
    },
    {
     "data": {
      "text/plain": [
       "([1, 1, 0, 1], 10)"
      ]
     },
     "execution_count": 9,
     "metadata": {},
     "output_type": "execute_result"
    }
   ],
   "source": [
    "B = [2, 3, 4, 5]\n",
    "P = [1, 2, 3, 4]\n",
    "M = 7\n",
    "\n",
    "mochila_optimizada_2(B, P, M)"
   ]
  },
  {
   "cell_type": "code",
   "execution_count": 6,
   "id": "a745ac99-386d-4095-8d3b-9616a398f3bb",
   "metadata": {},
   "outputs": [],
   "source": [
    "def mochila_combinatorio(B, P, M):\n",
    "    nivel = 1\n",
    "    s = [0]*len(B)\n",
    "    voa = -float(\"inf\")\n",
    "    soa = None\n",
    "    peso_actual = 0\n",
    "    beneficio_actual = 0\n",
    "    nodos = 0\n",
    "\n",
    "    while nivel != 0:\n",
    "        nodos += 1\n",
    "        # generar\n",
    "        if s[nivel-1] == 0: # primer hermano?\n",
    "            if nivel == 1: # primer nivel?\n",
    "                s[nivel - 1] = 1\n",
    "                peso_actual += P[0]\n",
    "                beneficio_actual += B[0]\n",
    "            else:\n",
    "                # se genera el siguiente al padre\n",
    "                # y se actualiza el peso y beneficio actual\n",
    "                s[nivel - 1] = s[nivel - 2] + 1\n",
    "                peso_actual += P[s[nivel - 1] - 1]\n",
    "                beneficio_actual += B[s[nivel - 1] - 1]\n",
    "        else: \n",
    "            # generar el siguiente hermano\n",
    "            # se genera el siguiente al que había\n",
    "            # se actualizan las var aux restando y sumando\n",
    "            peso_actual -= P[s[nivel - 1] - 1]\n",
    "            beneficio_actual -= B[s[nivel - 1] - 1]\n",
    "            s[nivel - 1] += 1\n",
    "            peso_actual += P[s[nivel - 1] - 1]\n",
    "            beneficio_actual += B[s[nivel - 1] - 1]\n",
    "        # fin generar\n",
    "\n",
    "        \n",
    "        \n",
    "        # solucion\n",
    "        if peso_actual <= M and beneficio_actual > voa:\n",
    "            voa = beneficio_actual\n",
    "            soa = s.copy()\n",
    "            \n",
    "        beneficio_estimado = int(mochila_voraz(set([i for i in range(s[nivel - 1], len(B))]), B, P, M - peso_actual))\n",
    "        # criterio\n",
    "        if peso_actual <= M and s[nivel-1] < len(B) and (beneficio_estimado + beneficio_actual > voa):\n",
    "            nivel += 1\n",
    "        else:\n",
    "        # masHermanos y retroceder\n",
    "            while nivel > 0 and (not (s[nivel-1] < len(B))):\n",
    "                beneficio_actual -= B[s[nivel - 1] - 1]\n",
    "                peso_actual -= P[s[nivel - 1] - 1]\n",
    "                s[nivel - 1] = 0\n",
    "                nivel -= 1\n",
    "    print(f\"Nodos recorridos: {nodos}\")\n",
    "    return soa, voa"
   ]
  },
  {
   "cell_type": "code",
   "execution_count": 7,
   "id": "86ed4c61-be23-4a67-b924-5671f7f48c01",
   "metadata": {},
   "outputs": [
    {
     "name": "stdout",
     "output_type": "stream",
     "text": [
      "Nodos recorridos: 10\n"
     ]
    },
    {
     "data": {
      "text/plain": [
       "([1, 2, 4, 0], 10)"
      ]
     },
     "execution_count": 7,
     "metadata": {},
     "output_type": "execute_result"
    }
   ],
   "source": [
    "B = [2, 3, 4, 5]\n",
    "P = [1, 2, 3, 4]\n",
    "M = 7\n",
    "\n",
    "mochila_combinatorio(B, P, M)"
   ]
  }
 ],
 "metadata": {
  "kernelspec": {
   "display_name": "Python 3 (ipykernel)",
   "language": "python",
   "name": "python3"
  },
  "language_info": {
   "codemirror_mode": {
    "name": "ipython",
    "version": 3
   },
   "file_extension": ".py",
   "mimetype": "text/x-python",
   "name": "python",
   "nbconvert_exporter": "python",
   "pygments_lexer": "ipython3",
   "version": "3.9.21"
  }
 },
 "nbformat": 4,
 "nbformat_minor": 5
}
