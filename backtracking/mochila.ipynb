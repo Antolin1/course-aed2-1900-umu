{
 "cells": [
  {
   "cell_type": "code",
   "execution_count": 28,
   "id": "09b538c4-c1ff-46f7-9a4c-2679c3f1b8c9",
   "metadata": {},
   "outputs": [],
   "source": [
    "def mochila(B, P, M):\n",
    "    nivel = 1\n",
    "    s = [-1]*len(B)\n",
    "    voa = -float(\"inf\")\n",
    "    soa = None\n",
    "    peso_actual = 0\n",
    "    beneficio_actual = 0\n",
    "\n",
    "    while nivel != 0:\n",
    "        # generar\n",
    "        s[nivel - 1] += 1\n",
    "        peso_actual += P[nivel - 1]*s[nivel - 1]\n",
    "        beneficio_actual += B[nivel - 1]*s[nivel - 1]\n",
    "        # fin generar\n",
    "        \n",
    "        # solucion\n",
    "        if peso_actual <= M and len(B) == nivel and beneficio_actual > voa:\n",
    "            voa = beneficio_actual\n",
    "            soa = s.copy()\n",
    "\n",
    "        # criterio\n",
    "        if peso_actual <= M and nivel < len(B):\n",
    "            nivel += 1\n",
    "        else:\n",
    "        # masHermanos y retroceder\n",
    "            while nivel > 0 and (not s[nivel-1] <= 0):\n",
    "                beneficio_actual -= s[nivel-1]*B[nivel-1]\n",
    "                peso_actual -= s[nivel-1]*P[nivel-1]\n",
    "                s[nivel - 1] = -1\n",
    "                nivel -= 1\n",
    "                \n",
    "    return soa, voa"
   ]
  },
  {
   "cell_type": "code",
   "execution_count": 29,
   "id": "746f2185-184c-42f2-9ae9-736662ebd8c9",
   "metadata": {},
   "outputs": [
    {
     "data": {
      "text/plain": [
       "([1, 1, 0, 1], 10)"
      ]
     },
     "execution_count": 29,
     "metadata": {},
     "output_type": "execute_result"
    }
   ],
   "source": [
    "B = [2, 3, 4, 5]\n",
    "P = [1, 2, 3, 4]\n",
    "M = 7\n",
    "\n",
    "mochila(B, P, M)"
   ]
  }
 ],
 "metadata": {
  "kernelspec": {
   "display_name": "Python 3 (ipykernel)",
   "language": "python",
   "name": "python3"
  },
  "language_info": {
   "codemirror_mode": {
    "name": "ipython",
    "version": 3
   },
   "file_extension": ".py",
   "mimetype": "text/x-python",
   "name": "python",
   "nbconvert_exporter": "python",
   "pygments_lexer": "ipython3",
   "version": "3.9.21"
  }
 },
 "nbformat": 4,
 "nbformat_minor": 5
}
