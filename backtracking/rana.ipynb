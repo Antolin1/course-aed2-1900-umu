{
 "cells": [
  {
   "cell_type": "code",
   "execution_count": 1,
   "id": "467fb56c-38fc-4aa5-98cd-ce24b60e4224",
   "metadata": {},
   "outputs": [],
   "source": [
    "def backtracking_optimizacion_minimizar():\n",
    "    nivel = 1\n",
    "    s = s_0\n",
    "    voa = float(\"inf\")\n",
    "    soa = None\n",
    "\n",
    "    while nivel != 0:\n",
    "        # genero un hermano\n",
    "        generar(nivel, s)\n",
    "\n",
    "        # si he encontrado una solución que mejora a voa\n",
    "        # lo guardo\n",
    "        if solucion(nivel, s) and valor(s) < voa:\n",
    "            voa = valor(s)\n",
    "            soa = s\n",
    "\n",
    "        # si renta seguir explorando\n",
    "        if criterio(nivel, s):\n",
    "            nivel += 1\n",
    "        else:\n",
    "        # en caso contario, retrocedo hasta que encuentre un nodo con más hermanos\n",
    "        # por explorar\n",
    "            while nivel > 0 and (not masHermanos(nivel, s)):\n",
    "                retroceder(nivel, s)\n",
    "            "
   ]
  },
  {
   "cell_type": "code",
   "execution_count": 2,
   "id": "9ebdd90d-260d-49da-8318-d7bc60b04cc5",
   "metadata": {},
   "outputs": [],
   "source": [
    "def rana_backtracking(nenufares, d):\n",
    "    s = [0]\n",
    "    nivel = 1\n",
    "    voa = float(\"inf\")\n",
    "    soa = None\n",
    "    n = len(nenufares)\n",
    "    \n",
    "    while (nivel!=0):\n",
    "        generar(nivel, s, d, nenufares)\n",
    "        \n",
    "        if s[-1] == n - 1 and len(s) < voa:\n",
    "            voa = len(s)\n",
    "            soa = s.copy()\n",
    "\n",
    "        if nenufares[s[-1]] == 1 and len(s) < voa and s[-1] < n - 1:\n",
    "            nivel += 1\n",
    "        else:\n",
    "            while (nivel > 0) and (not masHermanos(nivel, s, d)):\n",
    "                nivel -= 1\n",
    "                s.pop()\n",
    "    return soa\n",
    "\n",
    "def generar(nivel, s, d, nenufares):\n",
    "    if len(s) == nivel:\n",
    "        # generar el primer hermano\n",
    "        x = s[-1]\n",
    "        for j in range(1, d+1):\n",
    "            if x + j < len(nenufares):\n",
    "                candidato = x + j\n",
    "                break\n",
    "        s.append(candidato)\n",
    "    else:\n",
    "        # coger el siguiente hermano\n",
    "        x = s[-2]\n",
    "        y = s[-1]\n",
    "        for j in range(1, d+1):\n",
    "            if x + j < len(nenufares) and x + j > y:\n",
    "                candidato = x + j\n",
    "                break\n",
    "        s[-1] = candidato\n",
    "\n",
    "def masHermanos(nivel, s, d):\n",
    "    x = s[-2]\n",
    "    y = s[-1]\n",
    "    return y != len(nenufares) - 1 and y - x < d\n",
    "        \n",
    "    "
   ]
  },
  {
   "cell_type": "code",
   "execution_count": 3,
   "id": "6e9ffb62-0e44-47e8-9d23-78f2a0e2f477",
   "metadata": {},
   "outputs": [
    {
     "data": {
      "text/plain": [
       "[0, 2, 5, 7, 10]"
      ]
     },
     "execution_count": 3,
     "metadata": {},
     "output_type": "execute_result"
    }
   ],
   "source": [
    "nenufares = [1, 0, 1, 1, 0, 1, 0, 1, 1, 0, 1]\n",
    "d = 3\n",
    "rana_backtracking(nenufares, d)"
   ]
  },
  {
   "cell_type": "code",
   "execution_count": 4,
   "id": "1acddeb0-2f24-427a-aaa6-2e46380c3a14",
   "metadata": {},
   "outputs": [],
   "source": [
    "def rana_backtracking(nenufares, d):\n",
    "    s = [0]\n",
    "    nivel = 1\n",
    "    voa = float(\"inf\")\n",
    "    soa = None\n",
    "    n = len(nenufares)\n",
    "    S = []\n",
    "    \n",
    "    while (nivel!=0):\n",
    "\n",
    "        generar(nivel, s, d, nenufares)\n",
    "        if s[-1] == n - 1 and len(s) < voa:\n",
    "            voa = len(s)\n",
    "            soa = s.copy()\n",
    "            S = [soa.copy()]\n",
    "        elif s[-1] == n - 1 and len(s) == voa:\n",
    "            S.append(s.copy())\n",
    "\n",
    "        if nenufares[s[-1]] == 1 and s[-1] < len(nenufares) - 1:\n",
    "            nivel += 1\n",
    "\n",
    "        else:\n",
    "            while (nivel > 0) and (not masHermanos(nivel, s, d)):\n",
    "                nivel -= 1\n",
    "                s.pop()\n",
    "    return S\n",
    "\n",
    "def generar(nivel, s, d, nenufares):\n",
    "    if len(s) == nivel:\n",
    "        # coger el primero\n",
    "        x = s[-1]\n",
    "        for j in range(1, d+1):\n",
    "            if x + j < len(nenufares):\n",
    "                candidato = x + j\n",
    "                break\n",
    "        s.append(candidato)\n",
    "    else:\n",
    "        # coger el segundo\n",
    "        x = s[-2]\n",
    "        y = s[-1]\n",
    "        for j in range(1, d+1):\n",
    "            if x + j < len(nenufares) and x + j > y:\n",
    "                candidato = x + j\n",
    "                break\n",
    "        s[-1] = candidato\n",
    "\n",
    "def masHermanos(nivel, s, d):\n",
    "    x = s[-2]\n",
    "    y = s[-1]\n",
    "    return y != len(nenufares) - 1 and y - x < d"
   ]
  },
  {
   "cell_type": "code",
   "execution_count": 5,
   "id": "af3c4ed9-6074-4e57-bb69-50a49c675bfc",
   "metadata": {},
   "outputs": [
    {
     "data": {
      "text/plain": [
       "[[0, 2, 5, 7, 10], [0, 2, 5, 8, 10], [0, 3, 5, 7, 10], [0, 3, 5, 8, 10]]"
      ]
     },
     "execution_count": 5,
     "metadata": {},
     "output_type": "execute_result"
    }
   ],
   "source": [
    "nenufares = [1, 0, 1, 1, 0, 1, 0, 1, 1, 0, 1]\n",
    "d = 3\n",
    "rana_backtracking(nenufares, d)"
   ]
  }
 ],
 "metadata": {
  "kernelspec": {
   "display_name": "Python 3 (ipykernel)",
   "language": "python",
   "name": "python3"
  },
  "language_info": {
   "codemirror_mode": {
    "name": "ipython",
    "version": 3
   },
   "file_extension": ".py",
   "mimetype": "text/x-python",
   "name": "python",
   "nbconvert_exporter": "python",
   "pygments_lexer": "ipython3",
   "version": "3.9.21"
  }
 },
 "nbformat": 4,
 "nbformat_minor": 5
}
