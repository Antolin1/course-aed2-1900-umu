{
 "cells": [
  {
   "cell_type": "code",
   "execution_count": 25,
   "id": "3b8b9150-dd49-495a-a587-003f77137247",
   "metadata": {},
   "outputs": [],
   "source": [
    "def solucion(B, nivel, s):\n",
    "    if len(B) < nivel:\n",
    "        return False\n",
    "    for i in range(0, nivel - 1):\n",
    "        if s[i] == s[nivel - 1]:\n",
    "            return False\n",
    "    return True\n",
    "\n",
    "def criterio(B, nivel, s):\n",
    "    for i in range(0, nivel - 1):\n",
    "        if s[i] == s[nivel - 1]:\n",
    "            return False\n",
    "    return nivel < len(B)\n",
    "\n",
    "def asignacion_trabajos(B):\n",
    "    nivel = 1\n",
    "    s = [0] * len(B)\n",
    "    voa = -float(\"inf\")\n",
    "    soa = None\n",
    "    beneficio_actual = 0\n",
    "\n",
    "    while nivel != 0:\n",
    "        # genero un hermano\n",
    "        s[nivel - 1] += 1\n",
    "        if s[nivel - 1] == 1:\n",
    "            beneficio_actual += B[nivel - 1][s[nivel - 1] - 1]\n",
    "        else:\n",
    "            beneficio_actual += B[nivel - 1][s[nivel - 1] - 1]\n",
    "            beneficio_actual -= B[nivel - 1][s[nivel - 1] - 2]\n",
    "\n",
    "\n",
    "        # si he encontrado una solución que mejora a voa\n",
    "        # lo guardo\n",
    "        if solucion(B, nivel, s) and beneficio_actual > voa:\n",
    "            voa = beneficio_actual\n",
    "            soa = s.copy()\n",
    "\n",
    "        # si podríamos llegar a la solución final, seguimos\n",
    "        if criterio(B, nivel, s):\n",
    "            nivel += 1\n",
    "        else:\n",
    "        # en caso contario, retrocedo hasta que encuentre un nodo con más hermanos\n",
    "        # por explorar\n",
    "            while nivel > 0 and (not s[nivel-1] < len(B)):\n",
    "                beneficio_actual -= B[nivel - 1][s[nivel - 1] - 1]\n",
    "                s[nivel - 1] = 0\n",
    "                nivel -= 1\n",
    "    return soa, voa"
   ]
  },
  {
   "cell_type": "code",
   "execution_count": 26,
   "id": "fb256a5c-d67c-4e22-b84f-16e8902f5d7a",
   "metadata": {},
   "outputs": [
    {
     "data": {
      "text/plain": [
       "([2, 1, 3], 21)"
      ]
     },
     "execution_count": 26,
     "metadata": {},
     "output_type": "execute_result"
    }
   ],
   "source": [
    "B = [[4, 9, 1],\n",
    "    [7, 2, 3],\n",
    "    [6, 3, 5]]\n",
    "asignacion_trabajos(B)"
   ]
  },
  {
   "cell_type": "code",
   "execution_count": 27,
   "id": "e72468ea-ba84-44a3-b203-a7f549146d74",
   "metadata": {},
   "outputs": [],
   "source": [
    "def solucion_optimizada(B, nivel, s, asignadas):\n",
    "    return asignadas[s[nivel - 1] - 1] == 1 and len(B) == nivel\n",
    "\n",
    "def criterio_optimizada(B, nivel, s, asignadas):\n",
    "    return nivel < len(B) and asignadas[s[nivel - 1] - 1] == 1\n",
    "\n",
    "def asignacion_trabajos_optimizada(B):\n",
    "    nivel = 1\n",
    "    s = [0] * len(B)\n",
    "    voa = -float(\"inf\")\n",
    "    soa = None\n",
    "    beneficio_actual = 0\n",
    "    asignadas = [0]*len(B)\n",
    "\n",
    "    while nivel != 0:\n",
    "        # genero un hermano\n",
    "        s[nivel - 1] += 1\n",
    "        if s[nivel - 1] == 1:\n",
    "            beneficio_actual += B[nivel - 1][s[nivel - 1] - 1]\n",
    "        else:\n",
    "            asignadas[s[nivel-1]-2] -= 1\n",
    "            beneficio_actual += B[nivel - 1][s[nivel - 1] - 1]\n",
    "            beneficio_actual -= B[nivel - 1][s[nivel - 1] - 2]\n",
    "        asignadas[s[nivel-1]-1] += 1\n",
    "\n",
    "\n",
    "        # si he encontrado una solución que mejora a voa\n",
    "        # lo guardo\n",
    "        if solucion_optimizada(B, nivel, s, asignadas) and beneficio_actual > voa:\n",
    "            voa = beneficio_actual\n",
    "            soa = s.copy()\n",
    "\n",
    "        # si podríamos llegar a la solución final, seguimos\n",
    "        if criterio_optimizado(B, nivel, s, asignadas):\n",
    "            nivel += 1\n",
    "        else:\n",
    "        # en caso contario, retrocedo hasta que encuentre un nodo con más hermanos\n",
    "        # por explorar\n",
    "            while nivel > 0 and (not s[nivel-1] < len(B)):\n",
    "                beneficio_actual -= B[nivel - 1][s[nivel - 1] - 1]\n",
    "                asignadas[s[nivel - 1] - 1] -= 1\n",
    "                s[nivel - 1] = 0\n",
    "                nivel -= 1\n",
    "    return soa, voa"
   ]
  },
  {
   "cell_type": "code",
   "execution_count": 28,
   "id": "2fec8573-f080-4a77-8562-6fa613413480",
   "metadata": {},
   "outputs": [
    {
     "data": {
      "text/plain": [
       "([2, 1, 3], 21)"
      ]
     },
     "execution_count": 28,
     "metadata": {},
     "output_type": "execute_result"
    }
   ],
   "source": [
    "B = [[4, 9, 1],\n",
    "    [7, 2, 3],\n",
    "    [6, 3, 5]]\n",
    "asignacion_trabajos_optimizada(B)"
   ]
  }
 ],
 "metadata": {
  "kernelspec": {
   "display_name": "Python 3 (ipykernel)",
   "language": "python",
   "name": "python3"
  },
  "language_info": {
   "codemirror_mode": {
    "name": "ipython",
    "version": 3
   },
   "file_extension": ".py",
   "mimetype": "text/x-python",
   "name": "python",
   "nbconvert_exporter": "python",
   "pygments_lexer": "ipython3",
   "version": "3.9.21"
  }
 },
 "nbformat": 4,
 "nbformat_minor": 5
}
